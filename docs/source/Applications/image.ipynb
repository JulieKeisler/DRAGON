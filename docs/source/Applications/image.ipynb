{
 "cells": [
  {
   "attachments": {},
   "cell_type": "markdown",
   "metadata": {},
   "source": [
    "# Image Classification\n",
    "\n",
    "We show in this tutorial how to use DRAGON for image classification task. We need to create a search space with two graphs, one treating 2D data, and a second one treating 1D data.\n",
    "\n",
    "## Loading the dataset"
   ]
  },
  {
   "cell_type": "code",
   "execution_count": 1,
   "metadata": {},
   "outputs": [
    {
     "data": {
      "image/png": "[encoded data removed]",
      "text/plain": [
       "<Figure size 720x216 with 4 Axes>"
      ]
     },
     "metadata": {
      "needs_background": "light"
     },
     "output_type": "display_data"
    }
   ],
   "source": [
    "from sklearn.datasets import load_digits\n",
    "import matplotlib.pyplot as plt\n",
    "\n",
    "digits = load_digits()\n",
    "\n",
    "_, axes = plt.subplots(nrows=1, ncols=4, figsize=(10, 3))\n",
    "for ax, image, label in zip(axes, digits.images, digits.target):\n",
    "    ax.set_axis_off()\n",
    "    ax.imshow(image, cmap=plt.cm.gray_r, interpolation=\"nearest\")\n",
    "    ax.set_title(\"Training: %i\" % label)\n"
   ]
  },
  {
   "cell_type": "code",
   "execution_count": 2,
   "metadata": {},
   "outputs": [
    {
     "name": "stdout",
     "output_type": "stream",
     "text": [
      "X_train: (898, 8, 8), y_train: (898,), X_val: (899, 8, 8), y_val: (899,)\n"
     ]
    }
   ],
   "source": [
    "from sklearn.model_selection import train_test_split\n",
    "\n",
    "\n",
    "X_train, X_test, y_train, y_test = train_test_split(\n",
    "    digits.images, digits.target, test_size=0.5, shuffle=False\n",
    ")\n",
    "print(f\"X_train: {X_train.shape}, y_train: {y_train.shape}, X_val: {X_test.shape}, y_val: {y_test.shape}\")"
   ]
  },
  {
   "attachments": {},
   "cell_type": "markdown",
   "metadata": {},
   "source": [
    "## Defining the Loss function\n",
    "\n",
    "#### DNN definition"
   ]
  },
  {
   "cell_type": "code",
   "execution_count": 3,
   "metadata": {},
   "outputs": [],
   "source": [
    "import torch\n",
    "import torch.nn as nn\n",
    "import numpy as np\n",
    "import os \n",
    "from dragon.search_space.cells import WeightsAdjCell, set_node, set_cell\n",
    "\n",
    "class ClassificationDNN(nn.Module):\n",
    "    def __init__(self, args, input_shape) -> None:\n",
    "        super().__init__()\n",
    "        self.input_shape = input_shape\n",
    "        set_cell(args['2D Dag'], self.input_shape)\n",
    "        self.dag_2d = WeightsAdjCell(args['2D Dag'])\n",
    "\n",
    "        flat_shape = (np.prod(self.dag_2d.output_shape),)\n",
    "        set_cell(args['1D Dag'], flat_shape)\n",
    "        self.dag_1d = WeightsAdjCell(args['1D Dag'])\n",
    "\n",
    "        self.output = args[\"Out\"]\n",
    "        set_node(self.output, self.dag_1d.output_shape)\n",
    "\n",
    "    def forward(self, X, **kwargs):\n",
    "        out_2d = self.dag_2d(X)\n",
    "        flat = nn.Flatten()(out_2d)\n",
    "        out_1d = self.dag_1d(flat)\n",
    "        out = self.output(out_1d)\n",
    "        return out\n",
    "\n",
    "    def save(self, path):\n",
    "        if not os.path.exists(path):\n",
    "            os.makedirs(path)\n",
    "        full_path = os.path.join(path, \"best_model.pth\")\n",
    "        torch.save(self.state_dict(), full_path)"
   ]
  },
  {
   "attachments": {},
   "cell_type": "markdown",
   "metadata": {},
   "source": [
    "### Search Space Definition"
   ]
  },
  {
   "cell_type": "code",
   "execution_count": 4,
   "metadata": {},
   "outputs": [],
   "source": [
    "from dragon.search_space.variables import mlp_var, dropout, identity_var, operations_1d_var, operations_2d_var, mlp_const_var, conv_2d, pooling_2d, dag_var, node_var\n",
    "from dragon.search_space.zellij_variables import ArrayVar\n",
    "from dragon.search_algorithm.zellij_neighborhoods import ArrayInterval\n",
    "\n",
    "candidate_operations_2d = operations_2d_var(\"2D Candidate operations\", size=10, \n",
    "                                            candidates=[mlp_var(\"MLP\"), identity_var(\"Identity\"), dropout('Dropout'), conv_2d('Conv 2d', max_out=8), pooling_2d(\"Pooling\")])\n",
    "dag_2d = dag_var(\"2D Dag\", candidate_operations_2d)\n",
    "\n",
    "candidate_operations_1d = operations_1d_var(\"1D Candidate operations\", size=10, \n",
    "                                            candidates=[mlp_var(\"MLP\"), identity_var(\"Identity\"), dropout('Dropout')])\n",
    "dag_1d = dag_var(\"1D Dag\", candidate_operations_1d)\n",
    "out = node_var(\"Out\", operation=mlp_const_var('Operation', 10), activation_function=nn.Softmax())\n",
    "\n",
    "search_space = ArrayVar(dag_2d, dag_1d, out, label=\"Search Space\", neighbor=ArrayInterval())\n",
    "\n",
    "p1, p2 = search_space.random(2)"
   ]
  },
  {
   "attachments": {},
   "cell_type": "markdown",
   "metadata": {},
   "source": [
    "### DNN Training"
   ]
  },
  {
   "cell_type": "code",
   "execution_count": 5,
   "metadata": {},
   "outputs": [
    {
     "name": "stdout",
     "output_type": "stream",
     "text": [
      "  epoch    train_loss    valid_acc    valid_loss     dur\n",
      "-------  ------------  -----------  ------------  ------\n",
      "      1        \u001b[36m3.0396\u001b[0m       \u001b[32m0.1278\u001b[0m        \u001b[35m2.3028\u001b[0m  1.5242\n",
      "      2        \u001b[36m2.2994\u001b[0m       0.1111        \u001b[35m2.3022\u001b[0m  1.9906\n",
      "      3        2.3002       0.1167        \u001b[35m2.3021\u001b[0m  2.5738\n",
      "      4        \u001b[36m2.2927\u001b[0m       0.1222        \u001b[35m2.2986\u001b[0m  1.2579\n",
      "      5        2.3047       0.1167        2.3014  1.4592\n",
      "      6        2.2941       0.1000        2.2997  1.5178\n",
      "      7        \u001b[36m2.2903\u001b[0m       0.1111        \u001b[35m2.2953\u001b[0m  1.5649\n",
      "      8        \u001b[36m2.2843\u001b[0m       \u001b[32m0.1389\u001b[0m        \u001b[35m2.2913\u001b[0m  1.2581\n",
      "      9        \u001b[36m2.2654\u001b[0m       0.1167        \u001b[35m2.2873\u001b[0m  2.3742\n",
      "     10        2.2700       0.1111        2.2905  1.2845\n",
      "  epoch    train_loss    valid_acc    valid_loss     dur\n",
      "-------  ------------  -----------  ------------  ------\n",
      "      1        \u001b[36m3.6477\u001b[0m       \u001b[32m0.2167\u001b[0m        \u001b[35m2.2485\u001b[0m  4.3544\n",
      "      2        \u001b[36m2.1965\u001b[0m       \u001b[32m0.2667\u001b[0m        \u001b[35m2.1473\u001b[0m  4.2814\n",
      "      3        \u001b[36m1.8851\u001b[0m       \u001b[32m0.3667\u001b[0m        \u001b[35m1.8128\u001b[0m  4.4394\n",
      "      4        \u001b[36m1.6035\u001b[0m       \u001b[32m0.4111\u001b[0m        \u001b[35m1.7930\u001b[0m  3.9576\n",
      "      5        \u001b[36m1.1811\u001b[0m       \u001b[32m0.7333\u001b[0m        \u001b[35m1.0175\u001b[0m  5.3613\n",
      "      6        \u001b[36m0.6100\u001b[0m       0.7278        \u001b[35m0.8035\u001b[0m  5.2081\n",
      "      7        \u001b[36m0.4264\u001b[0m       \u001b[32m0.8056\u001b[0m        \u001b[35m0.6710\u001b[0m  4.5796\n",
      "      8        \u001b[36m0.2858\u001b[0m       \u001b[32m0.8444\u001b[0m        \u001b[35m0.5791\u001b[0m  4.5033\n",
      "      9        \u001b[36m0.2310\u001b[0m       0.8278        \u001b[35m0.5608\u001b[0m  4.8213\n",
      "     10        \u001b[36m0.2160\u001b[0m       0.8056        0.7087  5.6273\n",
      "P1 ==> accuracy:  13.68 %\n",
      "\n",
      "P2 ==> accuracy:  85.21 %\n"
     ]
    }
   ],
   "source": [
    "import numpy as np\n",
    "from skorch import NeuralNetClassifier\n",
    "from sklearn.metrics import accuracy_score\n",
    "from dragon.utils.tools import set_seed\n",
    "\n",
    "def train_and_predict(args, *kwargs, verbose=False):\n",
    "    set_seed(0)\n",
    "    labels = [e.label for e in search_space]\n",
    "    args = dict(zip(labels, args))\n",
    "    model = ClassificationDNN(args, input_shape=(8,8,1))\n",
    "    trainer = NeuralNetClassifier(\n",
    "        model,\n",
    "        max_epochs=10,\n",
    "        lr=0.01,\n",
    "        iterator_train__shuffle=True,\n",
    "        verbose=verbose,\n",
    "        \n",
    "    )\n",
    "    trainer.fit(np.expand_dims(X_train.astype(np.float32), axis=-1), y_train.astype(np.int64))\n",
    "    y_pred = trainer.predict(np.expand_dims(X_test.astype(np.float32), axis=-1))\n",
    "    acc = accuracy_score(y_test, y_pred)\n",
    "    return - acc, model # We are optimizing a minimization problem\n",
    "loss_1, model_1 = train_and_predict(p1,verbose=True)\n",
    "loss_2, model_2 = train_and_predict(p2,verbose=True)\n",
    "\n",
    "print(\"P1 ==> accuracy: \", np.round(-loss_1*100,2), \"%\\n\")\n",
    "print(\"P2 ==> accuracy: \", np.round(-loss_2*100,2), \"%\")"
   ]
  },
  {
   "attachments": {},
   "cell_type": "markdown",
   "metadata": {},
   "source": [
    "### Implementing an optimization strategy\n"
   ]
  },
  {
   "cell_type": "code",
   "execution_count": 6,
   "metadata": {},
   "outputs": [
    {
     "name": "stdout",
     "output_type": "stream",
     "text": [
      "2024-09-20 16:38:43,555 | WARNING | Install mpi4py if you want to use the distributed version.\n",
      "2024-09-20 16:38:43,564 | INFO | The whole population has been created (size = 5), 5 have been randomy initialized.\n",
      "2024-09-20 16:38:43,565 | INFO | We start by evaluating the whole population (size=5)\n",
      "2024-09-20 16:39:53,761 | INFO | Best found ! -0.5072302558398221 < inf\n",
      "2024-09-20 16:40:06,813 | INFO | Best found ! -0.5761957730812013 < -0.5072302558398221\n",
      "2024-09-20 16:40:23,679 | INFO | Best found ! -0.8353726362625139 < -0.5761957730812013\n",
      "2024-09-20 16:40:24,647 | INFO | All models have been at least evaluated once, t = 5 < 20.\n",
      "2024-09-20 16:40:24,829 | INFO | Evolving 1 and 3 to 6 and 7\n",
      "2024-09-20 16:40:38,111 | INFO | Replacing 2 by 5\n",
      "2024-09-20 16:40:39,366 | INFO | Replacing 4 by 6\n",
      "2024-09-20 16:40:39,386 | INFO | Best found ! -0.8909899888765295 < -0.8353726362625139\n",
      "2024-09-20 16:40:39,425 | INFO | Evolving 6 and 3 to 8 and 9\n",
      "2024-09-20 16:40:41,067 | INFO | Replacing 5 by 7\n",
      "2024-09-20 16:40:41,072 | INFO | Best found ! -0.9054505005561735 < -0.8909899888765295\n",
      "2024-09-20 16:40:42,447 | INFO | Replacing 0 by 8\n",
      "2024-09-20 16:40:42,532 | INFO | Evolving 8 and 7 to 10 and 11\n",
      "2024-09-20 16:40:44,012 | INFO | Replacing 1 by 9\n",
      "2024-09-20 16:40:46,175 | INFO | Replacing 3 by 10\n",
      "2024-09-20 16:40:46,177 | INFO | Best found ! -0.914349276974416 < -0.9054505005561735\n",
      "2024-09-20 16:40:46,206 | INFO | Evolving 10 and 7 to 12 and 13\n",
      "2024-09-20 16:40:47,729 | INFO | Replacing 9 by 11\n",
      "2024-09-20 16:40:49,273 | INFO | Replacing 6 by 12\n",
      "2024-09-20 16:40:49,339 | INFO | Evolving 12 and 11 to 14 and 15\n",
      "2024-09-20 16:40:51,042 | INFO | Replacing 8 by 13\n",
      "2024-09-20 16:40:51,084 | INFO | Best found ! -0.9165739710789766 < -0.914349276974416\n",
      "2024-09-20 16:40:52,295 | INFO | Replacing 7 by 14\n",
      "2024-09-20 16:40:52,297 | INFO | Best found ! -0.92880978865406 < -0.9165739710789766\n",
      "2024-09-20 16:40:52,353 | INFO | Evolving 12 and 14 to 16 and 17\n",
      "2024-09-20 16:40:53,678 | INFO | Replacing 11 by 15\n",
      "2024-09-20 16:40:55,823 | INFO | Replacing 10 by 16\n",
      "2024-09-20 16:40:55,924 | INFO | Best found ! -0.932146829810901 < -0.92880978865406\n",
      "2024-09-20 16:40:55,976 | INFO | Evolving 16 and 14 to 18 and 19\n",
      "2024-09-20 16:40:57,371 | INFO | Replacing 12 by 17\n",
      "2024-09-20 16:40:57,374 | INFO | Best found ! -0.9365962180200222 < -0.932146829810901\n",
      "2024-09-20 16:40:58,237 | INFO | Replacing 13 by 18\n",
      "2024-09-20 16:40:58,405 | INFO | Evolving 16 and 17 to 20 and 21\n",
      "2024-09-20 16:40:59,398 | INFO | Replacing 15 by 19\n",
      "2024-09-20 16:41:01,104 | INFO | Replacing 14 by 20\n",
      "2024-09-20 16:41:01,223 | INFO | Best found ! -0.9410456062291435 < -0.9365962180200222\n",
      "Best score: 94.1%\n",
      "Computation time: 137.67 seconds\n"
     ]
    }
   ],
   "source": [
    "import time\n",
    "from dragon.search_algorithm.ssea import SteadyStateEA\n",
    "\n",
    "search_algorithm = SteadyStateEA(search_space, n_iterations=20, population_size=5, selection_size=3, evaluation=train_and_predict, save_dir=\"save/test_image/\")\n",
    "start_time = time.time()\n",
    "min_loss = search_algorithm.run()\n",
    "end_time = time.time() - start_time\n",
    "print(f\"Best score: {np.round(-min_loss*100,2)}%\\nComputation time: {np.round(end_time,2)} seconds\")"
   ]
  },
  {
   "attachments": {},
   "cell_type": "markdown",
   "metadata": {},
   "source": [
    "Starting with a completely random sets of DNNs, we managed in a few minutes to converge towards an accuracy higher than 92%."
   ]
  },
  {
   "cell_type": "code",
   "execution_count": 7,
   "metadata": {},
   "outputs": [
    {
     "name": "stdout",
     "output_type": "stream",
     "text": [
      "Final accuracy:  94.1 %\n",
      "\n"
     ]
    }
   ],
   "source": [
    "from dragon.utils.plot_functions import load_archi\n",
    "set_seed(0)\n",
    "best_args =load_archi('save/test_image/best_model/x.pkl')\n",
    "labels = [e.label for e in search_space]\n",
    "best_args = dict(zip(labels, best_args))\n",
    "model = ClassificationDNN(best_args, (8,8,1))\n",
    "model.load_state_dict(torch.load('save/test_image/best_model/best_model.pth'))\n",
    "\n",
    "model = NeuralNetClassifier(\n",
    "    model,\n",
    "    max_epochs=1,\n",
    "    lr=0.0001,\n",
    "    iterator_train__shuffle=True,\n",
    "    verbose=False,\n",
    "    \n",
    ")\n",
    "model.fit(np.expand_dims(X_train.astype(np.float32), axis=-1), y_train.astype(np.int64))\n",
    "y_pred = model.predict(np.expand_dims(X_test.astype(np.float32), axis=-1))\n",
    "acc = accuracy_score(y_test, y_pred)\n",
    "\n",
    "print(\"Final accuracy: \", np.round(acc*100,2), \"%\\n\")"
   ]
  },
  {
   "cell_type": "code",
   "execution_count": 8,
   "metadata": {},
   "outputs": [
    {
     "data": {
      "image/png": "[encoded data removed]",
      "text/plain": [
       "<Figure size 432x288 with 2 Axes>"
      ]
     },
     "metadata": {
      "needs_background": "light"
     },
     "output_type": "display_data"
    }
   ],
   "source": [
    "from sklearn import metrics\n",
    "disp = metrics.ConfusionMatrixDisplay.from_predictions(y_test, y_pred)\n",
    "disp.figure_.suptitle(\"Confusion Matrix\")\n",
    "plt.show()"
   ]
  },
  {
   "cell_type": "code",
   "execution_count": 11,
   "metadata": {},
   "outputs": [
    {
     "name": "stdout",
     "output_type": "stream",
     "text": [
      "Model giving a score of 94.1%:\n"
     ]
    },
    {
     "data": {
      "image/svg+xml": [
       "<?xml version=\"1.0\" encoding=\"UTF-8\" standalone=\"no\"?>\n",
       "<!DOCTYPE svg PUBLIC \"-//W3C//DTD SVG 1.1//EN\"\n",
       " \"http://www.w3.org/Graphics/SVG/1.1/DTD/svg11.dtd\">\n",
       "<!-- Generated by graphviz version 2.40.1 (20161225.0304)\n",
       " -->\n",
       "<!-- Title: save/test_image/best_archi Pages: 1 -->\n",
       "<svg width=\"595pt\" height=\"620pt\"\n",
       " viewBox=\"0.00 0.00 594.50 620.00\" xmlns=\"http://www.w3.org/2000/svg\" xmlns:xlink=\"http://www.w3.org/1999/xlink\">\n",
       "<g id=\"graph0\" class=\"graph\" transform=\"scale(1 1) rotate(0) translate(4 616)\">\n",
       "<title>save/test_image/best_archi</title>\n",
       "<polygon fill=\"#ffffff\" stroke=\"transparent\" points=\"-4,4 -4,-616 590.5,-616 590.5,4 -4,4\"/>\n",
       "<!-- MNIST -->\n",
       "<g id=\"node1\" class=\"node\">\n",
       "<title>MNIST</title>\n",
       "<path fill=\"#ef5675\" stroke=\"#000000\" d=\"M378,-612C378,-612 322,-612 322,-612 316,-612 310,-606 310,-600 310,-600 310,-588 310,-588 310,-582 316,-576 322,-576 322,-576 378,-576 378,-576 384,-576 390,-582 390,-588 390,-588 390,-600 390,-600 390,-606 384,-612 378,-612\"/>\n",
       "<text text-anchor=\"middle\" x=\"350\" y=\"-589\" font-family=\"sans-serif\" font-size=\"20.00\" fill=\"#ececec\">MNIST</text>\n",
       "</g>\n",
       "<!-- mul,Dropout,0.06273409604250535,GELU -->\n",
       "<g id=\"node2\" class=\"node\">\n",
       "<title>mul,Dropout,0.06273409604250535,GELU</title>\n",
       "<path fill=\"#ffa600\" stroke=\"#000000\" d=\"M436,-540C436,-540 12,-540 12,-540 6,-540 0,-534 0,-528 0,-528 0,-516 0,-516 0,-510 6,-504 12,-504 12,-504 436,-504 436,-504 442,-504 448,-510 448,-516 448,-516 448,-528 448,-528 448,-534 442,-540 436,-540\"/>\n",
       "<text text-anchor=\"middle\" x=\"224\" y=\"-517\" font-family=\"sans-serif\" font-size=\"20.00\" fill=\"#000000\">mul,Dropout,0.06273409604250535,GELU</text>\n",
       "</g>\n",
       "<!-- MNIST&#45;&gt;mul,Dropout,0.06273409604250535,GELU -->\n",
       "<g id=\"edge1\" class=\"edge\">\n",
       "<title>MNIST&#45;&gt;mul,Dropout,0.06273409604250535,GELU</title>\n",
       "<path fill=\"none\" stroke=\"#000000\" d=\"M318.2049,-575.8314C301.9395,-566.5368 281.9614,-555.1208 264.5949,-545.1971\"/>\n",
       "<polygon fill=\"#000000\" stroke=\"#000000\" points=\"266.2039,-542.0854 255.7849,-540.1628 262.7309,-548.1631 266.2039,-542.0854\"/>\n",
       "</g>\n",
       "<!-- add,Conv2d,6,27,same,True,Tanh -->\n",
       "<g id=\"node3\" class=\"node\">\n",
       "<title>add,Conv2d,6,27,same,True,Tanh</title>\n",
       "<path fill=\"#ffa600\" stroke=\"#000000\" d=\"M517,-468C517,-468 183,-468 183,-468 177,-468 171,-462 171,-456 171,-456 171,-444 171,-444 171,-438 177,-432 183,-432 183,-432 517,-432 517,-432 523,-432 529,-438 529,-444 529,-444 529,-456 529,-456 529,-462 523,-468 517,-468\"/>\n",
       "<text text-anchor=\"middle\" x=\"350\" y=\"-445\" font-family=\"sans-serif\" font-size=\"20.00\" fill=\"#000000\">add,Conv2d,6,27,same,True,Tanh</text>\n",
       "</g>\n",
       "<!-- MNIST&#45;&gt;add,Conv2d,6,27,same,True,Tanh -->\n",
       "<g id=\"edge2\" class=\"edge\">\n",
       "<title>MNIST&#45;&gt;add,Conv2d,6,27,same,True,Tanh</title>\n",
       "<path fill=\"none\" stroke=\"#000000\" d=\"M390.0522,-584.99C413.9674,-577.3257 442.44,-563.6572 457,-540 465.3863,-526.3739 465.3863,-517.6261 457,-504 448.7691,-490.6264 436.0921,-480.4449 422.3057,-472.7357\"/>\n",
       "<polygon fill=\"#000000\" stroke=\"#000000\" points=\"423.6158,-469.4739 413.1215,-468.0179 420.4173,-475.7005 423.6158,-469.4739\"/>\n",
       "</g>\n",
       "<!-- mul,Dropout,0.06273409604250535,GELU&#45;&gt;add,Conv2d,6,27,same,True,Tanh -->\n",
       "<g id=\"edge3\" class=\"edge\">\n",
       "<title>mul,Dropout,0.06273409604250535,GELU&#45;&gt;add,Conv2d,6,27,same,True,Tanh</title>\n",
       "<path fill=\"none\" stroke=\"#000000\" d=\"M255.7951,-503.8314C272.0605,-494.5368 292.0386,-483.1208 309.4051,-473.1971\"/>\n",
       "<polygon fill=\"#000000\" stroke=\"#000000\" points=\"311.2691,-476.1631 318.2151,-468.1628 307.7961,-470.0854 311.2691,-476.1631\"/>\n",
       "</g>\n",
       "<!-- Flatten -->\n",
       "<g id=\"node4\" class=\"node\">\n",
       "<title>Flatten</title>\n",
       "<path fill=\"#ef5675\" stroke=\"#000000\" d=\"M382.5,-396C382.5,-396 317.5,-396 317.5,-396 311.5,-396 305.5,-390 305.5,-384 305.5,-384 305.5,-372 305.5,-372 305.5,-366 311.5,-360 317.5,-360 317.5,-360 382.5,-360 382.5,-360 388.5,-360 394.5,-366 394.5,-372 394.5,-372 394.5,-384 394.5,-384 394.5,-390 388.5,-396 382.5,-396\"/>\n",
       "<text text-anchor=\"middle\" x=\"350\" y=\"-373\" font-family=\"sans-serif\" font-size=\"20.00\" fill=\"#ececec\">Flatten</text>\n",
       "</g>\n",
       "<!-- add,Conv2d,6,27,same,True,Tanh&#45;&gt;Flatten -->\n",
       "<g id=\"edge4\" class=\"edge\">\n",
       "<title>add,Conv2d,6,27,same,True,Tanh&#45;&gt;Flatten</title>\n",
       "<path fill=\"none\" stroke=\"#000000\" d=\"M350,-431.8314C350,-424.131 350,-414.9743 350,-406.4166\"/>\n",
       "<polygon fill=\"#000000\" stroke=\"#000000\" points=\"353.5001,-406.4132 350,-396.4133 346.5001,-406.4133 353.5001,-406.4132\"/>\n",
       "</g>\n",
       "<!-- concat,Identity,Tanh -->\n",
       "<g id=\"node5\" class=\"node\">\n",
       "<title>concat,Identity,Tanh</title>\n",
       "<path fill=\"#ffa600\" stroke=\"#000000\" d=\"M381,-324C381,-324 179,-324 179,-324 173,-324 167,-318 167,-312 167,-312 167,-300 167,-300 167,-294 173,-288 179,-288 179,-288 381,-288 381,-288 387,-288 393,-294 393,-300 393,-300 393,-312 393,-312 393,-318 387,-324 381,-324\"/>\n",
       "<text text-anchor=\"middle\" x=\"280\" y=\"-301\" font-family=\"sans-serif\" font-size=\"20.00\" fill=\"#000000\">concat,Identity,Tanh</text>\n",
       "</g>\n",
       "<!-- Flatten&#45;&gt;concat,Identity,Tanh -->\n",
       "<g id=\"edge5\" class=\"edge\">\n",
       "<title>Flatten&#45;&gt;concat,Identity,Tanh</title>\n",
       "<path fill=\"none\" stroke=\"#000000\" d=\"M332.336,-359.8314C324.0268,-351.2848 313.9736,-340.9443 304.9082,-331.6198\"/>\n",
       "<polygon fill=\"#000000\" stroke=\"#000000\" points=\"307.3821,-329.1435 297.9018,-324.4133 302.3631,-334.023 307.3821,-329.1435\"/>\n",
       "</g>\n",
       "<!-- add,Dropout,0.27732471648868073,Identity -->\n",
       "<g id=\"node6\" class=\"node\">\n",
       "<title>add,Dropout,0.27732471648868073,Identity</title>\n",
       "<path fill=\"#ffa600\" stroke=\"#000000\" d=\"M574.5,-252C574.5,-252 125.5,-252 125.5,-252 119.5,-252 113.5,-246 113.5,-240 113.5,-240 113.5,-228 113.5,-228 113.5,-222 119.5,-216 125.5,-216 125.5,-216 574.5,-216 574.5,-216 580.5,-216 586.5,-222 586.5,-228 586.5,-228 586.5,-240 586.5,-240 586.5,-246 580.5,-252 574.5,-252\"/>\n",
       "<text text-anchor=\"middle\" x=\"350\" y=\"-229\" font-family=\"sans-serif\" font-size=\"20.00\" fill=\"#000000\">add,Dropout,0.27732471648868073,Identity</text>\n",
       "</g>\n",
       "<!-- Flatten&#45;&gt;add,Dropout,0.27732471648868073,Identity -->\n",
       "<g id=\"edge6\" class=\"edge\">\n",
       "<title>Flatten&#45;&gt;add,Dropout,0.27732471648868073,Identity</title>\n",
       "<path fill=\"none\" stroke=\"#000000\" d=\"M374.5801,-359.7772C385.1482,-350.4022 396.3543,-338.0021 402,-324 407.9832,-309.1608 407.9832,-302.8392 402,-288 397.6775,-277.2796 390.0956,-267.4983 382.0361,-259.2948\"/>\n",
       "<polygon fill=\"#000000\" stroke=\"#000000\" points=\"384.2442,-256.5652 374.5801,-252.2228 379.427,-261.644 384.2442,-256.5652\"/>\n",
       "</g>\n",
       "<!-- concat,Identity,Tanh&#45;&gt;add,Dropout,0.27732471648868073,Identity -->\n",
       "<g id=\"edge7\" class=\"edge\">\n",
       "<title>concat,Identity,Tanh&#45;&gt;add,Dropout,0.27732471648868073,Identity</title>\n",
       "<path fill=\"none\" stroke=\"#000000\" d=\"M297.664,-287.8314C305.9732,-279.2848 316.0264,-268.9443 325.0918,-259.6198\"/>\n",
       "<polygon fill=\"#000000\" stroke=\"#000000\" points=\"327.6369,-262.023 332.0982,-252.4133 322.6179,-257.1435 327.6369,-262.023\"/>\n",
       "</g>\n",
       "<!-- concat,Identity,Sigmoid -->\n",
       "<g id=\"node7\" class=\"node\">\n",
       "<title>concat,Identity,Sigmoid</title>\n",
       "<path fill=\"#ffa600\" stroke=\"#000000\" d=\"M389,-180C389,-180 153,-180 153,-180 147,-180 141,-174 141,-168 141,-168 141,-156 141,-156 141,-150 147,-144 153,-144 153,-144 389,-144 389,-144 395,-144 401,-150 401,-156 401,-156 401,-168 401,-168 401,-174 395,-180 389,-180\"/>\n",
       "<text text-anchor=\"middle\" x=\"271\" y=\"-157\" font-family=\"sans-serif\" font-size=\"20.00\" fill=\"#000000\">concat,Identity,Sigmoid</text>\n",
       "</g>\n",
       "<!-- add,Dropout,0.27732471648868073,Identity&#45;&gt;concat,Identity,Sigmoid -->\n",
       "<g id=\"edge8\" class=\"edge\">\n",
       "<title>add,Dropout,0.27732471648868073,Identity&#45;&gt;concat,Identity,Sigmoid</title>\n",
       "<path fill=\"none\" stroke=\"#000000\" d=\"M330.065,-215.8314C320.5217,-207.1337 308.9401,-196.5783 298.5694,-187.1265\"/>\n",
       "<polygon fill=\"#000000\" stroke=\"#000000\" points=\"300.6772,-184.3121 290.9287,-180.1628 295.962,-189.4857 300.6772,-184.3121\"/>\n",
       "</g>\n",
       "<!-- add,Identity,Identity -->\n",
       "<g id=\"node8\" class=\"node\">\n",
       "<title>add,Identity,Identity</title>\n",
       "<path fill=\"#ffa600\" stroke=\"#000000\" d=\"M451,-108C451,-108 249,-108 249,-108 243,-108 237,-102 237,-96 237,-96 237,-84 237,-84 237,-78 243,-72 249,-72 249,-72 451,-72 451,-72 457,-72 463,-78 463,-84 463,-84 463,-96 463,-96 463,-102 457,-108 451,-108\"/>\n",
       "<text text-anchor=\"middle\" x=\"350\" y=\"-85\" font-family=\"sans-serif\" font-size=\"20.00\" fill=\"#000000\">add,Identity,Identity</text>\n",
       "</g>\n",
       "<!-- add,Dropout,0.27732471648868073,Identity&#45;&gt;add,Identity,Identity -->\n",
       "<g id=\"edge9\" class=\"edge\">\n",
       "<title>add,Dropout,0.27732471648868073,Identity&#45;&gt;add,Identity,Identity</title>\n",
       "<path fill=\"none\" stroke=\"#000000\" d=\"M379.2184,-215.8172C391.1119,-206.6828 403.5573,-194.4662 410,-180 416.5094,-165.384 416.5094,-158.616 410,-144 404.9666,-132.6983 396.2695,-122.7696 387.0341,-114.611\"/>\n",
       "<polygon fill=\"#000000\" stroke=\"#000000\" points=\"389.165,-111.8319 379.2184,-108.1828 384.7185,-117.2382 389.165,-111.8319\"/>\n",
       "</g>\n",
       "<!-- concat,Identity,Sigmoid&#45;&gt;add,Identity,Identity -->\n",
       "<g id=\"edge10\" class=\"edge\">\n",
       "<title>concat,Identity,Sigmoid&#45;&gt;add,Identity,Identity</title>\n",
       "<path fill=\"none\" stroke=\"#000000\" d=\"M290.935,-143.8314C300.4783,-135.1337 312.0599,-124.5783 322.4306,-115.1265\"/>\n",
       "<polygon fill=\"#000000\" stroke=\"#000000\" points=\"325.038,-117.4857 330.0713,-108.1628 320.3228,-112.3121 325.038,-117.4857\"/>\n",
       "</g>\n",
       "<!-- MLP,10,Identity() -->\n",
       "<g id=\"node9\" class=\"node\">\n",
       "<title>MLP,10,Identity()</title>\n",
       "<path fill=\"#ef5675\" stroke=\"#000000\" d=\"M433.5,-36C433.5,-36 266.5,-36 266.5,-36 260.5,-36 254.5,-30 254.5,-24 254.5,-24 254.5,-12 254.5,-12 254.5,-6 260.5,0 266.5,0 266.5,0 433.5,0 433.5,0 439.5,0 445.5,-6 445.5,-12 445.5,-12 445.5,-24 445.5,-24 445.5,-30 439.5,-36 433.5,-36\"/>\n",
       "<text text-anchor=\"middle\" x=\"350\" y=\"-13\" font-family=\"sans-serif\" font-size=\"20.00\" fill=\"#ececec\">MLP,10,Identity()</text>\n",
       "</g>\n",
       "<!-- add,Identity,Identity&#45;&gt;MLP,10,Identity() -->\n",
       "<g id=\"edge11\" class=\"edge\">\n",
       "<title>add,Identity,Identity&#45;&gt;MLP,10,Identity()</title>\n",
       "<path fill=\"none\" stroke=\"#000000\" d=\"M350,-71.8314C350,-64.131 350,-54.9743 350,-46.4166\"/>\n",
       "<polygon fill=\"#000000\" stroke=\"#000000\" points=\"353.5001,-46.4132 350,-36.4133 346.5001,-46.4133 353.5001,-46.4132\"/>\n",
       "</g>\n",
       "</g>\n",
       "</svg>\n"
      ],
      "text/plain": [
       "<graphviz.dot.Digraph at 0x7f0035d43fd0>"
      ]
     },
     "execution_count": 11,
     "metadata": {},
     "output_type": "execute_result"
    }
   ],
   "source": [
    "import graphviz\n",
    "from dragon.utils.plot_functions import draw_cell, str_operations\n",
    "\n",
    "def draw_graph(n_dag2, m_dag2, n_dag1, m_dag1, output_file, act=\"Identity()\", name=\"MNIST\"):\n",
    "    G = graphviz.Digraph(output_file, format='pdf',\n",
    "                            node_attr={'nodesep': '0.02', 'shape': 'box', 'rankstep': '0.02', 'fontsize': '20', \"fontname\": \"sans-serif\"})\n",
    "\n",
    "    G, g_nodes = draw_cell(G, n_dag2, m_dag2, \"#ffa600\", [], name_input=name,\n",
    "                            color_input=\"#ef5675\")\n",
    "    G.node(\"Flatten\", style=\"rounded,filled\", color=\"black\", fillcolor=\"#CE1C4E\", fontcolor=\"#ECECEC\")\n",
    "    G.edge(g_nodes[-1], \"Flatten\")\n",
    "\n",
    "    G, g_nodes = draw_cell(G, n_dag1, m_dag1, \"#ffa600\", g_nodes, name_input=[\"Flatten\"],\n",
    "                            color_input=\"#ef5675\")\n",
    "\n",
    "    G.node(','.join([\"MLP\", \"10\", act]), style=\"rounded,filled\", color=\"black\", fillcolor=\"#ef5675\", fontcolor=\"#ECECEC\")\n",
    "    G.edge(g_nodes[-1], ','.join([\"MLP\", \"10\", act]))\n",
    "    return G\n",
    "\n",
    "m_dag2 = best_args['2D Dag'].matrix\n",
    "n_dag2 = str_operations(best_args[\"2D Dag\"].operations)\n",
    "\n",
    "m_dag1 = best_args['1D Dag'].matrix\n",
    "n_dag1 = str_operations(best_args[\"1D Dag\"].operations)\n",
    "\n",
    "graph = draw_graph(n_dag2, m_dag2, n_dag1, m_dag1, \"save/test_image/best_archi\")\n",
    "print(f'Model giving a score of {np.round(acc*100,2)}%:')\n",
    "graph"
   ]
  }
 ],
 "metadata": {
  "kernelspec": {
   "display_name": "dragon_env",
   "language": "python",
   "name": "python3"
  },
  "language_info": {
   "codemirror_mode": {
    "name": "ipython",
    "version": 3
   },
   "file_extension": ".py",
   "mimetype": "text/x-python",
   "name": "python",
   "nbconvert_exporter": "python",
   "pygments_lexer": "ipython3",
   "version": "3.8.17"
  },
  "orig_nbformat": 4
 },
 "nbformat": 4,
 "nbformat_minor": 2
}
