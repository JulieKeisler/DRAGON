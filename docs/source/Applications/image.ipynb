{
 "cells": [
  {
   "attachments": {},
   "cell_type": "markdown",
   "metadata": {},
   "source": [
    "# Image Classification\n",
    "\n",
    "We show in this tutorial how to use DRAGON for image classification task. We need to create a search space with two graphs, one treating 2D data, and a second one treating 1D data.\n",
    "\n",
    "## Loading the dataset"
   ]
  },
  {
   "cell_type": "code",
   "execution_count": 1,
   "metadata": {},
   "outputs": [
    {
     "data": {
      "image/png": "[encoded data removed]",
      "text/plain": [
       "<Figure size 1000x300 with 4 Axes>"
      ]
     },
     "metadata": {},
     "output_type": "display_data"
    }
   ],
   "source": [
    "from sklearn.datasets import load_digits\n",
    "import matplotlib.pyplot as plt\n",
    "\n",
    "digits = load_digits()\n",
    "\n",
    "_, axes = plt.subplots(nrows=1, ncols=4, figsize=(10, 3))\n",
    "for ax, image, label in zip(axes, digits.images, digits.target):\n",
    "    ax.set_axis_off()\n",
    "    ax.imshow(image, cmap=plt.cm.gray_r, interpolation=\"nearest\")\n",
    "    ax.set_title(\"Training: %i\" % label)\n"
   ]
  },
  {
   "cell_type": "code",
   "execution_count": 2,
   "metadata": {},
   "outputs": [
    {
     "name": "stdout",
     "output_type": "stream",
     "text": [
      "X_train: (898, 8, 8), y_train: (898,), X_val: (899, 8, 8), y_val: (899,)\n"
     ]
    }
   ],
   "source": [
    "from sklearn.model_selection import train_test_split\n",
    "\n",
    "\n",
    "X_train, X_test, y_train, y_test = train_test_split(\n",
    "    digits.images, digits.target, test_size=0.5, shuffle=False\n",
    ")\n",
    "\n",
    "X_train = X_train/digits.images.max()\n",
    "X_test = X_test/digits.images.max()\n",
    "\n",
    "print(f\"X_train: {X_train.shape}, y_train: {y_train.shape}, X_val: {X_test.shape}, y_val: {y_test.shape}\")"
   ]
  },
  {
   "attachments": {},
   "cell_type": "markdown",
   "metadata": {},
   "source": [
    "## Defining the Loss function\n",
    "\n",
    "#### DNN definition"
   ]
  },
  {
   "cell_type": "code",
   "execution_count": 3,
   "metadata": {},
   "outputs": [],
   "source": [
    "import torch\n",
    "import torch.nn as nn\n",
    "import numpy as np\n",
    "import os \n",
    "\n",
    "class ClassificationDNN(nn.Module):\n",
    "    def __init__(self, args, input_shape) -> None:\n",
    "        super().__init__()\n",
    "        self.input_shape = input_shape\n",
    "        self.dag_2d = args['2D Dag']\n",
    "        self.dag_2d.set(self.input_shape)\n",
    "\n",
    "        flat_shape = (np.prod(self.dag_2d.output_shape),)\n",
    "        self.dag_1d = args['1D Dag']\n",
    "        self.dag_1d.set(flat_shape)\n",
    "\n",
    "        self.output = args[\"Out\"]\n",
    "        self.output.set(self.dag_1d.output_shape)\n",
    "\n",
    "    def forward(self, X, **kwargs):\n",
    "        out_2d = self.dag_2d(X)\n",
    "        flat = nn.Flatten()(out_2d)\n",
    "        out_1d = self.dag_1d(flat)\n",
    "        out = self.output(out_1d)\n",
    "        return out\n",
    "\n",
    "    def save(self, path):\n",
    "        if not os.path.exists(path):\n",
    "            os.makedirs(path)\n",
    "        full_path = os.path.join(path, \"best_model.pth\")\n",
    "        torch.save(self.state_dict(), full_path)"
   ]
  },
  {
   "attachments": {},
   "cell_type": "markdown",
   "metadata": {},
   "source": [
    "### Search Space Definition"
   ]
  },
  {
   "cell_type": "code",
   "execution_count": 4,
   "metadata": {},
   "outputs": [],
   "source": [
    "from dragon.search_space.bricks_variables import mlp_var, dropout, identity_var, operations_var, mlp_const_var, conv_2d, pooling_2d, dag_var, node_var\n",
    "from dragon.search_space.base_variables import ArrayVar\n",
    "from dragon.search_operators.base_neighborhoods import ArrayInterval\n",
    "\n",
    "candidate_operations_2d = operations_var(\"2D Candidate operations\", size=10, \n",
    "                                            candidates=[mlp_var(\"MLP\"), identity_var(\"Identity\"), dropout('Dropout'), conv_2d('Conv 2d', max_out=8), pooling_2d(\"Pooling\")])\n",
    "dag_2d = dag_var(\"2D Dag\", candidate_operations_2d)\n",
    "\n",
    "candidate_operations_1d = operations_var(\"1D Candidate operations\", size=10, \n",
    "                                            candidates=[mlp_var(\"MLP\"), identity_var(\"Identity\"), dropout('Dropout')])\n",
    "dag_1d = dag_var(\"1D Dag\", candidate_operations_1d)\n",
    "out = node_var(\"Out\", operation=mlp_const_var('Operation', 10), activation_function=nn.Identity())\n",
    "\n",
    "search_space = ArrayVar(dag_2d, dag_1d, out, label=\"Search Space\", neighbor=ArrayInterval())"
   ]
  },
  {
   "attachments": {},
   "cell_type": "markdown",
   "metadata": {},
   "source": [
    "### DNN Training"
   ]
  },
  {
   "cell_type": "code",
   "execution_count": 5,
   "metadata": {},
   "outputs": [
    {
     "name": "stdout",
     "output_type": "stream",
     "text": [
      "  epoch    train_loss    valid_acc    valid_loss     dur\n",
      "-------  ------------  -----------  ------------  ------\n",
      "      1       \u001b[36m10.4300\u001b[0m       \u001b[32m0.1000\u001b[0m       \u001b[35m35.2483\u001b[0m  0.6397\n",
      "      2       17.3778       \u001b[32m0.1389\u001b[0m       \u001b[35m21.8782\u001b[0m  0.5451\n",
      "      3       \u001b[36m10.0463\u001b[0m       \u001b[32m0.3056\u001b[0m       \u001b[35m11.8703\u001b[0m  0.5422\n",
      "      4        \u001b[36m3.7305\u001b[0m       \u001b[32m0.3222\u001b[0m        \u001b[35m7.0649\u001b[0m  0.5363\n",
      "      5        \u001b[36m2.4646\u001b[0m       \u001b[32m0.6556\u001b[0m        \u001b[35m2.2861\u001b[0m  0.5357\n",
      "      6        \u001b[36m1.1765\u001b[0m       0.5500        3.7344  0.5302\n",
      "      7        \u001b[36m0.8276\u001b[0m       \u001b[32m0.6778\u001b[0m        \u001b[35m2.2579\u001b[0m  0.5375\n",
      "      8        \u001b[36m0.4357\u001b[0m       \u001b[32m0.7778\u001b[0m        \u001b[35m2.0746\u001b[0m  0.5252\n",
      "      9        \u001b[36m0.3695\u001b[0m       \u001b[32m0.7889\u001b[0m        \u001b[35m1.5015\u001b[0m  0.5352\n",
      "     10        \u001b[36m0.2913\u001b[0m       0.7444        2.1330  0.5405\n",
      "     11        \u001b[36m0.2722\u001b[0m       0.7611        \u001b[35m1.4074\u001b[0m  0.5306\n",
      "     12        \u001b[36m0.2230\u001b[0m       0.7167        1.9679  0.5648\n",
      "     13        \u001b[36m0.1919\u001b[0m       \u001b[32m0.8056\u001b[0m        \u001b[35m1.2097\u001b[0m  0.5308\n",
      "     14        \u001b[36m0.1777\u001b[0m       0.7833        1.6146  0.5378\n",
      "     15        \u001b[36m0.1509\u001b[0m       \u001b[32m0.8222\u001b[0m        \u001b[35m1.0433\u001b[0m  0.5347\n",
      "     16        0.1600       0.7500        1.5645  0.5452\n",
      "     17        \u001b[36m0.1115\u001b[0m       \u001b[32m0.8389\u001b[0m        \u001b[35m1.0201\u001b[0m  0.5333\n",
      "     18        0.1309       0.7889        1.3314  0.5282\n",
      "     19        0.1284       0.8167        1.2493  0.5428\n",
      "     20        0.1314       \u001b[32m0.8444\u001b[0m        \u001b[35m0.9768\u001b[0m  0.5454\n",
      "With idx = p1, accuracy = 0.8776418242491657\n",
      "  epoch    train_loss    valid_acc    valid_loss     dur\n",
      "-------  ------------  -----------  ------------  ------\n",
      "      1        \u001b[36m2.3037\u001b[0m       \u001b[32m0.1000\u001b[0m        \u001b[35m2.3025\u001b[0m  0.5547\n",
      "      2        \u001b[36m2.3032\u001b[0m       0.1000        2.3026  0.5334\n",
      "      3        \u001b[36m2.3028\u001b[0m       0.1000        2.3025  0.7201\n",
      "      4        \u001b[36m2.3027\u001b[0m       0.1000        2.3026  0.6273\n",
      "      5        2.3027       0.1000        2.3026  0.5953\n",
      "      6        2.3027       0.1000        2.3026  0.5357\n",
      "      7        2.3027       0.1000        2.3026  0.5499\n",
      "      8        \u001b[36m2.3026\u001b[0m       0.1000        2.3026  0.5495\n",
      "      9        2.3027       0.1000        2.3026  0.5550\n",
      "     10        \u001b[36m2.3025\u001b[0m       0.1000        2.3026  0.5345\n",
      "     11        2.3027       0.1000        2.3026  0.5682\n",
      "     12        2.3026       0.1000        2.3026  0.5566\n",
      "     13        2.3027       0.1000        2.3026  0.5360\n",
      "     14        2.3026       0.1000        2.3026  0.5511\n",
      "     15        2.3026       0.1000        2.3026  0.5505\n",
      "     16        2.3027       0.1000        2.3026  0.5496\n",
      "     17        2.3027       0.1000        2.3026  0.5618\n",
      "     18        2.3026       0.1000        2.3026  0.5442\n",
      "     19        2.3027       0.1000        2.3025  0.5380\n",
      "     20        2.3026       0.1000        2.3026  0.5555\n",
      "With idx = p2, accuracy = 0.10122358175750834\n",
      "P1 ==> accuracy:  87.76 %\n",
      "\n",
      "P2 ==> accuracy:  10.12 %\n"
     ]
    }
   ],
   "source": [
    "import numpy as np\n",
    "from skorch import NeuralNetClassifier\n",
    "from sklearn.metrics import accuracy_score\n",
    "from dragon.utils.tools import set_seed\n",
    "\n",
    "device = \"cuda\" if torch.cuda.is_available() else \"cpu\"\n",
    "\n",
    "def train_and_predict(args, idx, verbose=False):\n",
    "    set_seed(0)\n",
    "    labels = [e.label for e in search_space]\n",
    "    args = dict(zip(labels, args))\n",
    "    model = ClassificationDNN(args, input_shape=(8,8,1))\n",
    "    trainer = NeuralNetClassifier(\n",
    "        model,\n",
    "        max_epochs=20,\n",
    "        lr=0.01,\n",
    "        optimizer = torch.optim.Adam,\n",
    "        criterion=nn.CrossEntropyLoss,\n",
    "        iterator_train__shuffle=True,\n",
    "        verbose=verbose,\n",
    "        device=device\n",
    "    )\n",
    "    X_train_torch = torch.tensor(np.expand_dims(X_train.astype(np.float32), axis=-1)).to(device)\n",
    "    y_train_torch = torch.tensor(y_train.astype(np.int64)).to(device)\n",
    "    X_test_torch = torch.tensor(np.expand_dims(X_test.astype(np.float32), axis=-1)).to(device)\n",
    "    trainer.fit(X_train_torch, y_train_torch)\n",
    "    y_pred = trainer.predict(X_test_torch)\n",
    "    acc = accuracy_score(y_test, y_pred)\n",
    "    print(f\"With idx = {idx}, accuracy = {acc}\")\n",
    "    return - acc, model # We are optimizing a minimization problem\n",
    "\n",
    "p1, p2 = search_space.random(2)\n",
    "\n",
    "loss_1, model_1 = train_and_predict(p1,idx=\"p1\", verbose=True)\n",
    "loss_2, model_2 = train_and_predict(p2, idx=\"p2\", verbose=True)\n",
    "\n",
    "print(\"P1 ==> accuracy: \", np.round(-loss_1*100,2), \"%\\n\")\n",
    "print(\"P2 ==> accuracy: \", np.round(-loss_2*100,2), \"%\")"
   ]
  },
  {
   "attachments": {},
   "cell_type": "markdown",
   "metadata": {},
   "source": [
    "### Implementing an optimization strategy\n"
   ]
  },
  {
   "cell_type": "code",
   "execution_count": 6,
   "metadata": {},
   "outputs": [
    {
     "name": "stdout",
     "output_type": "stream",
     "text": [
      "2025-02-24 11:02:28,574 | WARNING | Install mpi4py if you want to use the distributed version.\n",
      "2025-02-24 11:02:28,578 | INFO | save/test_image/ already exists. Deleting it.\n",
      "2025-02-24 11:02:28,609 | INFO | The whole population has been created (size = 5), 5 have been randomy initialized.\n",
      "With idx = 0, accuracy = 0.10122358175750834\n",
      "2025-02-24 11:02:33,894 | INFO | Best found! -0.10122358175750834 < inf\n",
      "With idx = 1, accuracy = 0.9365962180200222\n",
      "2025-02-24 11:02:35,145 | INFO | Best found! -0.9365962180200222 < -0.10122358175750834\n",
      "With idx = 2, accuracy = 0.8787541713014461\n",
      "With idx = 3, accuracy = 0.09788654060066741\n",
      "With idx = 4, accuracy = 0.10122358175750834\n",
      "2025-02-24 11:03:03,601 | INFO | All models have been at least evaluated once, t = 5 < 20.\n",
      "2025-02-24 11:03:03,603 | INFO | After initialisation, it remains 15 iterations.\n",
      "2025-02-24 11:03:03,673 | INFO | Evolving 1 and 2 to 6 and 7\n",
      "With idx = 7, accuracy = 0.10122358175750834\n",
      "2025-02-24 11:03:05,516 | INFO | Replacing 3 by 7, removing save/test_image//x_3.pkl\n",
      "With idx = 6, accuracy = 0.932146829810901\n",
      "2025-02-24 11:03:07,120 | INFO | Replacing 0 by 6, removing save/test_image//x_0.pkl\n",
      "2025-02-24 11:03:07,211 | INFO | Evolving 6 and 1 to 8 and 9\n",
      "With idx = 9, accuracy = 0.932146829810901\n",
      "2025-02-24 11:03:08,246 | INFO | Replacing 4 by 9, removing save/test_image//x_4.pkl\n",
      "With idx = 8, accuracy = 0.9210233592880979\n",
      "2025-02-24 11:03:09,271 | INFO | Replacing 7 by 8, removing save/test_image//x_7.pkl\n",
      "2025-02-24 11:03:09,336 | INFO | Evolving 9 and 1 to 10 and 11\n",
      "With idx = 11, accuracy = 0.9299221357063404\n",
      "2025-02-24 11:03:10,365 | INFO | Replacing 2 by 11, removing save/test_image//x_2.pkl\n",
      "With idx = 10, accuracy = 0.9165739710789766\n",
      "2025-02-24 11:03:11,411 | INFO | 10 is the worst element, removing save/test_image//x_10.pkl.\n",
      "2025-02-24 11:03:11,454 | INFO | Evolving 1 and 6 to 12 and 13\n",
      "With idx = 13, accuracy = 0.9210233592880979\n",
      "2025-02-24 11:03:12,486 | INFO | 13 is the worst element, removing save/test_image//x_13.pkl.\n",
      "With idx = 12, accuracy = 0.8553948832035595\n",
      "2025-02-24 11:03:13,415 | INFO | 12 is the worst element, removing save/test_image//x_12.pkl.\n",
      "2025-02-24 11:03:13,475 | INFO | Evolving 6 and 9 to 14 and 15\n",
      "With idx = 15, accuracy = 0.917686318131257\n",
      "2025-02-24 11:03:14,570 | INFO | 15 is the worst element, removing save/test_image//x_15.pkl.\n",
      "With idx = 14, accuracy = 0.9254727474972191\n",
      "2025-02-24 11:03:15,599 | INFO | Replacing 8 by 14, removing save/test_image//x_8.pkl\n",
      "2025-02-24 11:03:15,660 | INFO | Evolving 1 and 6 to 16 and 17\n",
      "With idx = 17, accuracy = 0.9210233592880979\n",
      "2025-02-24 11:03:16,881 | INFO | 17 is the worst element, removing save/test_image//x_17.pkl.\n",
      "With idx = 16, accuracy = 0.932146829810901\n",
      "2025-02-24 11:03:18,062 | INFO | Replacing 14 by 16, removing save/test_image//x_14.pkl\n",
      "2025-02-24 11:03:18,183 | INFO | Evolving 11 and 6 to 18 and 19\n",
      "With idx = 19, accuracy = 0.9210233592880979\n",
      "2025-02-24 11:03:19,621 | INFO | 19 is the worst element, removing save/test_image//x_19.pkl.\n",
      "With idx = 18, accuracy = 0.9454949944382648\n",
      "2025-02-24 11:03:22,338 | INFO | Replacing 11 by 18, removing save/test_image//x_11.pkl\n",
      "2025-02-24 11:03:22,340 | INFO | Best found! -0.9454949944382648 < -0.9365962180200222\n",
      "2025-02-24 11:03:22,547 | INFO | Evolving 18 and 1 to 20 and 21\n",
      "With idx = 21, accuracy = 0.9299221357063404\n",
      "2025-02-24 11:03:23,936 | INFO | 21 is the worst element, removing save/test_image//x_21.pkl.\n",
      "2025-02-24 11:03:23,958 | INFO | Search algorithm is done. Min Loss = -0.9454949944382648\n",
      "Best score: 94.55%\n",
      "Computation time: 55.39 seconds\n"
     ]
    }
   ],
   "source": [
    "import time\n",
    "from dragon.search_algorithm.ssea import SteadyStateEA\n",
    "\n",
    "search_algorithm = SteadyStateEA(search_space, n_iterations=20, population_size=5, selection_size=3, evaluation=train_and_predict, save_dir=\"save/test_image/\")\n",
    "start_time = time.time()\n",
    "search_algorithm.run()\n",
    "min_loss = search_algorithm.min_loss\n",
    "end_time = time.time() - start_time\n",
    "print(f\"Best score: {np.round(-min_loss*100,2)}%\\nComputation time: {np.round(end_time,2)} seconds\")"
   ]
  },
  {
   "attachments": {},
   "cell_type": "markdown",
   "metadata": {},
   "source": [
    "Starting with a completely random sets of DNNs, we managed in a few minutes to converge towards an accuracy higher than 92%."
   ]
  },
  {
   "cell_type": "code",
   "execution_count": 7,
   "metadata": {},
   "outputs": [
    {
     "name": "stdout",
     "output_type": "stream",
     "text": [
      "Final accuracy:  94.55 %\n",
      "\n"
     ]
    }
   ],
   "source": [
    "from dragon.utils.plot_functions import load_archi\n",
    "set_seed(0)\n",
    "best_args =load_archi('save/test_image/best_model/x.pkl')\n",
    "labels = [e.label for e in search_space]\n",
    "best_args = dict(zip(labels, best_args))\n",
    "model = ClassificationDNN(best_args, (8,8,1))\n",
    "model.load_state_dict(torch.load('save/test_image/best_model/best_model.pth'))\n",
    "\n",
    "model = NeuralNetClassifier(\n",
    "    model,\n",
    "    max_epochs=1,\n",
    "    lr=0.0001,\n",
    "    iterator_train__shuffle=True,\n",
    "    verbose=False,\n",
    "    \n",
    ")\n",
    "model.fit(np.expand_dims(X_train.astype(np.float32), axis=-1), y_train.astype(np.int64))\n",
    "y_pred = model.predict(np.expand_dims(X_test.astype(np.float32), axis=-1))\n",
    "acc = accuracy_score(y_test, y_pred)\n",
    "\n",
    "print(\"Final accuracy: \", np.round(acc*100,2), \"%\\n\")"
   ]
  },
  {
   "cell_type": "code",
   "execution_count": 8,
   "metadata": {},
   "outputs": [
    {
     "data": {
      "image/png": "[encoded data removed]",
      "text/plain": [
       "<Figure size 640x480 with 2 Axes>"
      ]
     },
     "metadata": {},
     "output_type": "display_data"
    }
   ],
   "source": [
    "from sklearn import metrics\n",
    "disp = metrics.ConfusionMatrixDisplay.from_predictions(y_test, y_pred)\n",
    "disp.figure_.suptitle(\"Confusion Matrix\")\n",
    "plt.show()"
   ]
  },
  {
   "cell_type": "code",
   "execution_count": 9,
   "metadata": {},
   "outputs": [
    {
     "name": "stdout",
     "output_type": "stream",
     "text": [
      "Model giving a score of 94.55%:\n"
     ]
    },
    {
     "data": {
      "image/svg+xml": [
       "<?xml version=\"1.0\" encoding=\"UTF-8\" standalone=\"no\"?>\n",
       "<!DOCTYPE svg PUBLIC \"-//W3C//DTD SVG 1.1//EN\"\n",
       " \"http://www.w3.org/Graphics/SVG/1.1/DTD/svg11.dtd\">\n",
       "<!-- Generated by graphviz version 2.49.1 (20210923.0004)\n",
       " -->\n",
       "<!-- Title: save/test_image/best_archi Pages: 1 -->\n",
       "<svg width=\"779pt\" height=\"476pt\"\n",
       " viewBox=\"0.00 0.00 779.37 476.00\" xmlns=\"http://www.w3.org/2000/svg\" xmlns:xlink=\"http://www.w3.org/1999/xlink\">\n",
       "<g id=\"graph0\" class=\"graph\" transform=\"scale(1 1) rotate(0) translate(4 472)\">\n",
       "<title>save/test_image/best_archi</title>\n",
       "<polygon fill=\"white\" stroke=\"transparent\" points=\"-4,4 -4,-472 775.37,-472 775.37,4 -4,4\"/>\n",
       "<!-- MNIST -->\n",
       "<g id=\"node1\" class=\"node\">\n",
       "<title>MNIST</title>\n",
       "<path fill=\"#ef5675\" stroke=\"black\" d=\"M666,-468C666,-468 613,-468 613,-468 607,-468 601,-462 601,-456 601,-456 601,-444 601,-444 601,-438 607,-432 613,-432 613,-432 666,-432 666,-432 672,-432 678,-438 678,-444 678,-444 678,-456 678,-456 678,-462 672,-468 666,-468\"/>\n",
       "<text text-anchor=\"middle\" x=\"639.5\" y=\"-445\" font-family=\"sans-serif\" font-size=\"20.00\" fill=\"#ececec\">MNIST</text>\n",
       "</g>\n",
       "<!-- add,AVGPooling2D,3,2,SiLU -->\n",
       "<g id=\"node2\" class=\"node\">\n",
       "<title>add,AVGPooling2D,3,2,SiLU</title>\n",
       "<path fill=\"#ffa600\" stroke=\"black\" d=\"M251,-396C251,-396 12,-396 12,-396 6,-396 0,-390 0,-384 0,-384 0,-372 0,-372 0,-366 6,-360 12,-360 12,-360 251,-360 251,-360 257,-360 263,-366 263,-372 263,-372 263,-384 263,-384 263,-390 257,-396 251,-396\"/>\n",
       "<text text-anchor=\"middle\" x=\"131.5\" y=\"-373\" font-family=\"sans-serif\" font-size=\"20.00\">add,AVGPooling2D,3,2,SiLU</text>\n",
       "</g>\n",
       "<!-- MNIST&#45;&gt;add,AVGPooling2D,3,2,SiLU -->\n",
       "<g id=\"edge1\" class=\"edge\">\n",
       "<title>MNIST&#45;&gt;add,AVGPooling2D,3,2,SiLU</title>\n",
       "<path fill=\"none\" stroke=\"black\" d=\"M600.9,-443.68C530.27,-433.95 377.18,-412.85 264.96,-397.39\"/>\n",
       "<polygon fill=\"black\" stroke=\"black\" points=\"265.3,-393.9 254.91,-396.01 264.34,-400.84 265.3,-393.9\"/>\n",
       "</g>\n",
       "<!-- concat,Dropout,0.7227052372597289,LeakyReLU -->\n",
       "<g id=\"node3\" class=\"node\">\n",
       "<title>concat,Dropout,0.7227052372597289,LeakyReLU</title>\n",
       "<path fill=\"#ffa600\" stroke=\"black\" d=\"M728,-396C728,-396 293,-396 293,-396 287,-396 281,-390 281,-384 281,-384 281,-372 281,-372 281,-366 287,-360 293,-360 293,-360 728,-360 728,-360 734,-360 740,-366 740,-372 740,-372 740,-384 740,-384 740,-390 734,-396 728,-396\"/>\n",
       "<text text-anchor=\"middle\" x=\"510.5\" y=\"-373\" font-family=\"sans-serif\" font-size=\"20.00\">concat,Dropout,0.7227052372597289,LeakyReLU</text>\n",
       "</g>\n",
       "<!-- MNIST&#45;&gt;concat,Dropout,0.7227052372597289,LeakyReLU -->\n",
       "<g id=\"edge2\" class=\"edge\">\n",
       "<title>MNIST&#45;&gt;concat,Dropout,0.7227052372597289,LeakyReLU</title>\n",
       "<path fill=\"none\" stroke=\"black\" d=\"M607.94,-431.88C590.84,-422.6 569.52,-411.03 551.18,-401.08\"/>\n",
       "<polygon fill=\"black\" stroke=\"black\" points=\"552.64,-397.88 542.18,-396.19 549.3,-404.04 552.64,-397.88\"/>\n",
       "</g>\n",
       "<!-- add,Conv2d,8,23,same,True,LeakyReLU -->\n",
       "<g id=\"node4\" class=\"node\">\n",
       "<title>add,Conv2d,8,23,same,True,LeakyReLU</title>\n",
       "<path fill=\"#ffa600\" stroke=\"black\" d=\"M725,-324C725,-324 378,-324 378,-324 372,-324 366,-318 366,-312 366,-312 366,-300 366,-300 366,-294 372,-288 378,-288 378,-288 725,-288 725,-288 731,-288 737,-294 737,-300 737,-300 737,-312 737,-312 737,-318 731,-324 725,-324\"/>\n",
       "<text text-anchor=\"middle\" x=\"551.5\" y=\"-301\" font-family=\"sans-serif\" font-size=\"20.00\">add,Conv2d,8,23,same,True,LeakyReLU</text>\n",
       "</g>\n",
       "<!-- MNIST&#45;&gt;add,Conv2d,8,23,same,True,LeakyReLU -->\n",
       "<g id=\"edge3\" class=\"edge\">\n",
       "<title>MNIST&#45;&gt;add,Conv2d,8,23,same,True,LeakyReLU</title>\n",
       "<path fill=\"none\" stroke=\"black\" d=\"M678.15,-441.39C703.19,-434.24 733.94,-420.77 749.5,-396 758.01,-382.45 759.24,-372.69 749.5,-360 738.66,-345.87 706.03,-334.69 670.3,-326.31\"/>\n",
       "<polygon fill=\"black\" stroke=\"black\" points=\"670.68,-322.81 660.16,-324.02 669.14,-329.64 670.68,-322.81\"/>\n",
       "</g>\n",
       "<!-- concat,MLP,453,GELU -->\n",
       "<g id=\"node5\" class=\"node\">\n",
       "<title>concat,MLP,453,GELU</title>\n",
       "<path fill=\"#ffa600\" stroke=\"black\" d=\"M752,-252C752,-252 565,-252 565,-252 559,-252 553,-246 553,-240 553,-240 553,-228 553,-228 553,-222 559,-216 565,-216 565,-216 752,-216 752,-216 758,-216 764,-222 764,-228 764,-228 764,-240 764,-240 764,-246 758,-252 752,-252\"/>\n",
       "<text text-anchor=\"middle\" x=\"658.5\" y=\"-229\" font-family=\"sans-serif\" font-size=\"20.00\">concat,MLP,453,GELU</text>\n",
       "</g>\n",
       "<!-- MNIST&#45;&gt;concat,MLP,453,GELU -->\n",
       "<g id=\"edge4\" class=\"edge\">\n",
       "<title>MNIST&#45;&gt;concat,MLP,453,GELU</title>\n",
       "<path fill=\"none\" stroke=\"black\" d=\"M678.07,-444.31C707.78,-438.45 746.96,-425.33 766.5,-396 783.24,-370.87 750.3,-293 746.5,-288 736.85,-275.3 723.21,-265.01 709.54,-256.99\"/>\n",
       "<polygon fill=\"black\" stroke=\"black\" points=\"711.04,-253.82 700.59,-252.05 707.65,-259.95 711.04,-253.82\"/>\n",
       "</g>\n",
       "<!-- add,AVGPooling2D,3,2,SiLU&#45;&gt;add,Conv2d,8,23,same,True,LeakyReLU -->\n",
       "<g id=\"edge5\" class=\"edge\">\n",
       "<title>add,AVGPooling2D,3,2,SiLU&#45;&gt;add,Conv2d,8,23,same,True,LeakyReLU</title>\n",
       "<path fill=\"none\" stroke=\"black\" d=\"M233.71,-359.97C295.82,-349.61 375.2,-336.38 439.08,-325.74\"/>\n",
       "<polygon fill=\"black\" stroke=\"black\" points=\"439.91,-329.15 449.2,-324.05 438.76,-322.24 439.91,-329.15\"/>\n",
       "</g>\n",
       "<!-- concat,Dropout,0.7227052372597289,LeakyReLU&#45;&gt;add,Conv2d,8,23,same,True,LeakyReLU -->\n",
       "<g id=\"edge6\" class=\"edge\">\n",
       "<title>concat,Dropout,0.7227052372597289,LeakyReLU&#45;&gt;add,Conv2d,8,23,same,True,LeakyReLU</title>\n",
       "<path fill=\"none\" stroke=\"black\" d=\"M520.63,-359.7C525.35,-351.64 531.06,-341.89 536.28,-332.98\"/>\n",
       "<polygon fill=\"black\" stroke=\"black\" points=\"539.45,-334.5 541.48,-324.1 533.41,-330.96 539.45,-334.5\"/>\n",
       "</g>\n",
       "<!-- add,Conv2d,8,23,same,True,LeakyReLU&#45;&gt;concat,MLP,453,GELU -->\n",
       "<g id=\"edge7\" class=\"edge\">\n",
       "<title>add,Conv2d,8,23,same,True,LeakyReLU&#45;&gt;concat,MLP,453,GELU</title>\n",
       "<path fill=\"none\" stroke=\"black\" d=\"M577.68,-287.88C591.54,-278.81 608.74,-267.55 623.71,-257.76\"/>\n",
       "<polygon fill=\"black\" stroke=\"black\" points=\"625.77,-260.59 632.22,-252.19 621.94,-254.74 625.77,-260.59\"/>\n",
       "</g>\n",
       "<!-- Flatten -->\n",
       "<g id=\"node6\" class=\"node\">\n",
       "<title>Flatten</title>\n",
       "<path fill=\"#ef5675\" stroke=\"black\" d=\"M685,-180C685,-180 632,-180 632,-180 626,-180 620,-174 620,-168 620,-168 620,-156 620,-156 620,-150 626,-144 632,-144 632,-144 685,-144 685,-144 691,-144 697,-150 697,-156 697,-156 697,-168 697,-168 697,-174 691,-180 685,-180\"/>\n",
       "<text text-anchor=\"middle\" x=\"658.5\" y=\"-157\" font-family=\"sans-serif\" font-size=\"20.00\" fill=\"#ececec\">Flatten</text>\n",
       "</g>\n",
       "<!-- concat,MLP,453,GELU&#45;&gt;Flatten -->\n",
       "<g id=\"edge8\" class=\"edge\">\n",
       "<title>concat,MLP,453,GELU&#45;&gt;Flatten</title>\n",
       "<path fill=\"none\" stroke=\"black\" d=\"M658.5,-215.7C658.5,-207.98 658.5,-198.71 658.5,-190.11\"/>\n",
       "<polygon fill=\"black\" stroke=\"black\" points=\"662,-190.1 658.5,-180.1 655,-190.1 662,-190.1\"/>\n",
       "</g>\n",
       "<!-- mul,Identity,ELU -->\n",
       "<g id=\"node7\" class=\"node\">\n",
       "<title>mul,Identity,ELU</title>\n",
       "<path fill=\"#ffa600\" stroke=\"black\" d=\"M728.5,-108C728.5,-108 588.5,-108 588.5,-108 582.5,-108 576.5,-102 576.5,-96 576.5,-96 576.5,-84 576.5,-84 576.5,-78 582.5,-72 588.5,-72 588.5,-72 728.5,-72 728.5,-72 734.5,-72 740.5,-78 740.5,-84 740.5,-84 740.5,-96 740.5,-96 740.5,-102 734.5,-108 728.5,-108\"/>\n",
       "<text text-anchor=\"middle\" x=\"658.5\" y=\"-85\" font-family=\"sans-serif\" font-size=\"20.00\">mul,Identity,ELU</text>\n",
       "</g>\n",
       "<!-- Flatten&#45;&gt;mul,Identity,ELU -->\n",
       "<g id=\"edge9\" class=\"edge\">\n",
       "<title>Flatten&#45;&gt;mul,Identity,ELU</title>\n",
       "<path fill=\"none\" stroke=\"black\" d=\"M658.5,-143.7C658.5,-135.98 658.5,-126.71 658.5,-118.11\"/>\n",
       "<polygon fill=\"black\" stroke=\"black\" points=\"662,-118.1 658.5,-108.1 655,-118.1 662,-118.1\"/>\n",
       "</g>\n",
       "<!-- MLP,10,Identity() -->\n",
       "<g id=\"node8\" class=\"node\">\n",
       "<title>MLP,10,Identity()</title>\n",
       "<path fill=\"#ef5675\" stroke=\"black\" d=\"M732,-36C732,-36 585,-36 585,-36 579,-36 573,-30 573,-24 573,-24 573,-12 573,-12 573,-6 579,0 585,0 585,0 732,0 732,0 738,0 744,-6 744,-12 744,-12 744,-24 744,-24 744,-30 738,-36 732,-36\"/>\n",
       "<text text-anchor=\"middle\" x=\"658.5\" y=\"-13\" font-family=\"sans-serif\" font-size=\"20.00\" fill=\"#ececec\">MLP,10,Identity()</text>\n",
       "</g>\n",
       "<!-- mul,Identity,ELU&#45;&gt;MLP,10,Identity() -->\n",
       "<g id=\"edge10\" class=\"edge\">\n",
       "<title>mul,Identity,ELU&#45;&gt;MLP,10,Identity()</title>\n",
       "<path fill=\"none\" stroke=\"black\" d=\"M658.5,-71.7C658.5,-63.98 658.5,-54.71 658.5,-46.11\"/>\n",
       "<polygon fill=\"black\" stroke=\"black\" points=\"662,-46.1 658.5,-36.1 655,-46.1 662,-46.1\"/>\n",
       "</g>\n",
       "</g>\n",
       "</svg>\n"
      ],
      "text/plain": [
       "<graphviz.graphs.Digraph at 0x296a84bcfd0>"
      ]
     },
     "execution_count": 9,
     "metadata": {},
     "output_type": "execute_result"
    }
   ],
   "source": [
    "import graphviz\n",
    "from dragon.utils.plot_functions import draw_cell, str_operations\n",
    "\n",
    "def draw_graph(n_dag2, m_dag2, n_dag1, m_dag1, output_file, act=\"Identity()\", name=\"MNIST\"):\n",
    "    G = graphviz.Digraph(output_file, format='pdf',\n",
    "                            node_attr={'nodesep': '0.02', 'shape': 'box', 'rankstep': '0.02', 'fontsize': '20', \"fontname\": \"sans-serif\"})\n",
    "\n",
    "    G, g_nodes = draw_cell(G, n_dag2, m_dag2, \"#ffa600\", [], name_input=name,\n",
    "                            color_input=\"#ef5675\")\n",
    "    G.node(\"Flatten\", style=\"rounded,filled\", color=\"black\", fillcolor=\"#CE1C4E\", fontcolor=\"#ECECEC\")\n",
    "    G.edge(g_nodes[-1], \"Flatten\")\n",
    "\n",
    "    G, g_nodes = draw_cell(G, n_dag1, m_dag1, \"#ffa600\", g_nodes, name_input=[\"Flatten\"],\n",
    "                            color_input=\"#ef5675\")\n",
    "\n",
    "    G.node(','.join([\"MLP\", \"10\", act]), style=\"rounded,filled\", color=\"black\", fillcolor=\"#ef5675\", fontcolor=\"#ECECEC\")\n",
    "    G.edge(g_nodes[-1], ','.join([\"MLP\", \"10\", act]))\n",
    "    return G\n",
    "\n",
    "m_dag2 = best_args['2D Dag'].matrix\n",
    "n_dag2 = str_operations(best_args[\"2D Dag\"].operations)\n",
    "\n",
    "m_dag1 = best_args['1D Dag'].matrix\n",
    "n_dag1 = str_operations(best_args[\"1D Dag\"].operations)\n",
    "\n",
    "graph = draw_graph(n_dag2, m_dag2, n_dag1, m_dag1, \"save/test_image/best_archi\")\n",
    "print(f'Model giving a score of {np.round(acc*100,2)}%:')\n",
    "graph"
   ]
  }
 ],
 "metadata": {
  "kernelspec": {
   "display_name": "env_311",
   "language": "python",
   "name": "python3"
  },
  "language_info": {
   "codemirror_mode": {
    "name": "ipython",
    "version": 3
   },
   "file_extension": ".py",
   "mimetype": "text/x-python",
   "name": "python",
   "nbconvert_exporter": "python",
   "pygments_lexer": "ipython3",
   "version": "3.11.11"
  },
  "orig_nbformat": 4
 },
 "nbformat": 4,
 "nbformat_minor": 2
}
