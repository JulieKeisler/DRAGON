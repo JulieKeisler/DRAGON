{
 "cells": [
  {
   "attachments": {},
   "cell_type": "markdown",
   "metadata": {},
   "source": [
    "# Quickstart"
   ]
  },
  {
   "cell_type": "code",
   "execution_count": 2,
   "metadata": {},
   "outputs": [],
   "source": [
    "import warnings\n",
    "warnings.filterwarnings('ignore')\n",
    "import torch\n",
    "import torch.nn as nn\n",
    "from torch.utils.data import Dataset, DataLoader\n",
    "import openml\n",
    "from sklearn.model_selection import train_test_split\n",
    "import numpy as np\n",
    "import os"
   ]
  },
  {
   "cell_type": "markdown",
   "metadata": {},
   "source": [
    "## Loading the dataset\n",
    "\n",
    "This tutorial introduces you to a complete machine learning pipeline to run DRAGON for a simple classification task on the *PenDigits* dataset."
   ]
  },
  {
   "cell_type": "code",
   "execution_count": 3,
   "metadata": {},
   "outputs": [
    {
     "data": {
      "text/html": [
       "<div>\n",
       "<style scoped>\n",
       "    .dataframe tbody tr th:only-of-type {\n",
       "        vertical-align: middle;\n",
       "    }\n",
       "\n",
       "    .dataframe tbody tr th {\n",
       "        vertical-align: top;\n",
       "    }\n",
       "\n",
       "    .dataframe thead th {\n",
       "        text-align: right;\n",
       "    }\n",
       "</style>\n",
       "<table border=\"1\" class=\"dataframe\">\n",
       "  <thead>\n",
       "    <tr style=\"text-align: right;\">\n",
       "      <th></th>\n",
       "      <th>input1</th>\n",
       "      <th>input2</th>\n",
       "      <th>input3</th>\n",
       "      <th>input4</th>\n",
       "      <th>input5</th>\n",
       "      <th>input6</th>\n",
       "      <th>input7</th>\n",
       "      <th>input8</th>\n",
       "      <th>input9</th>\n",
       "      <th>input10</th>\n",
       "      <th>input11</th>\n",
       "      <th>input12</th>\n",
       "      <th>input13</th>\n",
       "      <th>input14</th>\n",
       "      <th>input15</th>\n",
       "      <th>input16</th>\n",
       "      <th>class</th>\n",
       "    </tr>\n",
       "  </thead>\n",
       "  <tbody>\n",
       "    <tr>\n",
       "      <th>0</th>\n",
       "      <td>47.0</td>\n",
       "      <td>100.0</td>\n",
       "      <td>27.0</td>\n",
       "      <td>81.0</td>\n",
       "      <td>57.0</td>\n",
       "      <td>37.0</td>\n",
       "      <td>26.0</td>\n",
       "      <td>0.0</td>\n",
       "      <td>0.0</td>\n",
       "      <td>23.0</td>\n",
       "      <td>56.0</td>\n",
       "      <td>53.0</td>\n",
       "      <td>100.0</td>\n",
       "      <td>90.0</td>\n",
       "      <td>40.0</td>\n",
       "      <td>98.0</td>\n",
       "      <td>8</td>\n",
       "    </tr>\n",
       "    <tr>\n",
       "      <th>1</th>\n",
       "      <td>0.0</td>\n",
       "      <td>89.0</td>\n",
       "      <td>27.0</td>\n",
       "      <td>100.0</td>\n",
       "      <td>42.0</td>\n",
       "      <td>75.0</td>\n",
       "      <td>29.0</td>\n",
       "      <td>45.0</td>\n",
       "      <td>15.0</td>\n",
       "      <td>15.0</td>\n",
       "      <td>37.0</td>\n",
       "      <td>0.0</td>\n",
       "      <td>69.0</td>\n",
       "      <td>2.0</td>\n",
       "      <td>100.0</td>\n",
       "      <td>6.0</td>\n",
       "      <td>2</td>\n",
       "    </tr>\n",
       "    <tr>\n",
       "      <th>2</th>\n",
       "      <td>0.0</td>\n",
       "      <td>57.0</td>\n",
       "      <td>31.0</td>\n",
       "      <td>68.0</td>\n",
       "      <td>72.0</td>\n",
       "      <td>90.0</td>\n",
       "      <td>100.0</td>\n",
       "      <td>100.0</td>\n",
       "      <td>76.0</td>\n",
       "      <td>75.0</td>\n",
       "      <td>50.0</td>\n",
       "      <td>51.0</td>\n",
       "      <td>28.0</td>\n",
       "      <td>25.0</td>\n",
       "      <td>16.0</td>\n",
       "      <td>0.0</td>\n",
       "      <td>1</td>\n",
       "    </tr>\n",
       "    <tr>\n",
       "      <th>3</th>\n",
       "      <td>0.0</td>\n",
       "      <td>100.0</td>\n",
       "      <td>7.0</td>\n",
       "      <td>92.0</td>\n",
       "      <td>5.0</td>\n",
       "      <td>68.0</td>\n",
       "      <td>19.0</td>\n",
       "      <td>45.0</td>\n",
       "      <td>86.0</td>\n",
       "      <td>34.0</td>\n",
       "      <td>100.0</td>\n",
       "      <td>45.0</td>\n",
       "      <td>74.0</td>\n",
       "      <td>23.0</td>\n",
       "      <td>67.0</td>\n",
       "      <td>0.0</td>\n",
       "      <td>4</td>\n",
       "    </tr>\n",
       "    <tr>\n",
       "      <th>4</th>\n",
       "      <td>0.0</td>\n",
       "      <td>67.0</td>\n",
       "      <td>49.0</td>\n",
       "      <td>83.0</td>\n",
       "      <td>100.0</td>\n",
       "      <td>100.0</td>\n",
       "      <td>81.0</td>\n",
       "      <td>80.0</td>\n",
       "      <td>60.0</td>\n",
       "      <td>60.0</td>\n",
       "      <td>40.0</td>\n",
       "      <td>40.0</td>\n",
       "      <td>33.0</td>\n",
       "      <td>20.0</td>\n",
       "      <td>47.0</td>\n",
       "      <td>0.0</td>\n",
       "      <td>1</td>\n",
       "    </tr>\n",
       "  </tbody>\n",
       "</table>\n",
       "</div>"
      ],
      "text/plain": [
       "   input1  input2  input3  input4  input5  input6  input7  input8  input9  \\\n",
       "0    47.0   100.0    27.0    81.0    57.0    37.0    26.0     0.0     0.0   \n",
       "1     0.0    89.0    27.0   100.0    42.0    75.0    29.0    45.0    15.0   \n",
       "2     0.0    57.0    31.0    68.0    72.0    90.0   100.0   100.0    76.0   \n",
       "3     0.0   100.0     7.0    92.0     5.0    68.0    19.0    45.0    86.0   \n",
       "4     0.0    67.0    49.0    83.0   100.0   100.0    81.0    80.0    60.0   \n",
       "\n",
       "   input10  input11  input12  input13  input14  input15  input16 class  \n",
       "0     23.0     56.0     53.0    100.0     90.0     40.0     98.0     8  \n",
       "1     15.0     37.0      0.0     69.0      2.0    100.0      6.0     2  \n",
       "2     75.0     50.0     51.0     28.0     25.0     16.0      0.0     1  \n",
       "3     34.0    100.0     45.0     74.0     23.0     67.0      0.0     4  \n",
       "4     60.0     40.0     40.0     33.0     20.0     47.0      0.0     1  "
      ]
     },
     "execution_count": 3,
     "metadata": {},
     "output_type": "execute_result"
    }
   ],
   "source": [
    "dataset = openml.datasets.get_dataset(32)\n",
    "data, _, numerical, names = dataset.get_data()\n",
    "data.head()"
   ]
  },
  {
   "cell_type": "code",
   "execution_count": 7,
   "metadata": {},
   "outputs": [
    {
     "name": "stdout",
     "output_type": "stream",
     "text": [
      "X_train: (7694, 16), y_train: (7694, 1), X_val: (3298, 16), y_val: (3298, 1)\n",
      "Number of features: 16, number of classes: 1\n"
     ]
    }
   ],
   "source": [
    "X = data.drop('class', axis=1)\n",
    "X = (X - X.min(axis=0))/(X.max(axis=0) - X.min(axis=0))\n",
    "y = data[[\"class\"]].astype(int)\n",
    "X_train, X_val, y_train, y_val = train_test_split(X, y, test_size=0.3, random_state=0)\n",
    "print(f\"X_train: {X_train.shape}, y_train: {y_train.shape}, X_val: {X_val.shape}, y_val: {y_val.shape}\")\n",
    "print(f\"Number of features: {X.shape[1]}, number of classes: {y.shape[1]}\")"
   ]
  },
  {
   "cell_type": "code",
   "execution_count": 8,
   "metadata": {},
   "outputs": [],
   "source": [
    "class CustomDataset(Dataset):\n",
    "    def __init__(self, X, y):\n",
    "        super().__init__()\n",
    "        self.X = torch.FloatTensor(X.values)\n",
    "        self.y = torch.LongTensor(y.values)\n",
    "    def __len__(self):\n",
    "        return self.X.shape[0]\n",
    "    def __getitem__(self, index):\n",
    "        return self.X[index], self.y[index]\n",
    "train_set = CustomDataset(X_train, y_train)\n",
    "val_set = CustomDataset(X_val, y_val)\n",
    "train_loader = DataLoader(train_set, batch_size=32, shuffle=True)\n",
    "val_loader = DataLoader(val_set, batch_size=1, shuffle=False)"
   ]
  },
  {
   "cell_type": "markdown",
   "metadata": {},
   "source": [
    "## Search Space\n",
    "\n",
    "In **DRAGON** the neural networks are represented as *Directed Acyclic Graphs (DAGs)*, where each node represents `nn.Module` layer, and the edges are the connection between them. Within the package, the DAGs are encoded using their adjaceny matrix. To know more about these objects, refer to the [Search Space](../Search_Space/index.rst) section."
   ]
  },
  {
   "attachments": {},
   "cell_type": "markdown",
   "metadata": {},
   "source": [
    "### Meta-Architecture\n",
    "\n",
    "The meta-architecture $f$ should encompasses all the considered neural networks from the search space. To define a meta-architecture usable with **DRAGON**, we create a class that inherits from `nn.Module`. The `__init__` function should take as input arguments defining a certain set of architecture and hyperparameters $\\{\\alpha, \\theta\\}$. Then, the `__forward__` function should take an input a variable $X$ and returns the prediction $\\hat{y} = f_{\\alpha,\\theta}(X)$.\n",
    "\n",
    "The main bricks to build neural networks within the **DRAGON** package are `dragon.search_space.cells.AdjMatrix` and `dragon.search_space.cells.Node`. The `AdjMatrix` creates a DAG and the `Node` a simple layer. Both bricks can be used to create models adapted to the task at hand. In this case we stay very simple with a single `AdjMatrix` embodying the neural network and a final `Node` to get the right output shape.\n",
    "\n",
    "Before the first training of a given neural network, the layers should be initialized with the right input shape."
   ]
  },
  {
   "cell_type": "code",
   "execution_count": 9,
   "metadata": {},
   "outputs": [],
   "source": [
    "from dragon.search_space.dag_encoding import AdjMatrix, Node\n",
    "\n",
    "class MetaArchi(nn.Module):\n",
    "    def __init__(self, args, input_shape):\n",
    "        super().__init__()\n",
    "        # Number of features, here equals to 16\n",
    "        self.input_shape = input_shape\n",
    "\n",
    "        # We create the DAG using the WeightsAdjCell module\n",
    "        assert isinstance(args['Dag'], AdjMatrix), f\"The 'Dag' argument should be an 'AdjMatrix'. Got {type(args['Dag'])} instead.\"\n",
    "        self.dag = args['Dag']\n",
    "        self.dag.set(input_shape)\n",
    "\n",
    "        # We set the final layer\n",
    "        assert isinstance(args['Out'], Node), f\"The 'Out' argument should be a 'Node'. Got {type(args['Node'])} instead.\"\n",
    "        self.output = args[\"Out\"]\n",
    "        self.output.set(self.dag.output_shape)\n",
    "\n",
    "    def forward(self, X):\n",
    "        out = self.dag(X)\n",
    "        return self.output(out)\n",
    "    \n",
    "    def save(self, path):\n",
    "        if not os.path.exists(path):\n",
    "            os.makedirs(path)\n",
    "        full_path = os.path.join(path, \"best_model.pth\")\n",
    "        torch.save(self.state_dict(), full_path)"
   ]
  },
  {
   "cell_type": "markdown",
   "metadata": {},
   "source": [
    "### Arguments\n",
    "\n",
    "The `MetaArchi` class takes as input a dictionnary `args` containing one search space configuration ${\\alpha, \\theta}$. We now need to define what values $\\alpha$ and $\\theta$ can take. To keep it simple, we will only use `nn.Linear` and `nn.Identity` layers as candidate operations. Several ready-to-use candidate operations are available within `dragon.search_space.bricks_variables`. They are then used to build Directed Acyclic Graphs."
   ]
  },
  {
   "cell_type": "code",
   "execution_count": 10,
   "metadata": {},
   "outputs": [
    {
     "name": "stdout",
     "output_type": "stream",
     "text": [
      "An example of a generated DAG: NODES: [\n",
      "(combiner) add -- (name) <class 'dragon.search_space.bricks.basics.Identity'> -- (hp) {} -- (activation) Identity() -- , \n",
      "(combiner) add -- (name) <class 'dragon.search_space.bricks.basics.MLP'> -- (hp) {'out_channels': 343} -- (activation) Identity() -- , \n",
      "(combiner) concat -- (name) <class 'dragon.search_space.bricks.basics.MLP'> -- (hp) {'out_channels': 8} -- (activation) ELU(alpha=1.0) -- , \n",
      "(combiner) mul -- (name) <class 'dragon.search_space.bricks.basics.Identity'> -- (hp) {} -- (activation) LeakyReLU(negative_slope=0.01) -- ] | MATRIX:[[0, 1, 0, 0], [0, 0, 1, 1], [0, 0, 0, 1], [0, 0, 0, 0]]\n"
     ]
    }
   ],
   "source": [
    "from dragon.search_space.bricks_variables import mlp_var, identity_var, operations_var, mlp_const_var, dag_var, node_var\n",
    "\n",
    "candidate_operations = operations_var(\"Candidate operations\", size=10, candidates=[mlp_var(\"MLP\"), identity_var(\"Identity\")])\n",
    "dag = dag_var(\"Dag\", candidate_operations)\n",
    "print(f'An example of a generated DAG: {dag.random()}')\n",
    "\n",
    "# For the last layer, we do not want the number of output channels to be optimized. It should be equal to the number of classes.\n",
    "out = node_var(\"Out\", operation=mlp_const_var('Operation', 10), activation_function=nn.Identity())"
   ]
  },
  {
   "cell_type": "markdown",
   "metadata": {},
   "source": [
    "With the elements `dag` and `out` we can generate composants to build a neural network."
   ]
  },
  {
   "cell_type": "code",
   "execution_count": 11,
   "metadata": {},
   "outputs": [],
   "source": [
    "args = {\"Dag\": dag.random(), \"Out\": out.random()}\n",
    "model = MetaArchi(args, input_shape=(16,))"
   ]
  },
  {
   "cell_type": "markdown",
   "metadata": {},
   "source": [
    "The final search space is an array which contain all the structural elements of the architecture as well as eventually other elements for the training for example."
   ]
  },
  {
   "cell_type": "code",
   "execution_count": 12,
   "metadata": {},
   "outputs": [],
   "source": [
    "from dragon.search_space.base_variables import ArrayVar\n",
    "from dragon.search_operators.base_neighborhoods import ArrayInterval\n",
    "\n",
    "search_space = ArrayVar(dag, out, label=\"Search Space\", neighbor=ArrayInterval())"
   ]
  },
  {
   "cell_type": "markdown",
   "metadata": {},
   "source": [
    "## Loss function\n",
    "\n",
    "The search algorithm should minimize a certain loss function. Typically, it consists in training the model on a train set and then validate it on a validation set."
   ]
  },
  {
   "cell_type": "code",
   "execution_count": 23,
   "metadata": {},
   "outputs": [
    {
     "name": "stdout",
     "output_type": "stream",
     "text": [
      "Idx = test, accuracy = 0.834445118253487\n",
      "For a given argument, accuracy =  83.44 %\n"
     ]
    }
   ],
   "source": [
    "device = torch.device(\"cuda\" if torch.cuda.is_available() else \"cpu\")\n",
    "\n",
    "def train_model(model, data_loader):\n",
    "    loss_fn = nn.CrossEntropyLoss()\n",
    "    optimizer = torch.optim.SGD(model.parameters(), lr=0.05)\n",
    "    model.train()\n",
    "    for _ in range(5):\n",
    "        for X,y in data_loader:\n",
    "            optimizer.zero_grad()\n",
    "            X = X.to(device)\n",
    "            y = y.squeeze().to(device)\n",
    "            pred = model(X)\n",
    "            loss = loss_fn(pred,y)\n",
    "            loss.backward()\n",
    "            optimizer.step()\n",
    "    return model\n",
    "\n",
    "def test_model(model, data_loader):\n",
    "    loss_fn = nn.CrossEntropyLoss()\n",
    "    model.eval()\n",
    "    test_loss, correct = 0, 0\n",
    "    with torch.no_grad():\n",
    "      for X, y in data_loader:\n",
    "          X = X.to(device)\n",
    "          y = y.squeeze(1).to(device)\n",
    "          pred = model(X)\n",
    "          loss = loss_fn(pred, y).item()\n",
    "          test_loss += loss\n",
    "          prediction = pred.argmax(axis=1)\n",
    "          correct += (prediction == y).sum().item()\n",
    "    accuracy = correct/ len(data_loader.dataset)\n",
    "    return accuracy\n",
    "\n",
    "def loss_function(args, idx, *kwargs):\n",
    "    labels = [e.label for e in search_space]\n",
    "    args = dict(zip(labels, args))\n",
    "    model = MetaArchi(args, input_shape=(16,)).to(device)\n",
    "    model = train_model(model, train_loader)\n",
    "    accuracy = test_model(model, val_loader)\n",
    "    print(f\"Idx = {idx}, accuracy = {accuracy}\")\n",
    "    return 1 - accuracy, model\n",
    "\n",
    "loss, model = loss_function(search_space.random(), idx=\"test\")\n",
    "print(f'For a given argument, accuracy = ', np.round((1-loss)*100,2), '%')"
   ]
  },
  {
   "cell_type": "markdown",
   "metadata": {},
   "source": [
    "## Search Algorithm\n",
    "\n",
    "We can use several search algorithms to optimize the structures from the search space. Here, we take the example of Mutant-UCB."
   ]
  },
  {
   "cell_type": "code",
   "execution_count": 24,
   "metadata": {},
   "outputs": [
    {
     "name": "stderr",
     "output_type": "stream",
     "text": [
      "WARNING:root:Install mpi4py if you want to use the distributed version.\n"
     ]
    },
    {
     "name": "stdout",
     "output_type": "stream",
     "text": [
      "2025-02-24 11:36:01,071 | WARNING | Install mpi4py if you want to use the distributed version.\n"
     ]
    },
    {
     "name": "stderr",
     "output_type": "stream",
     "text": [
      "INFO:root:save/test_mutant already exists. Deleting it.\n"
     ]
    },
    {
     "name": "stdout",
     "output_type": "stream",
     "text": [
      "2025-02-24 11:36:01,074 | INFO | save/test_mutant already exists. Deleting it.\n"
     ]
    },
    {
     "name": "stderr",
     "output_type": "stream",
     "text": [
      "INFO:root:The whole population has been created (size = 5), 5 have been randomy initialized.\n"
     ]
    },
    {
     "name": "stdout",
     "output_type": "stream",
     "text": [
      "2025-02-24 11:36:01,088 | INFO | The whole population has been created (size = 5), 5 have been randomy initialized.\n"
     ]
    },
    {
     "name": "stderr",
     "output_type": "stream",
     "text": [
      "INFO:root:Best found! 0.18223165554881748 < inf\n"
     ]
    },
    {
     "name": "stdout",
     "output_type": "stream",
     "text": [
      "Idx = 0, accuracy = 0.8177683444511825\n",
      "2025-02-24 11:36:09,474 | INFO | Best found! 0.18223165554881748 < inf\n"
     ]
    },
    {
     "name": "stderr",
     "output_type": "stream",
     "text": [
      "INFO:root:Best found! 0.03850818677986656 < 0.18223165554881748\n"
     ]
    },
    {
     "name": "stdout",
     "output_type": "stream",
     "text": [
      "Idx = 1, accuracy = 0.9614918132201334\n",
      "2025-02-24 11:36:34,380 | INFO | Best found! 0.03850818677986656 < 0.18223165554881748\n",
      "Idx = 2, accuracy = 0.9226804123711341\n",
      "Idx = 3, accuracy = 0.8963007883565798\n"
     ]
    },
    {
     "name": "stderr",
     "output_type": "stream",
     "text": [
      "INFO:root:All models have been at least evaluated once, t = 5 < 20.\n"
     ]
    },
    {
     "name": "stdout",
     "output_type": "stream",
     "text": [
      "Idx = 4, accuracy = 0.9481503941782898\n",
      "2025-02-24 11:37:16,963 | INFO | All models have been at least evaluated once, t = 5 < 20.\n"
     ]
    },
    {
     "name": "stderr",
     "output_type": "stream",
     "text": [
      "INFO:root:After initialisation, it remains 15 iterations.\n"
     ]
    },
    {
     "name": "stdout",
     "output_type": "stream",
     "text": [
      "2025-02-24 11:37:16,965 | INFO | After initialisation, it remains 15 iterations.\n"
     ]
    },
    {
     "name": "stderr",
     "output_type": "stream",
     "text": [
      "INFO:root:With p = 0.2 = 1 / 5, training 1 instead\n"
     ]
    },
    {
     "name": "stdout",
     "output_type": "stream",
     "text": [
      "2025-02-24 11:37:16,967 | INFO | With p = 0.2 = 1 / 5, training 1 instead\n"
     ]
    },
    {
     "name": "stderr",
     "output_type": "stream",
     "text": [
      "INFO:root:Best found! 0.02122498483929658 < 0.03850818677986656\n"
     ]
    },
    {
     "name": "stdout",
     "output_type": "stream",
     "text": [
      "Idx = 1, accuracy = 0.9787750151607034\n",
      "2025-02-24 11:37:43,707 | INFO | Best found! 0.02122498483929658 < 0.03850818677986656\n"
     ]
    },
    {
     "name": "stderr",
     "output_type": "stream",
     "text": [
      "INFO:root:With p = 0.2 = 1 / 5, training 4 instead\n"
     ]
    },
    {
     "name": "stdout",
     "output_type": "stream",
     "text": [
      "2025-02-24 11:37:43,800 | INFO | With p = 0.2 = 1 / 5, training 4 instead\n"
     ]
    },
    {
     "name": "stderr",
     "output_type": "stream",
     "text": [
      "INFO:root:Best found! 0.017283201940570092 < 0.02122498483929658\n"
     ]
    },
    {
     "name": "stdout",
     "output_type": "stream",
     "text": [
      "Idx = 4, accuracy = 0.9827167980594299\n",
      "2025-02-24 11:38:01,945 | INFO | Best found! 0.017283201940570092 < 0.02122498483929658\n"
     ]
    },
    {
     "name": "stderr",
     "output_type": "stream",
     "text": [
      "INFO:root:With p = 0.4 = 2 / 5, training 1 instead\n"
     ]
    },
    {
     "name": "stdout",
     "output_type": "stream",
     "text": [
      "2025-02-24 11:38:02,015 | INFO | With p = 0.4 = 2 / 5, training 1 instead\n"
     ]
    },
    {
     "name": "stderr",
     "output_type": "stream",
     "text": [
      "INFO:root:With p = 0.4 = 2 / 5, mutating 4 to 5\n"
     ]
    },
    {
     "name": "stdout",
     "output_type": "stream",
     "text": [
      "Idx = 1, accuracy = 0.9805942995755003\n",
      "2025-02-24 11:38:29,023 | INFO | With p = 0.4 = 2 / 5, mutating 4 to 5\n"
     ]
    },
    {
     "name": "stderr",
     "output_type": "stream",
     "text": [
      "INFO:root:With p = 0.2 = 1 / 5, training 5 instead\n"
     ]
    },
    {
     "name": "stdout",
     "output_type": "stream",
     "text": [
      "Idx = 5, accuracy = 0.9796846573681018\n",
      "2025-02-24 11:38:47,217 | INFO | With p = 0.2 = 1 / 5, training 5 instead\n"
     ]
    },
    {
     "name": "stderr",
     "output_type": "stream",
     "text": [
      "INFO:root:Best found! 0.01667677380230448 < 0.017283201940570092\n"
     ]
    },
    {
     "name": "stdout",
     "output_type": "stream",
     "text": [
      "Idx = 5, accuracy = 0.9833232261976955\n",
      "2025-02-24 11:39:05,183 | INFO | Best found! 0.01667677380230448 < 0.017283201940570092\n"
     ]
    },
    {
     "name": "stderr",
     "output_type": "stream",
     "text": [
      "INFO:root:With p = 0.4 = 2 / 5, mutating 5 to 6\n"
     ]
    },
    {
     "name": "stdout",
     "output_type": "stream",
     "text": [
      "2025-02-24 11:39:05,241 | INFO | With p = 0.4 = 2 / 5, mutating 5 to 6\n"
     ]
    },
    {
     "name": "stderr",
     "output_type": "stream",
     "text": [
      "INFO:root:With p = 0.2 = 1 / 5, training 6 instead\n"
     ]
    },
    {
     "name": "stdout",
     "output_type": "stream",
     "text": [
      "Idx = 6, accuracy = 0.9727107337780473\n",
      "2025-02-24 11:39:21,746 | INFO | With p = 0.2 = 1 / 5, training 6 instead\n"
     ]
    },
    {
     "name": "stderr",
     "output_type": "stream",
     "text": [
      "INFO:root:Best found! 0.010612492419648234 < 0.01667677380230448\n"
     ]
    },
    {
     "name": "stdout",
     "output_type": "stream",
     "text": [
      "Idx = 6, accuracy = 0.9893875075803518\n",
      "2025-02-24 11:39:38,748 | INFO | Best found! 0.010612492419648234 < 0.01667677380230448\n"
     ]
    },
    {
     "name": "stderr",
     "output_type": "stream",
     "text": [
      "INFO:root:With p = 0.4 = 2 / 5, training 6 instead\n"
     ]
    },
    {
     "name": "stdout",
     "output_type": "stream",
     "text": [
      "2025-02-24 11:39:38,820 | INFO | With p = 0.4 = 2 / 5, training 6 instead\n"
     ]
    },
    {
     "name": "stderr",
     "output_type": "stream",
     "text": [
      "INFO:root:Best found! 0.010309278350515427 < 0.010612492419648234\n"
     ]
    },
    {
     "name": "stdout",
     "output_type": "stream",
     "text": [
      "Idx = 6, accuracy = 0.9896907216494846\n",
      "2025-02-24 11:39:55,594 | INFO | Best found! 0.010309278350515427 < 0.010612492419648234\n"
     ]
    },
    {
     "name": "stderr",
     "output_type": "stream",
     "text": [
      "INFO:root:With p = 0.6 = 3 / 5, mutating 6 to 7\n"
     ]
    },
    {
     "name": "stdout",
     "output_type": "stream",
     "text": [
      "2025-02-24 11:39:55,672 | INFO | With p = 0.6 = 3 / 5, mutating 6 to 7\n"
     ]
    },
    {
     "name": "stderr",
     "output_type": "stream",
     "text": [
      "INFO:root:With p = 0.2 = 1 / 5, training 7 instead\n"
     ]
    },
    {
     "name": "stdout",
     "output_type": "stream",
     "text": [
      "Idx = 7, accuracy = 0.9896907216494846\n",
      "2025-02-24 11:40:13,794 | INFO | With p = 0.2 = 1 / 5, training 7 instead\n"
     ]
    },
    {
     "name": "stderr",
     "output_type": "stream",
     "text": [
      "INFO:root:With p = 0.4 = 2 / 5, mutating 7 to 8\n"
     ]
    },
    {
     "name": "stdout",
     "output_type": "stream",
     "text": [
      "Idx = 7, accuracy = 0.9896907216494846\n",
      "2025-02-24 11:40:31,506 | INFO | With p = 0.4 = 2 / 5, mutating 7 to 8\n"
     ]
    },
    {
     "name": "stderr",
     "output_type": "stream",
     "text": [
      "INFO:root:Best found! 0.008489993935718587 < 0.010309278350515427\n"
     ]
    },
    {
     "name": "stdout",
     "output_type": "stream",
     "text": [
      "Idx = 8, accuracy = 0.9915100060642814\n",
      "2025-02-24 11:40:52,735 | INFO | Best found! 0.008489993935718587 < 0.010309278350515427\n"
     ]
    },
    {
     "name": "stderr",
     "output_type": "stream",
     "text": [
      "INFO:root:With p = 0.2 = 1 / 5, training 8 instead\n"
     ]
    },
    {
     "name": "stdout",
     "output_type": "stream",
     "text": [
      "2025-02-24 11:40:52,821 | INFO | With p = 0.2 = 1 / 5, training 8 instead\n"
     ]
    },
    {
     "name": "stderr",
     "output_type": "stream",
     "text": [
      "INFO:root:With p = 0.4 = 2 / 5, mutating 8 to 9\n"
     ]
    },
    {
     "name": "stdout",
     "output_type": "stream",
     "text": [
      "Idx = 8, accuracy = 0.9915100060642814\n",
      "2025-02-24 11:41:13,362 | INFO | With p = 0.4 = 2 / 5, mutating 8 to 9\n"
     ]
    },
    {
     "name": "stderr",
     "output_type": "stream",
     "text": [
      "INFO:root:With p = 0.4 = 2 / 5, training 8 instead\n"
     ]
    },
    {
     "name": "stdout",
     "output_type": "stream",
     "text": [
      "Idx = 9, accuracy = 0.9220739842328685\n",
      "2025-02-24 11:41:37,345 | INFO | With p = 0.4 = 2 / 5, training 8 instead\n"
     ]
    },
    {
     "name": "stderr",
     "output_type": "stream",
     "text": [
      "INFO:root:With p = 0.4 = 2 / 5, training 7 instead\n"
     ]
    },
    {
     "name": "stdout",
     "output_type": "stream",
     "text": [
      "Idx = 8, accuracy = 0.9893875075803518\n",
      "2025-02-24 11:41:58,347 | INFO | With p = 0.4 = 2 / 5, training 7 instead\n"
     ]
    },
    {
     "name": "stderr",
     "output_type": "stream",
     "text": [
      "INFO:root:Best found! 0.007883565797452974 < 0.008489993935718587\n"
     ]
    },
    {
     "name": "stdout",
     "output_type": "stream",
     "text": [
      "Idx = 7, accuracy = 0.992116434202547\n",
      "2025-02-24 11:42:15,931 | INFO | Best found! 0.007883565797452974 < 0.008489993935718587\n"
     ]
    },
    {
     "name": "stderr",
     "output_type": "stream",
     "text": [
      "INFO:root:Search algorithm is done. Min Loss = 0.007883565797452974\n"
     ]
    },
    {
     "name": "stdout",
     "output_type": "stream",
     "text": [
      "2025-02-24 11:42:15,987 | INFO | Search algorithm is done. Min Loss = 0.007883565797452974\n"
     ]
    }
   ],
   "source": [
    "from dragon.search_algorithm.mutant_ucb import Mutant_UCB\n",
    "\n",
    "search_algorithm = Mutant_UCB(search_space, save_dir=\"save/test_mutant\", T=20, N=5, K=5, E=0.01, evaluation=loss_function)\n",
    "search_algorithm.run()"
   ]
  },
  {
   "cell_type": "markdown",
   "metadata": {},
   "source": [
    "## Draw Graph\n",
    "\n",
    "After the optimization, it is possible to load the best graph and draw the architecture."
   ]
  },
  {
   "cell_type": "code",
   "execution_count": 26,
   "metadata": {},
   "outputs": [
    {
     "name": "stdout",
     "output_type": "stream",
     "text": [
      "Model giving a score of  99.21 %:\n"
     ]
    },
    {
     "data": {
      "image/svg+xml": [
       "<?xml version=\"1.0\" encoding=\"UTF-8\" standalone=\"no\"?>\n",
       "<!DOCTYPE svg PUBLIC \"-//W3C//DTD SVG 1.1//EN\"\n",
       " \"http://www.w3.org/Graphics/SVG/1.1/DTD/svg11.dtd\">\n",
       "<!-- Generated by graphviz version 2.49.1 (20210923.0004)\n",
       " -->\n",
       "<!-- Title: save/_mutant/best_archi Pages: 1 -->\n",
       "<svg width=\"335pt\" height=\"404pt\"\n",
       " viewBox=\"0.00 0.00 334.50 404.00\" xmlns=\"http://www.w3.org/2000/svg\" xmlns:xlink=\"http://www.w3.org/1999/xlink\">\n",
       "<g id=\"graph0\" class=\"graph\" transform=\"scale(1 1) rotate(0) translate(4 400)\">\n",
       "<title>save/_mutant/best_archi</title>\n",
       "<polygon fill=\"white\" stroke=\"transparent\" points=\"-4,4 -4,-400 330.5,-400 330.5,4 -4,4\"/>\n",
       "<!-- Input -->\n",
       "<g id=\"node1\" class=\"node\">\n",
       "<title>Input</title>\n",
       "<path fill=\"#ef5675\" stroke=\"black\" d=\"M207.5,-396C207.5,-396 166.5,-396 166.5,-396 160.5,-396 154.5,-390 154.5,-384 154.5,-384 154.5,-372 154.5,-372 154.5,-366 160.5,-360 166.5,-360 166.5,-360 207.5,-360 207.5,-360 213.5,-360 219.5,-366 219.5,-372 219.5,-372 219.5,-384 219.5,-384 219.5,-390 213.5,-396 207.5,-396\"/>\n",
       "<text text-anchor=\"middle\" x=\"187\" y=\"-373\" font-family=\"sans-serif\" font-size=\"20.00\" fill=\"#ececec\">Input</text>\n",
       "</g>\n",
       "<!-- add,Identity,ReLU -->\n",
       "<g id=\"node2\" class=\"node\">\n",
       "<title>add,Identity,ReLU</title>\n",
       "<path fill=\"#ffa600\" stroke=\"black\" d=\"M263,-324C263,-324 111,-324 111,-324 105,-324 99,-318 99,-312 99,-312 99,-300 99,-300 99,-294 105,-288 111,-288 111,-288 263,-288 263,-288 269,-288 275,-294 275,-300 275,-300 275,-312 275,-312 275,-318 269,-324 263,-324\"/>\n",
       "<text text-anchor=\"middle\" x=\"187\" y=\"-301\" font-family=\"sans-serif\" font-size=\"20.00\">add,Identity,ReLU</text>\n",
       "</g>\n",
       "<!-- Input&#45;&gt;add,Identity,ReLU -->\n",
       "<g id=\"edge1\" class=\"edge\">\n",
       "<title>Input&#45;&gt;add,Identity,ReLU</title>\n",
       "<path fill=\"none\" stroke=\"black\" d=\"M187,-359.7C187,-351.98 187,-342.71 187,-334.11\"/>\n",
       "<polygon fill=\"black\" stroke=\"black\" points=\"190.5,-334.1 187,-324.1 183.5,-334.1 190.5,-334.1\"/>\n",
       "</g>\n",
       "<!-- add,MLP,158,SiLU -->\n",
       "<g id=\"node3\" class=\"node\">\n",
       "<title>add,MLP,158,SiLU</title>\n",
       "<path fill=\"#ffa600\" stroke=\"black\" d=\"M263.5,-252C263.5,-252 110.5,-252 110.5,-252 104.5,-252 98.5,-246 98.5,-240 98.5,-240 98.5,-228 98.5,-228 98.5,-222 104.5,-216 110.5,-216 110.5,-216 263.5,-216 263.5,-216 269.5,-216 275.5,-222 275.5,-228 275.5,-228 275.5,-240 275.5,-240 275.5,-246 269.5,-252 263.5,-252\"/>\n",
       "<text text-anchor=\"middle\" x=\"187\" y=\"-229\" font-family=\"sans-serif\" font-size=\"20.00\">add,MLP,158,SiLU</text>\n",
       "</g>\n",
       "<!-- add,Identity,ReLU&#45;&gt;add,MLP,158,SiLU -->\n",
       "<g id=\"edge2\" class=\"edge\">\n",
       "<title>add,Identity,ReLU&#45;&gt;add,MLP,158,SiLU</title>\n",
       "<path fill=\"none\" stroke=\"black\" d=\"M187,-287.7C187,-279.98 187,-270.71 187,-262.11\"/>\n",
       "<polygon fill=\"black\" stroke=\"black\" points=\"190.5,-262.1 187,-252.1 183.5,-262.1 190.5,-262.1\"/>\n",
       "</g>\n",
       "<!-- add,MLP,379,Identity -->\n",
       "<g id=\"node4\" class=\"node\">\n",
       "<title>add,MLP,379,Identity</title>\n",
       "<path fill=\"#ffa600\" stroke=\"black\" d=\"M194,-180C194,-180 12,-180 12,-180 6,-180 0,-174 0,-168 0,-168 0,-156 0,-156 0,-150 6,-144 12,-144 12,-144 194,-144 194,-144 200,-144 206,-150 206,-156 206,-156 206,-168 206,-168 206,-174 200,-180 194,-180\"/>\n",
       "<text text-anchor=\"middle\" x=\"103\" y=\"-157\" font-family=\"sans-serif\" font-size=\"20.00\">add,MLP,379,Identity</text>\n",
       "</g>\n",
       "<!-- add,Identity,ReLU&#45;&gt;add,MLP,379,Identity -->\n",
       "<g id=\"edge3\" class=\"edge\">\n",
       "<title>add,Identity,ReLU&#45;&gt;add,MLP,379,Identity</title>\n",
       "<path fill=\"none\" stroke=\"black\" d=\"M132.18,-287.96C115.34,-279.87 98.71,-268.28 89,-252 77.8,-233.21 83.02,-208.38 90.05,-189.73\"/>\n",
       "<polygon fill=\"black\" stroke=\"black\" points=\"93.35,-190.92 93.94,-180.34 86.88,-188.24 93.35,-190.92\"/>\n",
       "</g>\n",
       "<!-- add,MLP,367,ReLU -->\n",
       "<g id=\"node5\" class=\"node\">\n",
       "<title>add,MLP,367,ReLU</title>\n",
       "<path fill=\"#ffa600\" stroke=\"black\" d=\"M314.5,-108C314.5,-108 153.5,-108 153.5,-108 147.5,-108 141.5,-102 141.5,-96 141.5,-96 141.5,-84 141.5,-84 141.5,-78 147.5,-72 153.5,-72 153.5,-72 314.5,-72 314.5,-72 320.5,-72 326.5,-78 326.5,-84 326.5,-84 326.5,-96 326.5,-96 326.5,-102 320.5,-108 314.5,-108\"/>\n",
       "<text text-anchor=\"middle\" x=\"234\" y=\"-85\" font-family=\"sans-serif\" font-size=\"20.00\">add,MLP,367,ReLU</text>\n",
       "</g>\n",
       "<!-- add,Identity,ReLU&#45;&gt;add,MLP,367,ReLU -->\n",
       "<g id=\"edge4\" class=\"edge\">\n",
       "<title>add,Identity,ReLU&#45;&gt;add,MLP,367,ReLU</title>\n",
       "<path fill=\"none\" stroke=\"black\" d=\"M241.82,-287.96C258.66,-279.87 275.29,-268.28 285,-252 311.18,-208.07 278.02,-149.27 254.22,-116.25\"/>\n",
       "<polygon fill=\"black\" stroke=\"black\" points=\"256.89,-113.98 248.11,-108.04 251.27,-118.16 256.89,-113.98\"/>\n",
       "</g>\n",
       "<!-- add,MLP,158,SiLU&#45;&gt;add,MLP,379,Identity -->\n",
       "<g id=\"edge5\" class=\"edge\">\n",
       "<title>add,MLP,158,SiLU&#45;&gt;add,MLP,379,Identity</title>\n",
       "<path fill=\"none\" stroke=\"black\" d=\"M166.24,-215.7C155.76,-206.97 142.89,-196.24 131.5,-186.75\"/>\n",
       "<polygon fill=\"black\" stroke=\"black\" points=\"133.45,-183.82 123.53,-180.1 128.97,-189.19 133.45,-183.82\"/>\n",
       "</g>\n",
       "<!-- add,MLP,158,SiLU&#45;&gt;add,MLP,367,ReLU -->\n",
       "<g id=\"edge6\" class=\"edge\">\n",
       "<title>add,MLP,158,SiLU&#45;&gt;add,MLP,367,ReLU</title>\n",
       "<path fill=\"none\" stroke=\"black\" d=\"M197.59,-215.89C203.46,-205.77 210.46,-192.52 215,-180 222.31,-159.86 227.21,-136.08 230.2,-118.17\"/>\n",
       "<polygon fill=\"black\" stroke=\"black\" points=\"233.68,-118.54 231.78,-108.12 226.77,-117.45 233.68,-118.54\"/>\n",
       "</g>\n",
       "<!-- add,MLP,379,Identity&#45;&gt;add,MLP,367,ReLU -->\n",
       "<g id=\"edge7\" class=\"edge\">\n",
       "<title>add,MLP,379,Identity&#45;&gt;add,MLP,367,ReLU</title>\n",
       "<path fill=\"none\" stroke=\"black\" d=\"M135.05,-143.88C152.49,-134.55 174.27,-122.92 192.94,-112.94\"/>\n",
       "<polygon fill=\"black\" stroke=\"black\" points=\"194.66,-115.99 201.83,-108.19 191.36,-109.82 194.66,-115.99\"/>\n",
       "</g>\n",
       "<!-- MLP,10,Identity() -->\n",
       "<g id=\"node6\" class=\"node\">\n",
       "<title>MLP,10,Identity()</title>\n",
       "<path fill=\"#ef5675\" stroke=\"black\" d=\"M307.5,-36C307.5,-36 160.5,-36 160.5,-36 154.5,-36 148.5,-30 148.5,-24 148.5,-24 148.5,-12 148.5,-12 148.5,-6 154.5,0 160.5,0 160.5,0 307.5,0 307.5,0 313.5,0 319.5,-6 319.5,-12 319.5,-12 319.5,-24 319.5,-24 319.5,-30 313.5,-36 307.5,-36\"/>\n",
       "<text text-anchor=\"middle\" x=\"234\" y=\"-13\" font-family=\"sans-serif\" font-size=\"20.00\" fill=\"#ececec\">MLP,10,Identity()</text>\n",
       "</g>\n",
       "<!-- add,MLP,367,ReLU&#45;&gt;MLP,10,Identity() -->\n",
       "<g id=\"edge8\" class=\"edge\">\n",
       "<title>add,MLP,367,ReLU&#45;&gt;MLP,10,Identity()</title>\n",
       "<path fill=\"none\" stroke=\"black\" d=\"M234,-71.7C234,-63.98 234,-54.71 234,-46.11\"/>\n",
       "<polygon fill=\"black\" stroke=\"black\" points=\"237.5,-46.1 234,-36.1 230.5,-46.1 237.5,-46.1\"/>\n",
       "</g>\n",
       "</g>\n",
       "</svg>\n"
      ],
      "text/plain": [
       "<graphviz.graphs.Digraph at 0x1a905a77c10>"
      ]
     },
     "execution_count": 26,
     "metadata": {},
     "output_type": "execute_result"
    }
   ],
   "source": [
    "import graphviz\n",
    "from dragon.utils.plot_functions import draw_cell, load_archi, str_operations\n",
    "\n",
    "def draw_graph(n_dag, m_dag, output_file, act=\"Identity()\", name=\"Input\"):\n",
    "    G = graphviz.Digraph(output_file, format='pdf',\n",
    "                            node_attr={'nodesep': '0.02', 'shape': 'box', 'rankstep': '0.02', 'fontsize': '20', \"fontname\": \"sans-serif\"})\n",
    "\n",
    "    G, g_nodes = draw_cell(G, n_dag, m_dag, \"#ffa600\", [], name_input=name,\n",
    "                            color_input=\"#ef5675\")\n",
    "    G.node(','.join([\"MLP\", \"10\", act]), style=\"rounded,filled\", color=\"black\", fillcolor=\"#ef5675\", fontcolor=\"#ECECEC\")\n",
    "    G.edge(g_nodes[-1], ','.join([\"MLP\", \"10\", act]))\n",
    "    return G\n",
    "\n",
    "best_model = load_archi(\"save/test_mutant/best_model/x.pkl\")\n",
    "labels = [e.label for e in search_space]\n",
    "best_model = dict(zip(labels, best_model))\n",
    "m_dag = best_model['Dag'].matrix\n",
    "n_dag = str_operations(best_model[\"Dag\"].operations)\n",
    "\n",
    "graph = draw_graph(n_dag, m_dag, \"save/_mutant/best_archi\")\n",
    "print(f'Model giving a score of ', np.round((1-search_algorithm.min_loss)*100, 2), '%:')\n",
    "graph"
   ]
  },
  {
   "cell_type": "markdown",
   "metadata": {},
   "source": [
    "### Baseline: SVC / RandomForest with Optuna"
   ]
  },
  {
   "cell_type": "code",
   "execution_count": null,
   "metadata": {},
   "outputs": [
    {
     "name": "stderr",
     "output_type": "stream",
     "text": [
      "[I 2024-09-30 08:31:47,051] A new study created in memory with name: no-name-56c0c993-5fe9-4734-b454-5c7296a0f970\n",
      "[I 2024-09-30 08:31:47,147] Trial 0 finished with value: 0.9802910855063675 and parameters: {'classifier': 'RandomForest', 'rf_max_depth': 9}. Best is trial 0 with value: 0.9802910855063675.\n",
      "[I 2024-09-30 08:31:47,192] Trial 1 finished with value: 0.7947240751970891 and parameters: {'classifier': 'RandomForest', 'rf_max_depth': 3}. Best is trial 0 with value: 0.9802910855063675.\n",
      "[I 2024-09-30 08:31:53,258] Trial 2 finished with value: 0.11552456033959976 and parameters: {'classifier': 'SVC', 'svc_c': 107434903.85230298}. Best is trial 0 with value: 0.9802910855063675.\n",
      "[I 2024-09-30 08:31:59,078] Trial 3 finished with value: 0.11552456033959976 and parameters: {'classifier': 'SVC', 'svc_c': 76.05790764453474}. Best is trial 0 with value: 0.9802910855063675.\n",
      "[I 2024-09-30 08:32:04,722] Trial 4 finished with value: 0.11552456033959976 and parameters: {'classifier': 'SVC', 'svc_c': 1278143.6692545111}. Best is trial 0 with value: 0.9802910855063675.\n",
      "[I 2024-09-30 08:32:10,627] Trial 5 finished with value: 0.11552456033959976 and parameters: {'classifier': 'SVC', 'svc_c': 4396269782.010601}. Best is trial 0 with value: 0.9802910855063675.\n",
      "[I 2024-09-30 08:32:15,738] Trial 6 finished with value: 0.10278956943602183 and parameters: {'classifier': 'SVC', 'svc_c': 0.00011304122770204807}. Best is trial 0 with value: 0.9802910855063675.\n",
      "[I 2024-09-30 08:32:15,813] Trial 7 finished with value: 0.9642207398423287 and parameters: {'classifier': 'RandomForest', 'rf_max_depth': 7}. Best is trial 0 with value: 0.9802910855063675.\n",
      "[I 2024-09-30 08:32:15,849] Trial 8 finished with value: 0.7404487568223166 and parameters: {'classifier': 'RandomForest', 'rf_max_depth': 2}. Best is trial 0 with value: 0.9802910855063675.\n",
      "[I 2024-09-30 08:32:21,528] Trial 9 finished with value: 0.11552456033959976 and parameters: {'classifier': 'SVC', 'svc_c': 1432989.5573470553}. Best is trial 0 with value: 0.9802910855063675.\n",
      "[I 2024-09-30 08:32:21,632] Trial 10 finished with value: 0.9866585809581565 and parameters: {'classifier': 'RandomForest', 'rf_max_depth': 30}. Best is trial 10 with value: 0.9866585809581565.\n",
      "[I 2024-09-30 08:32:21,745] Trial 11 finished with value: 0.9887810794420862 and parameters: {'classifier': 'RandomForest', 'rf_max_depth': 32}. Best is trial 11 with value: 0.9887810794420862.\n",
      "[I 2024-09-30 08:32:21,857] Trial 12 finished with value: 0.9878714372346877 and parameters: {'classifier': 'RandomForest', 'rf_max_depth': 32}. Best is trial 11 with value: 0.9887810794420862.\n",
      "[I 2024-09-30 08:32:21,952] Trial 13 finished with value: 0.9851425106124925 and parameters: {'classifier': 'RandomForest', 'rf_max_depth': 32}. Best is trial 11 with value: 0.9887810794420862.\n",
      "[I 2024-09-30 08:32:22,047] Trial 14 finished with value: 0.9848392965433597 and parameters: {'classifier': 'RandomForest', 'rf_max_depth': 14}. Best is trial 11 with value: 0.9887810794420862.\n",
      "[I 2024-09-30 08:32:22,150] Trial 15 finished with value: 0.9893875075803518 and parameters: {'classifier': 'RandomForest', 'rf_max_depth': 17}. Best is trial 15 with value: 0.9893875075803518.\n",
      "[I 2024-09-30 08:32:22,253] Trial 16 finished with value: 0.9887810794420862 and parameters: {'classifier': 'RandomForest', 'rf_max_depth': 17}. Best is trial 15 with value: 0.9893875075803518.\n",
      "[I 2024-09-30 08:32:22,357] Trial 17 finished with value: 0.9887810794420862 and parameters: {'classifier': 'RandomForest', 'rf_max_depth': 16}. Best is trial 15 with value: 0.9893875075803518.\n",
      "[I 2024-09-30 08:32:22,461] Trial 18 finished with value: 0.9884778653729533 and parameters: {'classifier': 'RandomForest', 'rf_max_depth': 19}. Best is trial 15 with value: 0.9893875075803518.\n",
      "[I 2024-09-30 08:32:22,517] Trial 19 finished with value: 0.8750758035172832 and parameters: {'classifier': 'RandomForest', 'rf_max_depth': 4}. Best is trial 15 with value: 0.9893875075803518.\n",
      "[I 2024-09-30 08:32:22,627] Trial 20 finished with value: 0.9854457246816253 and parameters: {'classifier': 'RandomForest', 'rf_max_depth': 12}. Best is trial 15 with value: 0.9893875075803518.\n",
      "[I 2024-09-30 08:32:22,740] Trial 21 finished with value: 0.9869617950272893 and parameters: {'classifier': 'RandomForest', 'rf_max_depth': 20}. Best is trial 15 with value: 0.9893875075803518.\n",
      "[I 2024-09-30 08:32:22,840] Trial 22 finished with value: 0.9893875075803518 and parameters: {'classifier': 'RandomForest', 'rf_max_depth': 21}. Best is trial 15 with value: 0.9893875075803518.\n",
      "[I 2024-09-30 08:32:22,939] Trial 23 finished with value: 0.9872650090964221 and parameters: {'classifier': 'RandomForest', 'rf_max_depth': 24}. Best is trial 15 with value: 0.9893875075803518.\n",
      "[I 2024-09-30 08:32:23,033] Trial 24 finished with value: 0.9796846573681018 and parameters: {'classifier': 'RandomForest', 'rf_max_depth': 10}. Best is trial 15 with value: 0.9893875075803518.\n",
      "[I 2024-09-30 08:32:23,131] Trial 25 finished with value: 0.9845360824742269 and parameters: {'classifier': 'RandomForest', 'rf_max_depth': 23}. Best is trial 15 with value: 0.9893875075803518.\n",
      "[I 2024-09-30 08:32:23,197] Trial 26 finished with value: 0.9408732565191025 and parameters: {'classifier': 'RandomForest', 'rf_max_depth': 6}. Best is trial 15 with value: 0.9893875075803518.\n",
      "[I 2024-09-30 08:32:23,292] Trial 27 finished with value: 0.9863553668890237 and parameters: {'classifier': 'RandomForest', 'rf_max_depth': 23}. Best is trial 15 with value: 0.9893875075803518.\n",
      "[I 2024-09-30 08:32:23,381] Trial 28 finished with value: 0.9857489387507581 and parameters: {'classifier': 'RandomForest', 'rf_max_depth': 13}. Best is trial 15 with value: 0.9893875075803518.\n",
      "[I 2024-09-30 08:32:23,468] Trial 29 finished with value: 0.9881746513038205 and parameters: {'classifier': 'RandomForest', 'rf_max_depth': 23}. Best is trial 15 with value: 0.9893875075803518.\n",
      "[I 2024-09-30 08:32:23,552] Trial 30 finished with value: 0.9839296543359611 and parameters: {'classifier': 'RandomForest', 'rf_max_depth': 10}. Best is trial 15 with value: 0.9893875075803518.\n",
      "[I 2024-09-30 08:32:23,641] Trial 31 finished with value: 0.9896907216494846 and parameters: {'classifier': 'RandomForest', 'rf_max_depth': 16}. Best is trial 31 with value: 0.9896907216494846.\n",
      "[I 2024-09-30 08:32:23,733] Trial 32 finished with value: 0.990600363856883 and parameters: {'classifier': 'RandomForest', 'rf_max_depth': 17}. Best is trial 32 with value: 0.990600363856883.\n",
      "[I 2024-09-30 08:32:23,826] Trial 33 finished with value: 0.9845360824742269 and parameters: {'classifier': 'RandomForest', 'rf_max_depth': 15}. Best is trial 32 with value: 0.990600363856883.\n",
      "[I 2024-09-30 08:32:23,917] Trial 34 finished with value: 0.9869617950272893 and parameters: {'classifier': 'RandomForest', 'rf_max_depth': 12}. Best is trial 32 with value: 0.990600363856883.\n",
      "[I 2024-09-30 08:32:28,852] Trial 35 finished with value: 0.10278956943602183 and parameters: {'classifier': 'SVC', 'svc_c': 6.511115455954505e-10}. Best is trial 32 with value: 0.990600363856883.\n",
      "[I 2024-09-30 08:32:28,920] Trial 36 finished with value: 0.957550030321407 and parameters: {'classifier': 'RandomForest', 'rf_max_depth': 7}. Best is trial 32 with value: 0.990600363856883.\n",
      "[I 2024-09-30 08:32:33,812] Trial 37 finished with value: 0.10278956943602183 and parameters: {'classifier': 'SVC', 'svc_c': 0.00035066537122351867}. Best is trial 32 with value: 0.990600363856883.\n",
      "[I 2024-09-30 08:32:33,893] Trial 38 finished with value: 0.9796846573681018 and parameters: {'classifier': 'RandomForest', 'rf_max_depth': 9}. Best is trial 32 with value: 0.990600363856883.\n",
      "[I 2024-09-30 08:32:39,367] Trial 39 finished with value: 0.10278956943602183 and parameters: {'classifier': 'SVC', 'svc_c': 3.267386529006129e-09}. Best is trial 32 with value: 0.990600363856883.\n",
      "[I 2024-09-30 08:32:39,460] Trial 40 finished with value: 0.9860521528198909 and parameters: {'classifier': 'RandomForest', 'rf_max_depth': 18}. Best is trial 32 with value: 0.990600363856883.\n",
      "[I 2024-09-30 08:32:39,548] Trial 41 finished with value: 0.989084293511219 and parameters: {'classifier': 'RandomForest', 'rf_max_depth': 25}. Best is trial 32 with value: 0.990600363856883.\n",
      "[I 2024-09-30 08:32:39,646] Trial 42 finished with value: 0.9878714372346877 and parameters: {'classifier': 'RandomForest', 'rf_max_depth': 26}. Best is trial 32 with value: 0.990600363856883.\n",
      "[I 2024-09-30 08:32:39,762] Trial 43 finished with value: 0.9884778653729533 and parameters: {'classifier': 'RandomForest', 'rf_max_depth': 19}. Best is trial 32 with value: 0.990600363856883.\n",
      "[I 2024-09-30 08:32:39,878] Trial 44 finished with value: 0.9875682231655549 and parameters: {'classifier': 'RandomForest', 'rf_max_depth': 26}. Best is trial 32 with value: 0.990600363856883.\n",
      "[I 2024-09-30 08:32:46,818] Trial 45 finished with value: 0.11552456033959976 and parameters: {'classifier': 'SVC', 'svc_c': 84.19317057488534}. Best is trial 32 with value: 0.990600363856883.\n",
      "[I 2024-09-30 08:32:46,909] Trial 46 finished with value: 0.9869617950272893 and parameters: {'classifier': 'RandomForest', 'rf_max_depth': 20}. Best is trial 32 with value: 0.990600363856883.\n",
      "[I 2024-09-30 08:32:46,944] Trial 47 finished with value: 0.7195269860521528 and parameters: {'classifier': 'RandomForest', 'rf_max_depth': 2}. Best is trial 32 with value: 0.990600363856883.\n",
      "[I 2024-09-30 08:32:47,030] Trial 48 finished with value: 0.9875682231655549 and parameters: {'classifier': 'RandomForest', 'rf_max_depth': 16}. Best is trial 32 with value: 0.990600363856883.\n",
      "[I 2024-09-30 08:32:47,123] Trial 49 finished with value: 0.9857489387507581 and parameters: {'classifier': 'RandomForest', 'rf_max_depth': 27}. Best is trial 32 with value: 0.990600363856883.\n",
      "[I 2024-09-30 08:32:52,568] Trial 50 finished with value: 0.10278956943602183 and parameters: {'classifier': 'SVC', 'svc_c': 0.00049795530410561}. Best is trial 32 with value: 0.990600363856883.\n",
      "[I 2024-09-30 08:32:52,660] Trial 51 finished with value: 0.9878714372346877 and parameters: {'classifier': 'RandomForest', 'rf_max_depth': 29}. Best is trial 32 with value: 0.990600363856883.\n",
      "[I 2024-09-30 08:32:52,753] Trial 52 finished with value: 0.9857489387507581 and parameters: {'classifier': 'RandomForest', 'rf_max_depth': 21}. Best is trial 32 with value: 0.990600363856883.\n",
      "[I 2024-09-30 08:32:52,847] Trial 53 finished with value: 0.9866585809581565 and parameters: {'classifier': 'RandomForest', 'rf_max_depth': 30}. Best is trial 32 with value: 0.990600363856883.\n",
      "[I 2024-09-30 08:32:52,947] Trial 54 finished with value: 0.9869617950272893 and parameters: {'classifier': 'RandomForest', 'rf_max_depth': 14}. Best is trial 32 with value: 0.990600363856883.\n",
      "[I 2024-09-30 08:32:53,048] Trial 55 finished with value: 0.9884778653729533 and parameters: {'classifier': 'RandomForest', 'rf_max_depth': 17}. Best is trial 32 with value: 0.990600363856883.\n",
      "[I 2024-09-30 08:32:53,148] Trial 56 finished with value: 0.9875682231655549 and parameters: {'classifier': 'RandomForest', 'rf_max_depth': 22}. Best is trial 32 with value: 0.990600363856883.\n",
      "[I 2024-09-30 08:32:53,244] Trial 57 finished with value: 0.9887810794420862 and parameters: {'classifier': 'RandomForest', 'rf_max_depth': 31}. Best is trial 32 with value: 0.990600363856883.\n",
      "[I 2024-09-30 08:32:53,336] Trial 58 finished with value: 0.989084293511219 and parameters: {'classifier': 'RandomForest', 'rf_max_depth': 25}. Best is trial 32 with value: 0.990600363856883.\n",
      "[I 2024-09-30 08:32:53,429] Trial 59 finished with value: 0.9869617950272893 and parameters: {'classifier': 'RandomForest', 'rf_max_depth': 17}. Best is trial 32 with value: 0.990600363856883.\n",
      "[I 2024-09-30 08:32:53,478] Trial 60 finished with value: 0.8641600970285022 and parameters: {'classifier': 'RandomForest', 'rf_max_depth': 4}. Best is trial 32 with value: 0.990600363856883.\n",
      "[I 2024-09-30 08:32:53,575] Trial 61 finished with value: 0.9857489387507581 and parameters: {'classifier': 'RandomForest', 'rf_max_depth': 24}. Best is trial 32 with value: 0.990600363856883.\n",
      "[I 2024-09-30 08:32:53,671] Trial 62 finished with value: 0.9872650090964221 and parameters: {'classifier': 'RandomForest', 'rf_max_depth': 32}. Best is trial 32 with value: 0.990600363856883.\n",
      "[I 2024-09-30 08:32:53,766] Trial 63 finished with value: 0.9875682231655549 and parameters: {'classifier': 'RandomForest', 'rf_max_depth': 28}. Best is trial 32 with value: 0.990600363856883.\n",
      "[I 2024-09-30 08:32:53,863] Trial 64 finished with value: 0.9869617950272893 and parameters: {'classifier': 'RandomForest', 'rf_max_depth': 21}. Best is trial 32 with value: 0.990600363856883.\n",
      "[I 2024-09-30 08:32:53,960] Trial 65 finished with value: 0.9866585809581565 and parameters: {'classifier': 'RandomForest', 'rf_max_depth': 19}. Best is trial 32 with value: 0.990600363856883.\n",
      "[I 2024-09-30 08:32:54,054] Trial 66 finished with value: 0.9893875075803518 and parameters: {'classifier': 'RandomForest', 'rf_max_depth': 25}. Best is trial 32 with value: 0.990600363856883.\n",
      "[I 2024-09-30 08:32:54,140] Trial 67 finished with value: 0.9875682231655549 and parameters: {'classifier': 'RandomForest', 'rf_max_depth': 15}. Best is trial 32 with value: 0.990600363856883.\n",
      "[I 2024-09-30 08:32:54,224] Trial 68 finished with value: 0.9860521528198909 and parameters: {'classifier': 'RandomForest', 'rf_max_depth': 12}. Best is trial 32 with value: 0.990600363856883.\n",
      "[I 2024-09-30 08:32:59,763] Trial 69 finished with value: 0.10278956943602183 and parameters: {'classifier': 'SVC', 'svc_c': 2.4446970641424645e-07}. Best is trial 32 with value: 0.990600363856883.\n",
      "[I 2024-09-30 08:32:59,851] Trial 70 finished with value: 0.9869617950272893 and parameters: {'classifier': 'RandomForest', 'rf_max_depth': 25}. Best is trial 32 with value: 0.990600363856883.\n",
      "[I 2024-09-30 08:32:59,940] Trial 71 finished with value: 0.9884778653729533 and parameters: {'classifier': 'RandomForest', 'rf_max_depth': 27}. Best is trial 32 with value: 0.990600363856883.\n",
      "[I 2024-09-30 08:33:00,036] Trial 72 finished with value: 0.9833232261976955 and parameters: {'classifier': 'RandomForest', 'rf_max_depth': 22}. Best is trial 32 with value: 0.990600363856883.\n",
      "[I 2024-09-30 08:33:00,134] Trial 73 finished with value: 0.9872650090964221 and parameters: {'classifier': 'RandomForest', 'rf_max_depth': 18}. Best is trial 32 with value: 0.990600363856883.\n",
      "[I 2024-09-30 08:33:00,223] Trial 74 finished with value: 0.9875682231655549 and parameters: {'classifier': 'RandomForest', 'rf_max_depth': 24}. Best is trial 32 with value: 0.990600363856883.\n",
      "[I 2024-09-30 08:33:00,311] Trial 75 finished with value: 0.9839296543359611 and parameters: {'classifier': 'RandomForest', 'rf_max_depth': 14}. Best is trial 32 with value: 0.990600363856883.\n",
      "[I 2024-09-30 08:33:00,397] Trial 76 finished with value: 0.9863553668890237 and parameters: {'classifier': 'RandomForest', 'rf_max_depth': 32}. Best is trial 32 with value: 0.990600363856883.\n",
      "[I 2024-09-30 08:33:00,483] Trial 77 finished with value: 0.9872650090964221 and parameters: {'classifier': 'RandomForest', 'rf_max_depth': 20}. Best is trial 32 with value: 0.990600363856883.\n",
      "[I 2024-09-30 08:33:00,568] Trial 78 finished with value: 0.9863553668890237 and parameters: {'classifier': 'RandomForest', 'rf_max_depth': 25}. Best is trial 32 with value: 0.990600363856883.\n",
      "[I 2024-09-30 08:33:06,825] Trial 79 finished with value: 0.11552456033959976 and parameters: {'classifier': 'SVC', 'svc_c': 1.7260909483357085}. Best is trial 32 with value: 0.990600363856883.\n",
      "[I 2024-09-30 08:33:06,919] Trial 80 finished with value: 0.9893875075803518 and parameters: {'classifier': 'RandomForest', 'rf_max_depth': 29}. Best is trial 32 with value: 0.990600363856883.\n",
      "[I 2024-09-30 08:33:07,018] Trial 81 finished with value: 0.9875682231655549 and parameters: {'classifier': 'RandomForest', 'rf_max_depth': 23}. Best is trial 32 with value: 0.990600363856883.\n",
      "[I 2024-09-30 08:33:07,110] Trial 82 finished with value: 0.9893875075803518 and parameters: {'classifier': 'RandomForest', 'rf_max_depth': 28}. Best is trial 32 with value: 0.990600363856883.\n",
      "[I 2024-09-30 08:33:07,207] Trial 83 finished with value: 0.9866585809581565 and parameters: {'classifier': 'RandomForest', 'rf_max_depth': 28}. Best is trial 32 with value: 0.990600363856883.\n",
      "[I 2024-09-30 08:33:07,301] Trial 84 finished with value: 0.9899939357186174 and parameters: {'classifier': 'RandomForest', 'rf_max_depth': 29}. Best is trial 32 with value: 0.990600363856883.\n",
      "[I 2024-09-30 08:33:07,391] Trial 85 finished with value: 0.9869617950272893 and parameters: {'classifier': 'RandomForest', 'rf_max_depth': 28}. Best is trial 32 with value: 0.990600363856883.\n",
      "[I 2024-09-30 08:33:07,445] Trial 86 finished with value: 0.9129775621588841 and parameters: {'classifier': 'RandomForest', 'rf_max_depth': 5}. Best is trial 32 with value: 0.990600363856883.\n",
      "[I 2024-09-30 08:33:07,534] Trial 87 finished with value: 0.9887810794420862 and parameters: {'classifier': 'RandomForest', 'rf_max_depth': 21}. Best is trial 32 with value: 0.990600363856883.\n",
      "[I 2024-09-30 08:33:07,620] Trial 88 finished with value: 0.9869617950272893 and parameters: {'classifier': 'RandomForest', 'rf_max_depth': 11}. Best is trial 32 with value: 0.990600363856883.\n",
      "[I 2024-09-30 08:33:07,700] Trial 89 finished with value: 0.9721043056397817 and parameters: {'classifier': 'RandomForest', 'rf_max_depth': 8}. Best is trial 32 with value: 0.990600363856883.\n",
      "[I 2024-09-30 08:33:07,792] Trial 90 finished with value: 0.9863553668890237 and parameters: {'classifier': 'RandomForest', 'rf_max_depth': 16}. Best is trial 32 with value: 0.990600363856883.\n",
      "[I 2024-09-30 08:33:07,886] Trial 91 finished with value: 0.9878714372346877 and parameters: {'classifier': 'RandomForest', 'rf_max_depth': 25}. Best is trial 32 with value: 0.990600363856883.\n",
      "[I 2024-09-30 08:33:07,977] Trial 92 finished with value: 0.9884778653729533 and parameters: {'classifier': 'RandomForest', 'rf_max_depth': 29}. Best is trial 32 with value: 0.990600363856883.\n",
      "[I 2024-09-30 08:33:08,075] Trial 93 finished with value: 0.9881746513038205 and parameters: {'classifier': 'RandomForest', 'rf_max_depth': 18}. Best is trial 32 with value: 0.990600363856883.\n",
      "[I 2024-09-30 08:33:08,173] Trial 94 finished with value: 0.9875682231655549 and parameters: {'classifier': 'RandomForest', 'rf_max_depth': 26}. Best is trial 32 with value: 0.990600363856883.\n",
      "[I 2024-09-30 08:33:08,267] Trial 95 finished with value: 0.9878714372346877 and parameters: {'classifier': 'RandomForest', 'rf_max_depth': 22}. Best is trial 32 with value: 0.990600363856883.\n",
      "[I 2024-09-30 08:33:08,368] Trial 96 finished with value: 0.9851425106124925 and parameters: {'classifier': 'RandomForest', 'rf_max_depth': 30}. Best is trial 32 with value: 0.990600363856883.\n",
      "[I 2024-09-30 08:33:14,144] Trial 97 finished with value: 0.11552456033959976 and parameters: {'classifier': 'SVC', 'svc_c': 33766.72119670471}. Best is trial 32 with value: 0.990600363856883.\n",
      "[I 2024-09-30 08:33:14,233] Trial 98 finished with value: 0.9884778653729533 and parameters: {'classifier': 'RandomForest', 'rf_max_depth': 23}. Best is trial 32 with value: 0.990600363856883.\n",
      "[I 2024-09-30 08:33:14,320] Trial 99 finished with value: 0.9884778653729533 and parameters: {'classifier': 'RandomForest', 'rf_max_depth': 20}. Best is trial 32 with value: 0.990600363856883.\n"
     ]
    },
    {
     "name": "stdout",
     "output_type": "stream",
     "text": [
      "\n",
      "Best Accuracy:  99.0\n"
     ]
    }
   ],
   "source": [
    "import sklearn\n",
    "import optuna\n",
    "from sklearn.metrics import accuracy_score\n",
    "from sklearn.svm import SVC\n",
    "from sklearn.ensemble import RandomForestClassifier\n",
    "\n",
    "def objective(trial):\n",
    "\n",
    "    classifier_name = trial.suggest_categorical('classifier', ['SVC', 'RandomForest'])\n",
    "    if classifier_name == 'SVC':\n",
    "         svc_c = trial.suggest_float('svc_c', 1e-10, 1e10, log=True)\n",
    "         classifier_obj = SVC(C=svc_c, gamma='auto')\n",
    "    else:\n",
    "        rf_max_depth = trial.suggest_int('rf_max_depth', 2, 32, log=True)\n",
    "        classifier_obj = RandomForestClassifier(max_depth=rf_max_depth, n_estimators=10)\n",
    "    classifier_obj.fit(X_train, y_train, )\n",
    "    pred = classifier_obj.predict(X_val)\n",
    "    accuracy = accuracy_score(y_val, pred)\n",
    "    return accuracy\n",
    "\n",
    "study = optuna.create_study(direction='maximize')\n",
    "study.optimize(objective, n_trials=100)\n",
    "print(f\"\\nBest Accuracy: \", np.round(study.best_value,2)*100)"
   ]
  }
 ],
 "metadata": {
  "kernelspec": {
   "display_name": "env_311",
   "language": "python",
   "name": "python3"
  },
  "language_info": {
   "codemirror_mode": {
    "name": "ipython",
    "version": 3
   },
   "file_extension": ".py",
   "mimetype": "text/x-python",
   "name": "python",
   "nbconvert_exporter": "python",
   "pygments_lexer": "ipython3",
   "version": "3.11.11"
  },
  "orig_nbformat": 4
 },
 "nbformat": 4,
 "nbformat_minor": 2
}
