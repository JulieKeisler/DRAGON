{
 "cells": [
  {
   "cell_type": "code",
   "execution_count": 2,
   "metadata": {},
   "outputs": [
    {
     "name": "stdout",
     "output_type": "stream",
     "text": [
      "2023-10-12 17:24:19,758 | INFO | Started loading m1_monthly\n"
     ]
    },
    {
     "ename": "FileNotFoundError",
     "evalue": "[Errno 2] No such file or directory: 'lib/evodags/experiments/monash_archive/raw_data/m1_monthly_dataset.tsf'",
     "output_type": "error",
     "traceback": [
      "\u001b[0;31m---------------------------------------------------------------------------\u001b[0m",
      "\u001b[0;31mFileNotFoundError\u001b[0m                         Traceback (most recent call last)",
      "Cell \u001b[0;32mIn[2], line 4\u001b[0m\n\u001b[1;32m      1\u001b[0m \u001b[39mfrom\u001b[39;00m \u001b[39mdragon\u001b[39;00m\u001b[39m.\u001b[39;00m\u001b[39mexperiments\u001b[39;00m\u001b[39m.\u001b[39;00m\u001b[39mmonash_archive\u001b[39;00m\u001b[39m.\u001b[39;00m\u001b[39mdataset\u001b[39;00m \u001b[39mimport\u001b[39;00m gluonts_dataset\n\u001b[1;32m      2\u001b[0m \u001b[39mfrom\u001b[39;00m \u001b[39mdragon\u001b[39;00m\u001b[39m.\u001b[39;00m\u001b[39mexperiments\u001b[39;00m\u001b[39m.\u001b[39;00m\u001b[39mmonash_archive\u001b[39;00m\u001b[39m.\u001b[39;00m\u001b[39mdatasets_configs\u001b[39;00m \u001b[39mimport\u001b[39;00m m1_monthly_config\n\u001b[0;32m----> 4\u001b[0m train_ds, test_ds, config \u001b[39m=\u001b[39m gluonts_dataset(m1_monthly_config)\n",
      "File \u001b[0;32m~/Documents/CIFRE/Code/EvoDagsAutoDL/lib/dragon/experiments/monash_archive/dataset.py:15\u001b[0m, in \u001b[0;36mgluonts_dataset\u001b[0;34m(config)\u001b[0m\n\u001b[1;32m     12\u001b[0m \u001b[39mdef\u001b[39;00m \u001b[39mgluonts_dataset\u001b[39m(config):\n\u001b[1;32m     13\u001b[0m     logger\u001b[39m.\u001b[39minfo(\u001b[39m\"\u001b[39m\u001b[39mStarted loading \u001b[39m\u001b[39m\"\u001b[39m \u001b[39m+\u001b[39m config[\u001b[39m\"\u001b[39m\u001b[39mDatasetName\u001b[39m\u001b[39m\"\u001b[39m])\n\u001b[0;32m---> 15\u001b[0m     df, frequency, forecast_horizon, contain_missing_values, contain_equal_length \u001b[39m=\u001b[39m loader\u001b[39m.\u001b[39;49mconvert_tsf_to_dataframe(\n\u001b[1;32m     16\u001b[0m         config[\u001b[39m'\u001b[39;49m\u001b[39mPathName\u001b[39;49m\u001b[39m'\u001b[39;49m] \u001b[39m+\u001b[39;49m config[\u001b[39m'\u001b[39;49m\u001b[39mFileName\u001b[39;49m\u001b[39m'\u001b[39;49m], \u001b[39m'\u001b[39;49m\u001b[39mNaN\u001b[39;49m\u001b[39m'\u001b[39;49m, config[\u001b[39m'\u001b[39;49m\u001b[39mTarget\u001b[39;49m\u001b[39m'\u001b[39;49m])\n\u001b[1;32m     18\u001b[0m     train_series_list \u001b[39m=\u001b[39m []\n\u001b[1;32m     19\u001b[0m     test_series_list \u001b[39m=\u001b[39m []\n",
      "File \u001b[0;32m~/Documents/CIFRE/Code/EvoDagsAutoDL/lib/dragon/experiments/monash_archive/tsforecastinggit/tsf_loader.py:33\u001b[0m, in \u001b[0;36mconvert_tsf_to_dataframe\u001b[0;34m(full_file_path_and_name, replace_missing_vals_with, value_column_name)\u001b[0m\n\u001b[1;32m     30\u001b[0m found_data_section \u001b[39m=\u001b[39m \u001b[39mFalse\u001b[39;00m\n\u001b[1;32m     31\u001b[0m started_reading_data_section \u001b[39m=\u001b[39m \u001b[39mFalse\u001b[39;00m\n\u001b[0;32m---> 33\u001b[0m \u001b[39mwith\u001b[39;00m \u001b[39mopen\u001b[39;49m(full_file_path_and_name, \u001b[39m\"\u001b[39;49m\u001b[39mr\u001b[39;49m\u001b[39m\"\u001b[39;49m, encoding\u001b[39m=\u001b[39;49m\u001b[39m\"\u001b[39;49m\u001b[39mcp1252\u001b[39;49m\u001b[39m\"\u001b[39;49m) \u001b[39mas\u001b[39;00m file:\n\u001b[1;32m     34\u001b[0m     \u001b[39mfor\u001b[39;00m line \u001b[39min\u001b[39;00m file:\n\u001b[1;32m     35\u001b[0m         \u001b[39m# Strip white space from start/end of line\u001b[39;00m\n\u001b[1;32m     36\u001b[0m         line \u001b[39m=\u001b[39m line\u001b[39m.\u001b[39mstrip()\n",
      "\u001b[0;31mFileNotFoundError\u001b[0m: [Errno 2] No such file or directory: 'lib/evodags/experiments/monash_archive/raw_data/m1_monthly_dataset.tsf'"
     ]
    }
   ],
   "source": [
    "from dragon.experiments.monash_archive.dataset import gluonts_dataset\n",
    "from dragon.experiments.monash_archive.datasets_configs import m1_monthly_config\n",
    "\n",
    "train_ds, test_ds, config = gluonts_dataset(m1_monthly_config)\n"
   ]
  }
 ],
 "metadata": {
  "kernelspec": {
   "display_name": "autogluon",
   "language": "python",
   "name": "python3"
  },
  "language_info": {
   "codemirror_mode": {
    "name": "ipython",
    "version": 3
   },
   "file_extension": ".py",
   "mimetype": "text/x-python",
   "name": "python",
   "nbconvert_exporter": "python",
   "pygments_lexer": "ipython3",
   "version": "3.9.18"
  },
  "orig_nbformat": 4
 },
 "nbformat": 4,
 "nbformat_minor": 2
}
