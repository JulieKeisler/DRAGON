{
 "cells": [
  {
   "attachments": {},
   "cell_type": "markdown",
   "metadata": {},
   "source": [
    "# Quickstart"
   ]
  },
  {
   "cell_type": "code",
   "execution_count": 2,
   "metadata": {},
   "outputs": [],
   "source": [
    "import warnings\n",
    "warnings.filterwarnings('ignore')\n",
    "import torch\n",
    "import torch.nn as nn\n",
    "from torch.utils.data import Dataset, DataLoader\n",
    "import openml\n",
    "from sklearn.model_selection import train_test_split\n",
    "import pandas as pd"
   ]
  },
  {
   "cell_type": "markdown",
   "metadata": {},
   "source": [
    "## Loading the dataset\n",
    "\n",
    "This tutorial introduces you to a complete machine learning pipeline to run DRAGON for a simple classification task on the *PenDigits* dataset."
   ]
  },
  {
   "cell_type": "code",
   "execution_count": 3,
   "metadata": {},
   "outputs": [
    {
     "data": {
      "text/html": [
       "<div>\n",
       "<style scoped>\n",
       "    .dataframe tbody tr th:only-of-type {\n",
       "        vertical-align: middle;\n",
       "    }\n",
       "\n",
       "    .dataframe tbody tr th {\n",
       "        vertical-align: top;\n",
       "    }\n",
       "\n",
       "    .dataframe thead th {\n",
       "        text-align: right;\n",
       "    }\n",
       "</style>\n",
       "<table border=\"1\" class=\"dataframe\">\n",
       "  <thead>\n",
       "    <tr style=\"text-align: right;\">\n",
       "      <th></th>\n",
       "      <th>input1</th>\n",
       "      <th>input2</th>\n",
       "      <th>input3</th>\n",
       "      <th>input4</th>\n",
       "      <th>input5</th>\n",
       "      <th>input6</th>\n",
       "      <th>input7</th>\n",
       "      <th>input8</th>\n",
       "      <th>input9</th>\n",
       "      <th>input10</th>\n",
       "      <th>input11</th>\n",
       "      <th>input12</th>\n",
       "      <th>input13</th>\n",
       "      <th>input14</th>\n",
       "      <th>input15</th>\n",
       "      <th>input16</th>\n",
       "      <th>class</th>\n",
       "    </tr>\n",
       "  </thead>\n",
       "  <tbody>\n",
       "    <tr>\n",
       "      <th>0</th>\n",
       "      <td>47.0</td>\n",
       "      <td>100.0</td>\n",
       "      <td>27.0</td>\n",
       "      <td>81.0</td>\n",
       "      <td>57.0</td>\n",
       "      <td>37.0</td>\n",
       "      <td>26.0</td>\n",
       "      <td>0.0</td>\n",
       "      <td>0.0</td>\n",
       "      <td>23.0</td>\n",
       "      <td>56.0</td>\n",
       "      <td>53.0</td>\n",
       "      <td>100.0</td>\n",
       "      <td>90.0</td>\n",
       "      <td>40.0</td>\n",
       "      <td>98.0</td>\n",
       "      <td>8</td>\n",
       "    </tr>\n",
       "    <tr>\n",
       "      <th>1</th>\n",
       "      <td>0.0</td>\n",
       "      <td>89.0</td>\n",
       "      <td>27.0</td>\n",
       "      <td>100.0</td>\n",
       "      <td>42.0</td>\n",
       "      <td>75.0</td>\n",
       "      <td>29.0</td>\n",
       "      <td>45.0</td>\n",
       "      <td>15.0</td>\n",
       "      <td>15.0</td>\n",
       "      <td>37.0</td>\n",
       "      <td>0.0</td>\n",
       "      <td>69.0</td>\n",
       "      <td>2.0</td>\n",
       "      <td>100.0</td>\n",
       "      <td>6.0</td>\n",
       "      <td>2</td>\n",
       "    </tr>\n",
       "    <tr>\n",
       "      <th>2</th>\n",
       "      <td>0.0</td>\n",
       "      <td>57.0</td>\n",
       "      <td>31.0</td>\n",
       "      <td>68.0</td>\n",
       "      <td>72.0</td>\n",
       "      <td>90.0</td>\n",
       "      <td>100.0</td>\n",
       "      <td>100.0</td>\n",
       "      <td>76.0</td>\n",
       "      <td>75.0</td>\n",
       "      <td>50.0</td>\n",
       "      <td>51.0</td>\n",
       "      <td>28.0</td>\n",
       "      <td>25.0</td>\n",
       "      <td>16.0</td>\n",
       "      <td>0.0</td>\n",
       "      <td>1</td>\n",
       "    </tr>\n",
       "    <tr>\n",
       "      <th>3</th>\n",
       "      <td>0.0</td>\n",
       "      <td>100.0</td>\n",
       "      <td>7.0</td>\n",
       "      <td>92.0</td>\n",
       "      <td>5.0</td>\n",
       "      <td>68.0</td>\n",
       "      <td>19.0</td>\n",
       "      <td>45.0</td>\n",
       "      <td>86.0</td>\n",
       "      <td>34.0</td>\n",
       "      <td>100.0</td>\n",
       "      <td>45.0</td>\n",
       "      <td>74.0</td>\n",
       "      <td>23.0</td>\n",
       "      <td>67.0</td>\n",
       "      <td>0.0</td>\n",
       "      <td>4</td>\n",
       "    </tr>\n",
       "    <tr>\n",
       "      <th>4</th>\n",
       "      <td>0.0</td>\n",
       "      <td>67.0</td>\n",
       "      <td>49.0</td>\n",
       "      <td>83.0</td>\n",
       "      <td>100.0</td>\n",
       "      <td>100.0</td>\n",
       "      <td>81.0</td>\n",
       "      <td>80.0</td>\n",
       "      <td>60.0</td>\n",
       "      <td>60.0</td>\n",
       "      <td>40.0</td>\n",
       "      <td>40.0</td>\n",
       "      <td>33.0</td>\n",
       "      <td>20.0</td>\n",
       "      <td>47.0</td>\n",
       "      <td>0.0</td>\n",
       "      <td>1</td>\n",
       "    </tr>\n",
       "  </tbody>\n",
       "</table>\n",
       "</div>"
      ],
      "text/plain": [
       "   input1  input2  input3  input4  input5  input6  input7  input8  input9  \\\n",
       "0    47.0   100.0    27.0    81.0    57.0    37.0    26.0     0.0     0.0   \n",
       "1     0.0    89.0    27.0   100.0    42.0    75.0    29.0    45.0    15.0   \n",
       "2     0.0    57.0    31.0    68.0    72.0    90.0   100.0   100.0    76.0   \n",
       "3     0.0   100.0     7.0    92.0     5.0    68.0    19.0    45.0    86.0   \n",
       "4     0.0    67.0    49.0    83.0   100.0   100.0    81.0    80.0    60.0   \n",
       "\n",
       "   input10  input11  input12  input13  input14  input15  input16 class  \n",
       "0     23.0     56.0     53.0    100.0     90.0     40.0     98.0     8  \n",
       "1     15.0     37.0      0.0     69.0      2.0    100.0      6.0     2  \n",
       "2     75.0     50.0     51.0     28.0     25.0     16.0      0.0     1  \n",
       "3     34.0    100.0     45.0     74.0     23.0     67.0      0.0     4  \n",
       "4     60.0     40.0     40.0     33.0     20.0     47.0      0.0     1  "
      ]
     },
     "execution_count": 3,
     "metadata": {},
     "output_type": "execute_result"
    }
   ],
   "source": [
    "dataset = openml.datasets.get_dataset(32)\n",
    "data, _, numerical, names = dataset.get_data()\n",
    "data.head()"
   ]
  },
  {
   "cell_type": "code",
   "execution_count": 4,
   "metadata": {},
   "outputs": [
    {
     "name": "stdout",
     "output_type": "stream",
     "text": [
      "X_train: (7694, 16), y_train: (7694, 1), X_val: (3298, 16), y_val: (3298, 1)\n",
      "Number of features: 16, number of classes: 1\n"
     ]
    }
   ],
   "source": [
    "X = data.drop('class', axis=1)\n",
    "y = data[[\"class\"]].astype(int)\n",
    "X_train, X_val, y_train, y_val = train_test_split(X, y, test_size=0.3, random_state=0)\n",
    "print(f\"X_train: {X_train.shape}, y_train: {y_train.shape}, X_val: {X_val.shape}, y_val: {y_val.shape}\")\n",
    "print(f\"Number of features: {X.shape[1]}, number of classes: {y.shape[1]}\")"
   ]
  },
  {
   "cell_type": "code",
   "execution_count": 5,
   "metadata": {},
   "outputs": [],
   "source": [
    "class CustomDataset(Dataset):\n",
    "    def __init__(self, X, y):\n",
    "        super().__init__()\n",
    "        self.X = torch.FloatTensor(X.values)\n",
    "        self.y = torch.LongTensor(y.values)\n",
    "    def __len__(self):\n",
    "        return self.X.shape[0]\n",
    "    def __getitem__(self, index):\n",
    "        return self.X[index], self.y[index]\n",
    "train_set = CustomDataset(X_train, y_train)\n",
    "val_set = CustomDataset(X_val, y_val)\n",
    "train_loader = DataLoader(train_set, batch_size=32, shuffle=True)\n",
    "val_loader = DataLoader(val_set, batch_size=1, shuffle=False)"
   ]
  },
  {
   "cell_type": "markdown",
   "metadata": {},
   "source": [
    "## Search Space\n",
    "\n",
    "In **DRAGON** the neural networks are represented as *Directed Acyclic Graphs (DAGs)*, where each node represents `nn.Module` layer, and the edges are the connection between them. Within the package, the DAGs are encoded using their adjaceny matrix. To know more about these objects, refer to the [Search Space](docs/source/Examples/) section."
   ]
  },
  {
   "attachments": {},
   "cell_type": "markdown",
   "metadata": {},
   "source": [
    "### Meta-Architecture\n",
    "\n",
    "The meta-architecture $f$ should encompasses all the considered neural networks from the search space. To define a meta-architecture usable with **DRAGON**, we create a class that inherits from `nn.Module`. The __init__ should take as input arguments defining a certain set of architecture and hyperparameters $\\{\\alpha, \\theta\\}$. Then, the __forward__ function should take an input a variable $X$ and returns the prediction $\\hat{y} = f_{\\alpha,\\theta}(X)$.\n",
    "\n",
    "The main bricks to build neural networks within the **DRAGON** package are `dragon.search_space.cells.WeightsAdjCell` and `dragon.search_space.cells.Node`. The `WeightsAdjCell` creates a DAG and the `Node` a simple layer. Both bricks can be used to create models adapted to the task at hand. In this case we stay very simple with a single `WeightsAdjCell` embodying the neural network and a final `Node` to get the right output shape.\n",
    "\n",
    "Before the first training of a given neural network, the layers should be initialized with the right input shape. This is done using the `dragon.search_space.cells.set_node` and `dragon.search_space.cells.set_cell` functions."
   ]
  },
  {
   "cell_type": "code",
   "execution_count": 6,
   "metadata": {},
   "outputs": [],
   "source": [
    "from dragon.search_space.cells import WeightsAdjCell, set_node, set_cell\n",
    "\n",
    "\n",
    "class MetaArchi(nn.Module):\n",
    "    def __init__(self, args, input_shape):\n",
    "        super().__init__()\n",
    "        # Number of features, here equals to 16\n",
    "        self.input_shape = input_shape\n",
    "\n",
    "        # We create the DAG using the WeightsAdjCell module\n",
    "        set_cell(args['Dag'], self.input_shape)\n",
    "        self.dag = WeightsAdjCell(args['Dag'])\n",
    "\n",
    "        # We set the final layer\n",
    "        self.output = args[\"Out\"]\n",
    "        set_node(self.output, self.dag.output_shape)\n",
    "\n",
    "    def forward(self, X):\n",
    "        out = self.dag(X)\n",
    "        return self.output(out)\n",
    "    \n",
    "    def save(self, path):\n",
    "        if not os.path.exists(path):\n",
    "            os.makedirs(path)\n",
    "        full_path = os.path.join(path, \"best_model.pth\")\n",
    "        torch.save(self.state_dict(), full_path)"
   ]
  },
  {
   "cell_type": "markdown",
   "metadata": {},
   "source": [
    "### Arguments\n",
    "\n",
    "The `MetaArchi` class takes as input a dictionnary `args` containing one search space configuration ${\\alpha, \\theta}$. We now need to define what values $\\alpha$ and $\\theta$ can take. To keep it simple, we will only use `nn.Linear` and `nn.Identity` layers as candidate operations. Several ready-to-use candidate operations are available within `dragon.search_space.variables`. They are then used to build Directed Acyclic Graphs."
   ]
  },
  {
   "cell_type": "code",
   "execution_count": 7,
   "metadata": {},
   "outputs": [
    {
     "name": "stdout",
     "output_type": "stream",
     "text": [
      "An example of a generated DAG: NODES: [\n",
      "(combiner) add -- (name) <class 'dragon.search_space.bricks.basics.Identity'> -- (hp) {} -- (activation) Identity() -- , \n",
      "(combiner) concat -- (name) <class 'dragon.search_space.bricks.basics.MLP'> -- (hp) {'out_channels': 342} -- (activation) Tanh() -- ] | MATRIX:[[0, 1], [0, 0]]\n"
     ]
    }
   ],
   "source": [
    "from dragon.search_space.variables import mlp_var, identity_var, operations_1d_var, mlp_const_var, dag_var, node_var\n",
    "\n",
    "candidate_operations = operations_1d_var(\"Candidate operations\", size=10, candidates=[mlp_var(\"MLP\"), identity_var(\"Identity\")])\n",
    "dag = dag_var(\"Dag\", candidate_operations)\n",
    "print(f'An example of a generated DAG: {dag.random()}')\n",
    "\n",
    "# For the last layer, we do not want the number of output channels to be optimized. It should be equal to the number of classes.\n",
    "out = node_var(\"Out\", operation=mlp_const_var('Operation', 10), activation_function=nn.Softmax())"
   ]
  },
  {
   "cell_type": "markdown",
   "metadata": {},
   "source": [
    "With the elements `dag` and `out` we can generate composants to build a neural network."
   ]
  },
  {
   "cell_type": "code",
   "execution_count": 8,
   "metadata": {},
   "outputs": [],
   "source": [
    "args = {\"Dag\": dag.random(), \"Out\": out.random()}\n",
    "model = MetaArchi(args, input_shape=(16,))"
   ]
  },
  {
   "cell_type": "markdown",
   "metadata": {},
   "source": [
    "The final search space is an array which contain all the structural elements of the architecture as well as eventually other elements for the training for example."
   ]
  },
  {
   "cell_type": "code",
   "execution_count": 9,
   "metadata": {},
   "outputs": [],
   "source": [
    "from dragon.search_space.zellij_variables import ArrayVar\n",
    "from dragon.search_algorithm.zellij_neighborhoods import ArrayInterval\n",
    "\n",
    "search_space = ArrayVar(dag, out, label=\"Search Space\", neighbor=ArrayInterval())"
   ]
  },
  {
   "cell_type": "markdown",
   "metadata": {},
   "source": [
    "## Loss function\n",
    "\n",
    "The search algorithm should minimize a certain loss function. Typically, it consists in training the model on a train set and then validate it on a validation set."
   ]
  },
  {
   "cell_type": "code",
   "execution_count": 12,
   "metadata": {},
   "outputs": [
    {
     "name": "stdout",
     "output_type": "stream",
     "text": [
      "For a given argument, accuracy = 78.01697998787144%\n"
     ]
    }
   ],
   "source": [
    "def train_model(model, data_loader):\n",
    "    loss_fn = nn.CrossEntropyLoss()\n",
    "    optimizer = torch.optim.SGD(model.parameters(), lr=0.05)\n",
    "    model.train()\n",
    "    for _ in range(10):\n",
    "        for X,y in data_loader:\n",
    "            optimizer.zero_grad()\n",
    "            y = y.squeeze()\n",
    "            pred = model(X)\n",
    "            loss = loss_fn(pred,y)\n",
    "            loss.backward()\n",
    "            optimizer.step()\n",
    "    return model\n",
    "\n",
    "def test_model(model, data_loader):\n",
    "    loss_fn = nn.CrossEntropyLoss()\n",
    "    model.eval()\n",
    "    test_loss, correct = 0, 0\n",
    "    with torch.no_grad():\n",
    "      for X, y in data_loader:\n",
    "          y = y.squeeze(1)\n",
    "          pred = model(X)\n",
    "          loss = loss_fn(pred, y).item()\n",
    "          test_loss += loss\n",
    "          prediction = pred.argmax(axis=1)\n",
    "          correct += (prediction == y).sum().item()\n",
    "    accuracy = correct/ len(data_loader.dataset)\n",
    "    return accuracy\n",
    "\n",
    "def loss_function(args, *kwargs):\n",
    "    labels = [e.label for e in search_space]\n",
    "    args = dict(zip(labels, args))\n",
    "    model = MetaArchi(args, input_shape=(16,))\n",
    "    model = train_model(model, train_loader)\n",
    "    accuracy = test_model(model, val_loader)\n",
    "    return 1 - accuracy, model\n",
    "\n",
    "loss, model = loss_function(search_space.random())\n",
    "print(f'For a given argument, accuracy = {(1-loss)*100}%')"
   ]
  },
  {
   "cell_type": "markdown",
   "metadata": {},
   "source": [
    "# Search Algorithm\n",
    "\n",
    "We can use several search algorithms to optimize the structures from the search space. Here, we take the example of the evolutionary algorithm."
   ]
  },
  {
   "cell_type": "code",
   "execution_count": 13,
   "metadata": {},
   "outputs": [
    {
     "name": "stdout",
     "output_type": "stream",
     "text": [
      "2024-09-20 15:55:09,108 | WARNING | Install mpi4py if you want to use the distributed version.\n",
      "2024-09-20 15:55:09,112 | INFO | The whole population has been created (size = 5), models = 0\n",
      "2024-09-20 15:55:09,112 | INFO | We start by evaluating the whole population (size=5)\n",
      "2024-09-20 15:55:22,259 | INFO | Best found ! 0.8972104305639782 < inf\n",
      "2024-09-20 15:55:29,371 | INFO | Best found ! 0.06882959369314734 < 0.8972104305639782\n",
      "2024-09-20 15:56:07,081 | INFO | Best found ! 0.06064281382656156 < 0.06882959369314734\n",
      "2024-09-20 15:56:07,086 | INFO | All models have been at least evaluated once, t = 5 < 20.\n",
      "2024-09-20 15:56:07,110 | INFO | Evolving 1 and 0 to 6 and 7\n",
      "2024-09-20 15:56:15,584 | INFO | Replacing 2 by 5\n",
      "2024-09-20 15:56:15,588 | INFO | Best found ! 0.012128562765312267 < 0.06064281382656156\n",
      "2024-09-20 15:56:28,515 | INFO | Evolving 5 and 4 to 8 and 9\n",
      "2024-09-20 15:56:36,803 | INFO | Replacing 0 by 7\n",
      "2024-09-20 15:56:36,808 | INFO | Best found ! 0.007580351728320167 < 0.012128562765312267\n",
      "2024-09-20 15:56:47,016 | INFO | Replacing 3 by 8\n",
      "2024-09-20 15:56:47,032 | INFO | Evolving 7 and 5 to 10 and 11\n",
      "2024-09-20 15:56:56,221 | INFO | Replacing 1 by 9\n",
      "2024-09-20 15:57:04,209 | INFO | Replacing 4 by 10\n",
      "2024-09-20 15:57:04,236 | INFO | Evolving 10 and 9 to 12 and 13\n",
      "2024-09-20 15:57:23,653 | INFO | Replacing 8 by 12\n",
      "2024-09-20 15:57:23,676 | INFO | Evolving 12 and 7 to 14 and 15\n",
      "2024-09-20 15:57:43,739 | INFO | Replacing 5 by 14\n",
      "2024-09-20 15:57:43,740 | INFO | Best found ! 0.0072771376591873604 < 0.007580351728320167\n",
      "2024-09-20 15:57:43,762 | INFO | Evolving 9 and 7 to 16 and 17\n",
      "2024-09-20 15:58:03,760 | INFO | Evolving 10 and 7 to 18 and 19\n",
      "2024-09-20 15:58:19,657 | INFO | Replacing 9 by 18\n",
      "2024-09-20 15:58:19,671 | INFO | Evolving 7 and 18 to 20 and 21\n",
      "2024-09-20 15:58:27,686 | INFO | Replacing 10 by 19\n",
      "2024-09-20 15:58:35,638 | INFO | Replacing 19 by 20\n"
     ]
    }
   ],
   "source": [
    "from dragon.search_algorithm.ssea import SteadyStateEA\n",
    "\n",
    "search_algorithm = SteadyStateEA(search_space, n_iterations=20, population_size=5, selection_size=3, evaluation = loss_function, save_dir=\"save/test\")\n",
    "min_loss = search_algorithm.run()"
   ]
  },
  {
   "cell_type": "markdown",
   "metadata": {},
   "source": [
    "## Draw Graph\n",
    "\n",
    "After the optimization, it is possible to load the best graph and draw the architecture."
   ]
  },
  {
   "cell_type": "code",
   "execution_count": 18,
   "metadata": {},
   "outputs": [
    {
     "name": "stdout",
     "output_type": "stream",
     "text": [
      "Model giving a score of 99.27228623408126%:\n"
     ]
    },
    {
     "data": {
      "image/svg+xml": [
       "<?xml version=\"1.0\" encoding=\"UTF-8\" standalone=\"no\"?>\n",
       "<!DOCTYPE svg PUBLIC \"-//W3C//DTD SVG 1.1//EN\"\n",
       " \"http://www.w3.org/Graphics/SVG/1.1/DTD/svg11.dtd\">\n",
       "<!-- Generated by graphviz version 2.40.1 (20161225.0304)\n",
       " -->\n",
       "<!-- Title: save/test/best_archi Pages: 1 -->\n",
       "<svg width=\"518pt\" height=\"332pt\"\n",
       " viewBox=\"0.00 0.00 517.50 332.00\" xmlns=\"http://www.w3.org/2000/svg\" xmlns:xlink=\"http://www.w3.org/1999/xlink\">\n",
       "<g id=\"graph0\" class=\"graph\" transform=\"scale(1 1) rotate(0) translate(4 328)\">\n",
       "<title>save/test/best_archi</title>\n",
       "<polygon fill=\"#ffffff\" stroke=\"transparent\" points=\"-4,4 -4,-328 513.5,-328 513.5,4 -4,4\"/>\n",
       "<!-- Input -->\n",
       "<g id=\"node1\" class=\"node\">\n",
       "<title>Input</title>\n",
       "<path fill=\"#ef5675\" stroke=\"#000000\" d=\"M252,-324C252,-324 207,-324 207,-324 201,-324 195,-318 195,-312 195,-312 195,-300 195,-300 195,-294 201,-288 207,-288 207,-288 252,-288 252,-288 258,-288 264,-294 264,-300 264,-300 264,-312 264,-312 264,-318 258,-324 252,-324\"/>\n",
       "<text text-anchor=\"middle\" x=\"229.5\" y=\"-301\" font-family=\"sans-serif\" font-size=\"20.00\" fill=\"#ececec\">Input</text>\n",
       "</g>\n",
       "<!-- mul,MLP,236,Sigmoid -->\n",
       "<g id=\"node2\" class=\"node\">\n",
       "<title>mul,MLP,236,Sigmoid</title>\n",
       "<path fill=\"#ffa600\" stroke=\"#000000\" d=\"M335.5,-252C335.5,-252 123.5,-252 123.5,-252 117.5,-252 111.5,-246 111.5,-240 111.5,-240 111.5,-228 111.5,-228 111.5,-222 117.5,-216 123.5,-216 123.5,-216 335.5,-216 335.5,-216 341.5,-216 347.5,-222 347.5,-228 347.5,-228 347.5,-240 347.5,-240 347.5,-246 341.5,-252 335.5,-252\"/>\n",
       "<text text-anchor=\"middle\" x=\"229.5\" y=\"-229\" font-family=\"sans-serif\" font-size=\"20.00\" fill=\"#000000\">mul,MLP,236,Sigmoid</text>\n",
       "</g>\n",
       "<!-- Input&#45;&gt;mul,MLP,236,Sigmoid -->\n",
       "<g id=\"edge1\" class=\"edge\">\n",
       "<title>Input&#45;&gt;mul,MLP,236,Sigmoid</title>\n",
       "<path fill=\"none\" stroke=\"#000000\" d=\"M229.5,-287.8314C229.5,-280.131 229.5,-270.9743 229.5,-262.4166\"/>\n",
       "<polygon fill=\"#000000\" stroke=\"#000000\" points=\"233.0001,-262.4132 229.5,-252.4133 226.0001,-262.4133 233.0001,-262.4132\"/>\n",
       "</g>\n",
       "<!-- mul,Identity,Tanh -->\n",
       "<g id=\"node3\" class=\"node\">\n",
       "<title>mul,Identity,Tanh</title>\n",
       "<path fill=\"#ffa600\" stroke=\"#000000\" d=\"M183,-180C183,-180 12,-180 12,-180 6,-180 0,-174 0,-168 0,-168 0,-156 0,-156 0,-150 6,-144 12,-144 12,-144 183,-144 183,-144 189,-144 195,-150 195,-156 195,-156 195,-168 195,-168 195,-174 189,-180 183,-180\"/>\n",
       "<text text-anchor=\"middle\" x=\"97.5\" y=\"-157\" font-family=\"sans-serif\" font-size=\"20.00\" fill=\"#000000\">mul,Identity,Tanh</text>\n",
       "</g>\n",
       "<!-- Input&#45;&gt;mul,Identity,Tanh -->\n",
       "<g id=\"edge2\" class=\"edge\">\n",
       "<title>Input&#45;&gt;mul,Identity,Tanh</title>\n",
       "<path fill=\"none\" stroke=\"#000000\" d=\"M194.888,-301.4375C165.083,-295.5176 123.6325,-282.0993 102.5,-252 89.9813,-234.1694 89.5998,-209.1152 91.8568,-189.9675\"/>\n",
       "<polygon fill=\"#000000\" stroke=\"#000000\" points=\"95.3272,-190.4242 93.3219,-180.0209 88.4019,-189.4041 95.3272,-190.4242\"/>\n",
       "</g>\n",
       "<!-- concat,MLP,157,LeakyReLU -->\n",
       "<g id=\"node4\" class=\"node\">\n",
       "<title>concat,MLP,157,LeakyReLU</title>\n",
       "<path fill=\"#ffa600\" stroke=\"#000000\" d=\"M497.5,-180C497.5,-180 225.5,-180 225.5,-180 219.5,-180 213.5,-174 213.5,-168 213.5,-168 213.5,-156 213.5,-156 213.5,-150 219.5,-144 225.5,-144 225.5,-144 497.5,-144 497.5,-144 503.5,-144 509.5,-150 509.5,-156 509.5,-156 509.5,-168 509.5,-168 509.5,-174 503.5,-180 497.5,-180\"/>\n",
       "<text text-anchor=\"middle\" x=\"361.5\" y=\"-157\" font-family=\"sans-serif\" font-size=\"20.00\" fill=\"#000000\">concat,MLP,157,LeakyReLU</text>\n",
       "</g>\n",
       "<!-- Input&#45;&gt;concat,MLP,157,LeakyReLU -->\n",
       "<g id=\"edge3\" class=\"edge\">\n",
       "<title>Input&#45;&gt;concat,MLP,157,LeakyReLU</title>\n",
       "<path fill=\"none\" stroke=\"#000000\" d=\"M264.112,-301.4375C293.917,-295.5176 335.3675,-282.0993 356.5,-252 369.0187,-234.1694 369.4002,-209.1152 367.1432,-189.9675\"/>\n",
       "<polygon fill=\"#000000\" stroke=\"#000000\" points=\"370.5981,-189.4041 365.6781,-180.0209 363.6728,-190.4242 370.5981,-189.4041\"/>\n",
       "</g>\n",
       "<!-- mul,MLP,236,Sigmoid&#45;&gt;mul,Identity,Tanh -->\n",
       "<g id=\"edge4\" class=\"edge\">\n",
       "<title>mul,MLP,236,Sigmoid&#45;&gt;mul,Identity,Tanh</title>\n",
       "<path fill=\"none\" stroke=\"#000000\" d=\"M196.1908,-215.8314C179.0727,-206.4942 158.0294,-195.016 139.7778,-185.0606\"/>\n",
       "<polygon fill=\"#000000\" stroke=\"#000000\" points=\"141.2535,-181.8788 130.7985,-180.1628 137.9015,-188.024 141.2535,-181.8788\"/>\n",
       "</g>\n",
       "<!-- mul,MLP,236,Sigmoid&#45;&gt;concat,MLP,157,LeakyReLU -->\n",
       "<g id=\"edge5\" class=\"edge\">\n",
       "<title>mul,MLP,236,Sigmoid&#45;&gt;concat,MLP,157,LeakyReLU</title>\n",
       "<path fill=\"none\" stroke=\"#000000\" d=\"M262.8092,-215.8314C279.9273,-206.4942 300.9706,-195.016 319.2222,-185.0606\"/>\n",
       "<polygon fill=\"#000000\" stroke=\"#000000\" points=\"321.0985,-188.024 328.2015,-180.1628 317.7465,-181.8788 321.0985,-188.024\"/>\n",
       "</g>\n",
       "<!-- concat,MLP,144,Tanh -->\n",
       "<g id=\"node5\" class=\"node\">\n",
       "<title>concat,MLP,144,Tanh</title>\n",
       "<path fill=\"#ffa600\" stroke=\"#000000\" d=\"M334,-108C334,-108 125,-108 125,-108 119,-108 113,-102 113,-96 113,-96 113,-84 113,-84 113,-78 119,-72 125,-72 125,-72 334,-72 334,-72 340,-72 346,-78 346,-84 346,-84 346,-96 346,-96 346,-102 340,-108 334,-108\"/>\n",
       "<text text-anchor=\"middle\" x=\"229.5\" y=\"-85\" font-family=\"sans-serif\" font-size=\"20.00\" fill=\"#000000\">concat,MLP,144,Tanh</text>\n",
       "</g>\n",
       "<!-- mul,Identity,Tanh&#45;&gt;concat,MLP,144,Tanh -->\n",
       "<g id=\"edge6\" class=\"edge\">\n",
       "<title>mul,Identity,Tanh&#45;&gt;concat,MLP,144,Tanh</title>\n",
       "<path fill=\"none\" stroke=\"#000000\" d=\"M130.8092,-143.8314C147.9273,-134.4942 168.9706,-123.016 187.2222,-113.0606\"/>\n",
       "<polygon fill=\"#000000\" stroke=\"#000000\" points=\"189.0985,-116.024 196.2015,-108.1628 185.7465,-109.8788 189.0985,-116.024\"/>\n",
       "</g>\n",
       "<!-- concat,MLP,157,LeakyReLU&#45;&gt;concat,MLP,144,Tanh -->\n",
       "<g id=\"edge7\" class=\"edge\">\n",
       "<title>concat,MLP,157,LeakyReLU&#45;&gt;concat,MLP,144,Tanh</title>\n",
       "<path fill=\"none\" stroke=\"#000000\" d=\"M328.1908,-143.8314C311.0727,-134.4942 290.0294,-123.016 271.7778,-113.0606\"/>\n",
       "<polygon fill=\"#000000\" stroke=\"#000000\" points=\"273.2535,-109.8788 262.7985,-108.1628 269.9015,-116.024 273.2535,-109.8788\"/>\n",
       "</g>\n",
       "<!-- MLP,10,Identity() -->\n",
       "<g id=\"node6\" class=\"node\">\n",
       "<title>MLP,10,Identity()</title>\n",
       "<path fill=\"#ef5675\" stroke=\"#000000\" d=\"M313,-36C313,-36 146,-36 146,-36 140,-36 134,-30 134,-24 134,-24 134,-12 134,-12 134,-6 140,0 146,0 146,0 313,0 313,0 319,0 325,-6 325,-12 325,-12 325,-24 325,-24 325,-30 319,-36 313,-36\"/>\n",
       "<text text-anchor=\"middle\" x=\"229.5\" y=\"-13\" font-family=\"sans-serif\" font-size=\"20.00\" fill=\"#ececec\">MLP,10,Identity()</text>\n",
       "</g>\n",
       "<!-- concat,MLP,144,Tanh&#45;&gt;MLP,10,Identity() -->\n",
       "<g id=\"edge8\" class=\"edge\">\n",
       "<title>concat,MLP,144,Tanh&#45;&gt;MLP,10,Identity()</title>\n",
       "<path fill=\"none\" stroke=\"#000000\" d=\"M229.5,-71.8314C229.5,-64.131 229.5,-54.9743 229.5,-46.4166\"/>\n",
       "<polygon fill=\"#000000\" stroke=\"#000000\" points=\"233.0001,-46.4132 229.5,-36.4133 226.0001,-46.4133 233.0001,-46.4132\"/>\n",
       "</g>\n",
       "</g>\n",
       "</svg>\n"
      ],
      "text/plain": [
       "<graphviz.dot.Digraph at 0x7fa1041c5fd0>"
      ]
     },
     "execution_count": 18,
     "metadata": {},
     "output_type": "execute_result"
    }
   ],
   "source": [
    "import graphviz\n",
    "from dragon.utils.plot_functions import draw_cell, load_archi, str_operations\n",
    "\n",
    "def draw_graph(n_dag, m_dag, output_file, act=\"Identity()\", name=\"Input\"):\n",
    "    G = graphviz.Digraph(output_file, format='pdf',\n",
    "                            node_attr={'nodesep': '0.02', 'shape': 'box', 'rankstep': '0.02', 'fontsize': '20', \"fontname\": \"sans-serif\"})\n",
    "\n",
    "    G, g_nodes = draw_cell(G, n_dag, m_dag, \"#ffa600\", [], name_input=name,\n",
    "                            color_input=\"#ef5675\")\n",
    "    G.node(','.join([\"MLP\", \"10\", act]), style=\"rounded,filled\", color=\"black\", fillcolor=\"#ef5675\", fontcolor=\"#ECECEC\")\n",
    "    G.edge(g_nodes[-1], ','.join([\"MLP\", \"10\", act]))\n",
    "    return G\n",
    "\n",
    "best_model = load_archi(\"save/test/best_model/x.pkl\")\n",
    "labels = [e.label for e in search_space]\n",
    "best_model = dict(zip(labels, best_model))\n",
    "m_dag = best_model['Dag'].matrix\n",
    "n_dag = str_operations(best_model[\"Dag\"].operations)\n",
    "\n",
    "graph = draw_graph(n_dag, m_dag, \"save/test/best_archi\")\n",
    "print(f'Model giving a score of {(1-min_loss)*100}%:')\n",
    "graph"
   ]
  }
 ],
 "metadata": {
  "kernelspec": {
   "display_name": "autogluon",
   "language": "python",
   "name": "python3"
  },
  "language_info": {
   "codemirror_mode": {
    "name": "ipython",
    "version": 3
   },
   "file_extension": ".py",
   "mimetype": "text/x-python",
   "name": "python",
   "nbconvert_exporter": "python",
   "pygments_lexer": "ipython3",
   "version": "3.8.17"
  },
  "orig_nbformat": 4
 },
 "nbformat": 4,
 "nbformat_minor": 2
}
