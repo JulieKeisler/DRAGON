{
 "cells": [
  {
   "attachments": {},
   "cell_type": "markdown",
   "metadata": {},
   "source": [
    "# Quickstart"
   ]
  },
  {
   "cell_type": "code",
   "execution_count": 1,
   "metadata": {},
   "outputs": [],
   "source": [
    "import warnings\n",
    "warnings.filterwarnings('ignore')\n",
    "import torch\n",
    "import torch.nn as nn\n",
    "from torch.utils.data import Dataset, DataLoader\n",
    "import openml\n",
    "from sklearn.model_selection import train_test_split\n",
    "import numpy as np\n",
    "import os"
   ]
  },
  {
   "cell_type": "markdown",
   "metadata": {},
   "source": [
    "## Loading the dataset\n",
    "\n",
    "This tutorial introduces you to a complete machine learning pipeline to run DRAGON for a simple classification task on the *PenDigits* dataset."
   ]
  },
  {
   "cell_type": "code",
   "execution_count": 2,
   "metadata": {},
   "outputs": [
    {
     "data": {
      "text/html": [
       "<div>\n",
       "<style scoped>\n",
       "    .dataframe tbody tr th:only-of-type {\n",
       "        vertical-align: middle;\n",
       "    }\n",
       "\n",
       "    .dataframe tbody tr th {\n",
       "        vertical-align: top;\n",
       "    }\n",
       "\n",
       "    .dataframe thead th {\n",
       "        text-align: right;\n",
       "    }\n",
       "</style>\n",
       "<table border=\"1\" class=\"dataframe\">\n",
       "  <thead>\n",
       "    <tr style=\"text-align: right;\">\n",
       "      <th></th>\n",
       "      <th>input1</th>\n",
       "      <th>input2</th>\n",
       "      <th>input3</th>\n",
       "      <th>input4</th>\n",
       "      <th>input5</th>\n",
       "      <th>input6</th>\n",
       "      <th>input7</th>\n",
       "      <th>input8</th>\n",
       "      <th>input9</th>\n",
       "      <th>input10</th>\n",
       "      <th>input11</th>\n",
       "      <th>input12</th>\n",
       "      <th>input13</th>\n",
       "      <th>input14</th>\n",
       "      <th>input15</th>\n",
       "      <th>input16</th>\n",
       "      <th>class</th>\n",
       "    </tr>\n",
       "  </thead>\n",
       "  <tbody>\n",
       "    <tr>\n",
       "      <th>0</th>\n",
       "      <td>47.0</td>\n",
       "      <td>100.0</td>\n",
       "      <td>27.0</td>\n",
       "      <td>81.0</td>\n",
       "      <td>57.0</td>\n",
       "      <td>37.0</td>\n",
       "      <td>26.0</td>\n",
       "      <td>0.0</td>\n",
       "      <td>0.0</td>\n",
       "      <td>23.0</td>\n",
       "      <td>56.0</td>\n",
       "      <td>53.0</td>\n",
       "      <td>100.0</td>\n",
       "      <td>90.0</td>\n",
       "      <td>40.0</td>\n",
       "      <td>98.0</td>\n",
       "      <td>8</td>\n",
       "    </tr>\n",
       "    <tr>\n",
       "      <th>1</th>\n",
       "      <td>0.0</td>\n",
       "      <td>89.0</td>\n",
       "      <td>27.0</td>\n",
       "      <td>100.0</td>\n",
       "      <td>42.0</td>\n",
       "      <td>75.0</td>\n",
       "      <td>29.0</td>\n",
       "      <td>45.0</td>\n",
       "      <td>15.0</td>\n",
       "      <td>15.0</td>\n",
       "      <td>37.0</td>\n",
       "      <td>0.0</td>\n",
       "      <td>69.0</td>\n",
       "      <td>2.0</td>\n",
       "      <td>100.0</td>\n",
       "      <td>6.0</td>\n",
       "      <td>2</td>\n",
       "    </tr>\n",
       "    <tr>\n",
       "      <th>2</th>\n",
       "      <td>0.0</td>\n",
       "      <td>57.0</td>\n",
       "      <td>31.0</td>\n",
       "      <td>68.0</td>\n",
       "      <td>72.0</td>\n",
       "      <td>90.0</td>\n",
       "      <td>100.0</td>\n",
       "      <td>100.0</td>\n",
       "      <td>76.0</td>\n",
       "      <td>75.0</td>\n",
       "      <td>50.0</td>\n",
       "      <td>51.0</td>\n",
       "      <td>28.0</td>\n",
       "      <td>25.0</td>\n",
       "      <td>16.0</td>\n",
       "      <td>0.0</td>\n",
       "      <td>1</td>\n",
       "    </tr>\n",
       "    <tr>\n",
       "      <th>3</th>\n",
       "      <td>0.0</td>\n",
       "      <td>100.0</td>\n",
       "      <td>7.0</td>\n",
       "      <td>92.0</td>\n",
       "      <td>5.0</td>\n",
       "      <td>68.0</td>\n",
       "      <td>19.0</td>\n",
       "      <td>45.0</td>\n",
       "      <td>86.0</td>\n",
       "      <td>34.0</td>\n",
       "      <td>100.0</td>\n",
       "      <td>45.0</td>\n",
       "      <td>74.0</td>\n",
       "      <td>23.0</td>\n",
       "      <td>67.0</td>\n",
       "      <td>0.0</td>\n",
       "      <td>4</td>\n",
       "    </tr>\n",
       "    <tr>\n",
       "      <th>4</th>\n",
       "      <td>0.0</td>\n",
       "      <td>67.0</td>\n",
       "      <td>49.0</td>\n",
       "      <td>83.0</td>\n",
       "      <td>100.0</td>\n",
       "      <td>100.0</td>\n",
       "      <td>81.0</td>\n",
       "      <td>80.0</td>\n",
       "      <td>60.0</td>\n",
       "      <td>60.0</td>\n",
       "      <td>40.0</td>\n",
       "      <td>40.0</td>\n",
       "      <td>33.0</td>\n",
       "      <td>20.0</td>\n",
       "      <td>47.0</td>\n",
       "      <td>0.0</td>\n",
       "      <td>1</td>\n",
       "    </tr>\n",
       "  </tbody>\n",
       "</table>\n",
       "</div>"
      ],
      "text/plain": [
       "   input1  input2  input3  input4  input5  input6  input7  input8  input9  \\\n",
       "0    47.0   100.0    27.0    81.0    57.0    37.0    26.0     0.0     0.0   \n",
       "1     0.0    89.0    27.0   100.0    42.0    75.0    29.0    45.0    15.0   \n",
       "2     0.0    57.0    31.0    68.0    72.0    90.0   100.0   100.0    76.0   \n",
       "3     0.0   100.0     7.0    92.0     5.0    68.0    19.0    45.0    86.0   \n",
       "4     0.0    67.0    49.0    83.0   100.0   100.0    81.0    80.0    60.0   \n",
       "\n",
       "   input10  input11  input12  input13  input14  input15  input16 class  \n",
       "0     23.0     56.0     53.0    100.0     90.0     40.0     98.0     8  \n",
       "1     15.0     37.0      0.0     69.0      2.0    100.0      6.0     2  \n",
       "2     75.0     50.0     51.0     28.0     25.0     16.0      0.0     1  \n",
       "3     34.0    100.0     45.0     74.0     23.0     67.0      0.0     4  \n",
       "4     60.0     40.0     40.0     33.0     20.0     47.0      0.0     1  "
      ]
     },
     "execution_count": 2,
     "metadata": {},
     "output_type": "execute_result"
    }
   ],
   "source": [
    "dataset = openml.datasets.get_dataset(32)\n",
    "data, _, numerical, names = dataset.get_data()\n",
    "data.head()"
   ]
  },
  {
   "cell_type": "code",
   "execution_count": 3,
   "metadata": {},
   "outputs": [
    {
     "name": "stdout",
     "output_type": "stream",
     "text": [
      "X_train: (7694, 16), y_train: (7694, 1), X_val: (3298, 16), y_val: (3298, 1)\n",
      "Number of features: 16, number of classes: 1\n"
     ]
    }
   ],
   "source": [
    "X = data.drop('class', axis=1)\n",
    "y = data[[\"class\"]].astype(int)\n",
    "X_train, X_val, y_train, y_val = train_test_split(X, y, test_size=0.3, random_state=0)\n",
    "print(f\"X_train: {X_train.shape}, y_train: {y_train.shape}, X_val: {X_val.shape}, y_val: {y_val.shape}\")\n",
    "print(f\"Number of features: {X.shape[1]}, number of classes: {y.shape[1]}\")"
   ]
  },
  {
   "cell_type": "code",
   "execution_count": 4,
   "metadata": {},
   "outputs": [],
   "source": [
    "class CustomDataset(Dataset):\n",
    "    def __init__(self, X, y):\n",
    "        super().__init__()\n",
    "        self.X = torch.FloatTensor(X.values)\n",
    "        self.y = torch.LongTensor(y.values)\n",
    "    def __len__(self):\n",
    "        return self.X.shape[0]\n",
    "    def __getitem__(self, index):\n",
    "        return self.X[index], self.y[index]\n",
    "train_set = CustomDataset(X_train, y_train)\n",
    "val_set = CustomDataset(X_val, y_val)\n",
    "train_loader = DataLoader(train_set, batch_size=32, shuffle=True)\n",
    "val_loader = DataLoader(val_set, batch_size=1, shuffle=False)"
   ]
  },
  {
   "cell_type": "markdown",
   "metadata": {},
   "source": [
    "## Search Space\n",
    "\n",
    "In **DRAGON** the neural networks are represented as *Directed Acyclic Graphs (DAGs)*, where each node represents `nn.Module` layer, and the edges are the connection between them. Within the package, the DAGs are encoded using their adjaceny matrix. To know more about these objects, refer to the [Search Space](../Search_Space/index.rst) section."
   ]
  },
  {
   "attachments": {},
   "cell_type": "markdown",
   "metadata": {},
   "source": [
    "### Meta-Architecture\n",
    "\n",
    "The meta-architecture $f$ should encompasses all the considered neural networks from the search space. To define a meta-architecture usable with **DRAGON**, we create a class that inherits from `nn.Module`. The `__init__` function should take as input arguments defining a certain set of architecture and hyperparameters $\\{\\alpha, \\theta\\}$. Then, the `__forward__` function should take an input a variable $X$ and returns the prediction $\\hat{y} = f_{\\alpha,\\theta}(X)$.\n",
    "\n",
    "The main bricks to build neural networks within the **DRAGON** package are `dragon.search_space.cells.AdjMatrix` and `dragon.search_space.cells.Node`. The `AdjMatrix` creates a DAG and the `Node` a simple layer. Both bricks can be used to create models adapted to the task at hand. In this case we stay very simple with a single `AdjMatrix` embodying the neural network and a final `Node` to get the right output shape.\n",
    "\n",
    "Before the first training of a given neural network, the layers should be initialized with the right input shape."
   ]
  },
  {
   "cell_type": "code",
   "execution_count": 5,
   "metadata": {},
   "outputs": [],
   "source": [
    "from dragon.search_space.cells import AdjMatrix, Node\n",
    "\n",
    "class MetaArchi(nn.Module):\n",
    "    def __init__(self, args, input_shape):\n",
    "        super().__init__()\n",
    "        # Number of features, here equals to 16\n",
    "        self.input_shape = input_shape\n",
    "\n",
    "        # We create the DAG using the WeightsAdjCell module\n",
    "        assert isinstance(args['Dag'], AdjMatrix), f\"The 'Dag' argument should be an 'AdjMatrix'. Got {type(args['Dag'])} instead.\"\n",
    "        self.dag = args['Dag']\n",
    "        self.dag.set(input_shape)\n",
    "\n",
    "        # We set the final layer\n",
    "        assert isinstance(args['Out'], Node), f\"The 'Out' argument should be a 'Node'. Got {type(args['Node'])} instead.\"\n",
    "        self.output = args[\"Out\"]\n",
    "        self.output.set(self.dag.output_shape)\n",
    "\n",
    "    def forward(self, X):\n",
    "        out = self.dag(X)\n",
    "        return self.output(out)\n",
    "    \n",
    "    def save(self, path):\n",
    "        if not os.path.exists(path):\n",
    "            os.makedirs(path)\n",
    "        full_path = os.path.join(path, \"best_model.pth\")\n",
    "        torch.save(self.state_dict(), full_path)"
   ]
  },
  {
   "cell_type": "markdown",
   "metadata": {},
   "source": [
    "### Arguments\n",
    "\n",
    "The `MetaArchi` class takes as input a dictionnary `args` containing one search space configuration ${\\alpha, \\theta}$. We now need to define what values $\\alpha$ and $\\theta$ can take. To keep it simple, we will only use `nn.Linear` and `nn.Identity` layers as candidate operations. Several ready-to-use candidate operations are available within `dragon.search_space.bricks_variables`. They are then used to build Directed Acyclic Graphs."
   ]
  },
  {
   "cell_type": "code",
   "execution_count": 6,
   "metadata": {},
   "outputs": [
    {
     "name": "stdout",
     "output_type": "stream",
     "text": [
      "An example of a generated DAG: NODES: [\n",
      "(combiner) add -- (name) <class 'dragon.search_space.bricks.basics.Identity'> -- (hp) {} -- (activation) Identity() -- , \n",
      "(combiner) concat -- (name) <class 'dragon.search_space.bricks.basics.Identity'> -- (hp) {} -- (activation) ReLU() -- ] | MATRIX:[[0, 1], [0, 0]]\n"
     ]
    }
   ],
   "source": [
    "from dragon.search_space.bricks_variables import mlp_var, identity_var, operations_1d_var, mlp_const_var, dag_var, node_var\n",
    "\n",
    "candidate_operations = operations_1d_var(\"Candidate operations\", size=10, candidates=[mlp_var(\"MLP\"), identity_var(\"Identity\")])\n",
    "dag = dag_var(\"Dag\", candidate_operations)\n",
    "print(f'An example of a generated DAG: {dag.random()}')\n",
    "\n",
    "# For the last layer, we do not want the number of output channels to be optimized. It should be equal to the number of classes.\n",
    "out = node_var(\"Out\", operation=mlp_const_var('Operation', 10), activation_function=nn.Softmax())"
   ]
  },
  {
   "cell_type": "markdown",
   "metadata": {},
   "source": [
    "With the elements `dag` and `out` we can generate composants to build a neural network."
   ]
  },
  {
   "cell_type": "code",
   "execution_count": 7,
   "metadata": {},
   "outputs": [],
   "source": [
    "args = {\"Dag\": dag.random(), \"Out\": out.random()}\n",
    "model = MetaArchi(args, input_shape=(16,))"
   ]
  },
  {
   "cell_type": "markdown",
   "metadata": {},
   "source": [
    "The final search space is an array which contain all the structural elements of the architecture as well as eventually other elements for the training for example."
   ]
  },
  {
   "cell_type": "code",
   "execution_count": 8,
   "metadata": {},
   "outputs": [],
   "source": [
    "from dragon.search_space.zellij_variables import ArrayVar\n",
    "from dragon.search_algorithm.zellij_neighborhoods import ArrayInterval\n",
    "\n",
    "search_space = ArrayVar(dag, out, label=\"Search Space\", neighbor=ArrayInterval())"
   ]
  },
  {
   "cell_type": "markdown",
   "metadata": {},
   "source": [
    "## Loss function\n",
    "\n",
    "The search algorithm should minimize a certain loss function. Typically, it consists in training the model on a train set and then validate it on a validation set."
   ]
  },
  {
   "cell_type": "code",
   "execution_count": 9,
   "metadata": {},
   "outputs": [
    {
     "name": "stdout",
     "output_type": "stream",
     "text": [
      "For a given argument, accuracy =  9.79 %\n"
     ]
    }
   ],
   "source": [
    "def train_model(model, data_loader):\n",
    "    loss_fn = nn.CrossEntropyLoss()\n",
    "    optimizer = torch.optim.SGD(model.parameters(), lr=0.05)\n",
    "    model.train()\n",
    "    for _ in range(10):\n",
    "        for X,y in data_loader:\n",
    "            optimizer.zero_grad()\n",
    "            y = y.squeeze()\n",
    "            pred = model(X)\n",
    "            loss = loss_fn(pred,y)\n",
    "            loss.backward()\n",
    "            optimizer.step()\n",
    "    return model\n",
    "\n",
    "def test_model(model, data_loader):\n",
    "    loss_fn = nn.CrossEntropyLoss()\n",
    "    model.eval()\n",
    "    test_loss, correct = 0, 0\n",
    "    with torch.no_grad():\n",
    "      for X, y in data_loader:\n",
    "          y = y.squeeze(1)\n",
    "          pred = model(X)\n",
    "          loss = loss_fn(pred, y).item()\n",
    "          test_loss += loss\n",
    "          prediction = pred.argmax(axis=1)\n",
    "          correct += (prediction == y).sum().item()\n",
    "    accuracy = correct/ len(data_loader.dataset)\n",
    "    return accuracy\n",
    "\n",
    "def loss_function(args, *kwargs):\n",
    "    labels = [e.label for e in search_space]\n",
    "    args = dict(zip(labels, args))\n",
    "    model = MetaArchi(args, input_shape=(16,))\n",
    "    model = train_model(model, train_loader)\n",
    "    accuracy = test_model(model, val_loader)\n",
    "    return 1 - accuracy, model\n",
    "\n",
    "loss, model = loss_function(search_space.random())\n",
    "print(f'For a given argument, accuracy = ', np.round((1-loss)*100,2), '%')"
   ]
  },
  {
   "cell_type": "markdown",
   "metadata": {},
   "source": [
    "# Search Algorithm\n",
    "\n",
    "We can use several search algorithms to optimize the structures from the search space. Here, we take the example of the evolutionary algorithm."
   ]
  },
  {
   "cell_type": "code",
   "execution_count": 10,
   "metadata": {},
   "outputs": [
    {
     "name": "stdout",
     "output_type": "stream",
     "text": [
      "2024-09-24 15:22:27,954 | WARNING | Install mpi4py if you want to use the distributed version.\n",
      "2024-09-24 15:22:27,959 | INFO | The whole population has been created (size = 5), 5 have been randomy initialized.\n",
      "2024-09-24 15:22:27,960 | INFO | We start by evaluating the whole population (size=5)\n",
      "2024-09-24 15:22:35,256 | INFO | Best found ! 0.9757428744693754 < inf\n",
      "2024-09-24 15:22:39,120 | INFO | Best found ! 0.6588841722255913 < 0.9757428744693754\n",
      "2024-09-24 15:22:42,493 | INFO | Best found ! 0.05245603395997578 < 0.6588841722255913\n",
      "2024-09-24 15:23:05,819 | INFO | All models have been at least evaluated once, t = 5 < 20.\n",
      "2024-09-24 15:23:05,830 | INFO | Evolving 1 and 4 to 6 and 7\n",
      "2024-09-24 15:23:09,802 | INFO | Replacing 0 by 5\n",
      "2024-09-24 15:23:17,726 | INFO | Replacing 3 by 6\n",
      "2024-09-24 15:23:17,727 | INFO | Best found ! 0.041843541540327434 < 0.05245603395997578\n",
      "2024-09-24 15:23:17,745 | INFO | Evolving 6 and 4 to 8 and 9\n",
      "2024-09-24 15:23:23,801 | INFO | Replacing 1 by 7\n",
      "2024-09-24 15:23:31,708 | INFO | Replacing 5 by 8\n",
      "2024-09-24 15:23:31,709 | INFO | Best found ! 0.016373559733171672 < 0.041843541540327434\n",
      "2024-09-24 15:23:31,732 | INFO | Evolving 6 and 8 to 10 and 11\n",
      "2024-09-24 15:23:47,556 | INFO | Replacing 4 by 10\n",
      "2024-09-24 15:23:47,578 | INFO | Evolving 8 and 10 to 12 and 13\n",
      "2024-09-24 15:24:04,595 | INFO | Replacing 2 by 12\n",
      "2024-09-24 15:24:04,597 | INFO | Best found ! 0.012128562765312267 < 0.016373559733171672\n",
      "2024-09-24 15:24:04,621 | INFO | Evolving 12 and 8 to 14 and 15\n",
      "2024-09-24 15:24:25,007 | INFO | Replacing 7 by 14\n",
      "2024-09-24 15:24:25,027 | INFO | Evolving 12 and 8 to 16 and 17\n",
      "2024-09-24 15:24:40,783 | INFO | Replacing 6 by 16\n",
      "2024-09-24 15:24:40,806 | INFO | Evolving 12 and 8 to 18 and 19\n",
      "2024-09-24 15:25:03,910 | INFO | Evolving 16 and 14 to 20 and 21\n",
      "2024-09-24 15:25:19,196 | INFO | Replacing 10 by 20\n",
      "2024-09-24 15:25:19,197 | INFO | Best found ! 0.011218920557913847 < 0.012128562765312267\n"
     ]
    }
   ],
   "source": [
    "from dragon.search_algorithm.ssea import SteadyStateEA\n",
    "\n",
    "search_algorithm = SteadyStateEA(search_space, n_iterations=20, population_size=5, selection_size=3, evaluation = loss_function, save_dir=\"save/test\")\n",
    "min_loss = search_algorithm.run()"
   ]
  },
  {
   "cell_type": "markdown",
   "metadata": {},
   "source": [
    "## Draw Graph\n",
    "\n",
    "After the optimization, it is possible to load the best graph and draw the architecture."
   ]
  },
  {
   "cell_type": "code",
   "execution_count": 12,
   "metadata": {},
   "outputs": [
    {
     "name": "stdout",
     "output_type": "stream",
     "text": [
      "Model giving a score of  98.88 %:\n"
     ]
    },
    {
     "data": {
      "image/svg+xml": [
       "<?xml version=\"1.0\" encoding=\"UTF-8\" standalone=\"no\"?>\n",
       "<!DOCTYPE svg PUBLIC \"-//W3C//DTD SVG 1.1//EN\"\n",
       " \"http://www.w3.org/Graphics/SVG/1.1/DTD/svg11.dtd\">\n",
       "<!-- Generated by graphviz version 2.40.1 (20161225.0304)\n",
       " -->\n",
       "<!-- Title: save/test/best_archi Pages: 1 -->\n",
       "<svg width=\"499pt\" height=\"404pt\"\n",
       " viewBox=\"0.00 0.00 498.79 404.00\" xmlns=\"http://www.w3.org/2000/svg\" xmlns:xlink=\"http://www.w3.org/1999/xlink\">\n",
       "<g id=\"graph0\" class=\"graph\" transform=\"scale(1 1) rotate(0) translate(4 400)\">\n",
       "<title>save/test/best_archi</title>\n",
       "<polygon fill=\"#ffffff\" stroke=\"transparent\" points=\"-4,4 -4,-400 494.7931,-400 494.7931,4 -4,4\"/>\n",
       "<!-- Input -->\n",
       "<g id=\"node1\" class=\"node\">\n",
       "<title>Input</title>\n",
       "<path fill=\"#ef5675\" stroke=\"#000000\" d=\"M206.7931,-396C206.7931,-396 161.7931,-396 161.7931,-396 155.7931,-396 149.7931,-390 149.7931,-384 149.7931,-384 149.7931,-372 149.7931,-372 149.7931,-366 155.7931,-360 161.7931,-360 161.7931,-360 206.7931,-360 206.7931,-360 212.7931,-360 218.7931,-366 218.7931,-372 218.7931,-372 218.7931,-384 218.7931,-384 218.7931,-390 212.7931,-396 206.7931,-396\"/>\n",
       "<text text-anchor=\"middle\" x=\"184.2931\" y=\"-373\" font-family=\"sans-serif\" font-size=\"20.00\" fill=\"#ececec\">Input</text>\n",
       "</g>\n",
       "<!-- add,MLP,42,Sigmoid -->\n",
       "<g id=\"node2\" class=\"node\">\n",
       "<title>add,MLP,42,Sigmoid</title>\n",
       "<path fill=\"#ffa600\" stroke=\"#000000\" d=\"M214.2931,-324C214.2931,-324 14.2931,-324 14.2931,-324 8.2931,-324 2.2931,-318 2.2931,-312 2.2931,-312 2.2931,-300 2.2931,-300 2.2931,-294 8.2931,-288 14.2931,-288 14.2931,-288 214.2931,-288 214.2931,-288 220.2931,-288 226.2931,-294 226.2931,-300 226.2931,-300 226.2931,-312 226.2931,-312 226.2931,-318 220.2931,-324 214.2931,-324\"/>\n",
       "<text text-anchor=\"middle\" x=\"114.2931\" y=\"-301\" font-family=\"sans-serif\" font-size=\"20.00\" fill=\"#000000\">add,MLP,42,Sigmoid</text>\n",
       "</g>\n",
       "<!-- Input&#45;&gt;add,MLP,42,Sigmoid -->\n",
       "<g id=\"edge1\" class=\"edge\">\n",
       "<title>Input&#45;&gt;add,MLP,42,Sigmoid</title>\n",
       "<path fill=\"none\" stroke=\"#000000\" d=\"M166.6292,-359.8314C158.32,-351.2848 148.2668,-340.9443 139.2013,-331.6198\"/>\n",
       "<polygon fill=\"#000000\" stroke=\"#000000\" points=\"141.6752,-329.1435 132.1949,-324.4133 136.6562,-334.023 141.6752,-329.1435\"/>\n",
       "</g>\n",
       "<!-- add,Identity,LeakyReLU -->\n",
       "<g id=\"node3\" class=\"node\">\n",
       "<title>add,Identity,LeakyReLU</title>\n",
       "<path fill=\"#ffa600\" stroke=\"#000000\" d=\"M478.7931,-252C478.7931,-252 243.7931,-252 243.7931,-252 237.7931,-252 231.7931,-246 231.7931,-240 231.7931,-240 231.7931,-228 231.7931,-228 231.7931,-222 237.7931,-216 243.7931,-216 243.7931,-216 478.7931,-216 478.7931,-216 484.7931,-216 490.7931,-222 490.7931,-228 490.7931,-228 490.7931,-240 490.7931,-240 490.7931,-246 484.7931,-252 478.7931,-252\"/>\n",
       "<text text-anchor=\"middle\" x=\"361.2931\" y=\"-229\" font-family=\"sans-serif\" font-size=\"20.00\" fill=\"#000000\">add,Identity,LeakyReLU</text>\n",
       "</g>\n",
       "<!-- Input&#45;&gt;add,Identity,LeakyReLU -->\n",
       "<g id=\"edge2\" class=\"edge\">\n",
       "<title>Input&#45;&gt;add,Identity,LeakyReLU</title>\n",
       "<path fill=\"none\" stroke=\"#000000\" d=\"M206.7103,-359.7623C238.2301,-334.119 295.7328,-287.3372 331.0235,-258.6262\"/>\n",
       "<polygon fill=\"#000000\" stroke=\"#000000\" points=\"333.5096,-261.1155 339.058,-252.0896 329.092,-255.6855 333.5096,-261.1155\"/>\n",
       "</g>\n",
       "<!-- add,Identity,ReLU -->\n",
       "<g id=\"node4\" class=\"node\">\n",
       "<title>add,Identity,ReLU</title>\n",
       "<path fill=\"#ffa600\" stroke=\"#000000\" d=\"M201.7931,-252C201.7931,-252 26.7931,-252 26.7931,-252 20.7931,-252 14.7931,-246 14.7931,-240 14.7931,-240 14.7931,-228 14.7931,-228 14.7931,-222 20.7931,-216 26.7931,-216 26.7931,-216 201.7931,-216 201.7931,-216 207.7931,-216 213.7931,-222 213.7931,-228 213.7931,-228 213.7931,-240 213.7931,-240 213.7931,-246 207.7931,-252 201.7931,-252\"/>\n",
       "<text text-anchor=\"middle\" x=\"114.2931\" y=\"-229\" font-family=\"sans-serif\" font-size=\"20.00\" fill=\"#000000\">add,Identity,ReLU</text>\n",
       "</g>\n",
       "<!-- add,MLP,42,Sigmoid&#45;&gt;add,Identity,ReLU -->\n",
       "<g id=\"edge3\" class=\"edge\">\n",
       "<title>add,MLP,42,Sigmoid&#45;&gt;add,Identity,ReLU</title>\n",
       "<path fill=\"none\" stroke=\"#000000\" d=\"M114.2931,-287.8314C114.2931,-280.131 114.2931,-270.9743 114.2931,-262.4166\"/>\n",
       "<polygon fill=\"#000000\" stroke=\"#000000\" points=\"117.7932,-262.4132 114.2931,-252.4133 110.7932,-262.4133 117.7932,-262.4132\"/>\n",
       "</g>\n",
       "<!-- add,MLP,90,Sigmoid -->\n",
       "<g id=\"node6\" class=\"node\">\n",
       "<title>add,MLP,90,Sigmoid</title>\n",
       "<path fill=\"#ffa600\" stroke=\"#000000\" d=\"M273.2931,-108C273.2931,-108 73.2931,-108 73.2931,-108 67.2931,-108 61.2931,-102 61.2931,-96 61.2931,-96 61.2931,-84 61.2931,-84 61.2931,-78 67.2931,-72 73.2931,-72 73.2931,-72 273.2931,-72 273.2931,-72 279.2931,-72 285.2931,-78 285.2931,-84 285.2931,-84 285.2931,-96 285.2931,-96 285.2931,-102 279.2931,-108 273.2931,-108\"/>\n",
       "<text text-anchor=\"middle\" x=\"173.2931\" y=\"-85\" font-family=\"sans-serif\" font-size=\"20.00\" fill=\"#000000\">add,MLP,90,Sigmoid</text>\n",
       "</g>\n",
       "<!-- add,MLP,42,Sigmoid&#45;&gt;add,MLP,90,Sigmoid -->\n",
       "<g id=\"edge4\" class=\"edge\">\n",
       "<title>add,MLP,42,Sigmoid&#45;&gt;add,MLP,90,Sigmoid</title>\n",
       "<path fill=\"none\" stroke=\"#000000\" d=\"M49.4494,-287.9694C32.1288,-279.8726 15.4266,-268.3291 5.2931,-252 -3.1436,-238.4051 .1665,-231.1564 5.2931,-216 18.1956,-177.8548 29.0356,-169.387 60.2931,-144 76.0309,-131.218 95.2959,-120.5832 113.4307,-112.2272\"/>\n",
       "<polygon fill=\"#000000\" stroke=\"#000000\" points=\"115.0718,-115.3279 122.7863,-108.0659 112.2269,-108.932 115.0718,-115.3279\"/>\n",
       "</g>\n",
       "<!-- mul,MLP,404,GELU -->\n",
       "<g id=\"node5\" class=\"node\">\n",
       "<title>mul,MLP,404,GELU</title>\n",
       "<path fill=\"#ffa600\" stroke=\"#000000\" d=\"M265.2931,-180C265.2931,-180 81.2931,-180 81.2931,-180 75.2931,-180 69.2931,-174 69.2931,-168 69.2931,-168 69.2931,-156 69.2931,-156 69.2931,-150 75.2931,-144 81.2931,-144 81.2931,-144 265.2931,-144 265.2931,-144 271.2931,-144 277.2931,-150 277.2931,-156 277.2931,-156 277.2931,-168 277.2931,-168 277.2931,-174 271.2931,-180 265.2931,-180\"/>\n",
       "<text text-anchor=\"middle\" x=\"173.2931\" y=\"-157\" font-family=\"sans-serif\" font-size=\"20.00\" fill=\"#000000\">mul,MLP,404,GELU</text>\n",
       "</g>\n",
       "<!-- add,Identity,LeakyReLU&#45;&gt;mul,MLP,404,GELU -->\n",
       "<g id=\"edge5\" class=\"edge\">\n",
       "<title>add,Identity,LeakyReLU&#45;&gt;mul,MLP,404,GELU</title>\n",
       "<path fill=\"none\" stroke=\"#000000\" d=\"M313.8528,-215.8314C288.3736,-206.0734 256.7888,-193.977 230.0174,-183.7242\"/>\n",
       "<polygon fill=\"#000000\" stroke=\"#000000\" points=\"230.9827,-180.346 220.3923,-180.038 228.4791,-186.883 230.9827,-180.346\"/>\n",
       "</g>\n",
       "<!-- add,Identity,LeakyReLU&#45;&gt;add,MLP,90,Sigmoid -->\n",
       "<g id=\"edge6\" class=\"edge\">\n",
       "<title>add,Identity,LeakyReLU&#45;&gt;add,MLP,90,Sigmoid</title>\n",
       "<path fill=\"none\" stroke=\"#000000\" d=\"M349.6428,-215.7774C336.2844,-196.0335 312.7859,-164.6005 286.2931,-144 269.9942,-131.3262 250.2395,-120.6248 231.8351,-112.1764\"/>\n",
       "<polygon fill=\"#000000\" stroke=\"#000000\" points=\"233.205,-108.9551 222.6457,-108.0886 230.3599,-115.3509 233.205,-108.9551\"/>\n",
       "</g>\n",
       "<!-- add,Identity,ReLU&#45;&gt;mul,MLP,404,GELU -->\n",
       "<g id=\"edge7\" class=\"edge\">\n",
       "<title>add,Identity,ReLU&#45;&gt;mul,MLP,404,GELU</title>\n",
       "<path fill=\"none\" stroke=\"#000000\" d=\"M129.1813,-215.8314C136.0461,-207.454 144.3232,-197.3531 151.8442,-188.1749\"/>\n",
       "<polygon fill=\"#000000\" stroke=\"#000000\" points=\"154.5734,-190.3665 158.2045,-180.4133 149.159,-185.9297 154.5734,-190.3665\"/>\n",
       "</g>\n",
       "<!-- mul,MLP,404,GELU&#45;&gt;add,MLP,90,Sigmoid -->\n",
       "<g id=\"edge8\" class=\"edge\">\n",
       "<title>mul,MLP,404,GELU&#45;&gt;add,MLP,90,Sigmoid</title>\n",
       "<path fill=\"none\" stroke=\"#000000\" d=\"M173.2931,-143.8314C173.2931,-136.131 173.2931,-126.9743 173.2931,-118.4166\"/>\n",
       "<polygon fill=\"#000000\" stroke=\"#000000\" points=\"176.7932,-118.4132 173.2931,-108.4133 169.7932,-118.4133 176.7932,-118.4132\"/>\n",
       "</g>\n",
       "<!-- MLP,10,Identity() -->\n",
       "<g id=\"node7\" class=\"node\">\n",
       "<title>MLP,10,Identity()</title>\n",
       "<path fill=\"#ef5675\" stroke=\"#000000\" d=\"M256.7931,-36C256.7931,-36 89.7931,-36 89.7931,-36 83.7931,-36 77.7931,-30 77.7931,-24 77.7931,-24 77.7931,-12 77.7931,-12 77.7931,-6 83.7931,0 89.7931,0 89.7931,0 256.7931,0 256.7931,0 262.7931,0 268.7931,-6 268.7931,-12 268.7931,-12 268.7931,-24 268.7931,-24 268.7931,-30 262.7931,-36 256.7931,-36\"/>\n",
       "<text text-anchor=\"middle\" x=\"173.2931\" y=\"-13\" font-family=\"sans-serif\" font-size=\"20.00\" fill=\"#ececec\">MLP,10,Identity()</text>\n",
       "</g>\n",
       "<!-- add,MLP,90,Sigmoid&#45;&gt;MLP,10,Identity() -->\n",
       "<g id=\"edge9\" class=\"edge\">\n",
       "<title>add,MLP,90,Sigmoid&#45;&gt;MLP,10,Identity()</title>\n",
       "<path fill=\"none\" stroke=\"#000000\" d=\"M173.2931,-71.8314C173.2931,-64.131 173.2931,-54.9743 173.2931,-46.4166\"/>\n",
       "<polygon fill=\"#000000\" stroke=\"#000000\" points=\"176.7932,-46.4132 173.2931,-36.4133 169.7932,-46.4133 176.7932,-46.4132\"/>\n",
       "</g>\n",
       "</g>\n",
       "</svg>\n"
      ],
      "text/plain": [
       "<graphviz.dot.Digraph at 0x7f4b972ac370>"
      ]
     },
     "execution_count": 12,
     "metadata": {},
     "output_type": "execute_result"
    }
   ],
   "source": [
    "import graphviz\n",
    "from dragon.utils.plot_functions import draw_cell, load_archi, str_operations\n",
    "\n",
    "def draw_graph(n_dag, m_dag, output_file, act=\"Identity()\", name=\"Input\"):\n",
    "    G = graphviz.Digraph(output_file, format='pdf',\n",
    "                            node_attr={'nodesep': '0.02', 'shape': 'box', 'rankstep': '0.02', 'fontsize': '20', \"fontname\": \"sans-serif\"})\n",
    "\n",
    "    G, g_nodes = draw_cell(G, n_dag, m_dag, \"#ffa600\", [], name_input=name,\n",
    "                            color_input=\"#ef5675\")\n",
    "    G.node(','.join([\"MLP\", \"10\", act]), style=\"rounded,filled\", color=\"black\", fillcolor=\"#ef5675\", fontcolor=\"#ECECEC\")\n",
    "    G.edge(g_nodes[-1], ','.join([\"MLP\", \"10\", act]))\n",
    "    return G\n",
    "\n",
    "best_model = load_archi(\"save/test/best_model/x.pkl\")\n",
    "labels = [e.label for e in search_space]\n",
    "best_model = dict(zip(labels, best_model))\n",
    "m_dag = best_model['Dag'].matrix\n",
    "n_dag = str_operations(best_model[\"Dag\"].operations)\n",
    "\n",
    "graph = draw_graph(n_dag, m_dag, \"save/test/best_archi\")\n",
    "print(f'Model giving a score of ', np.round((1-min_loss)*100, 2), '%:')\n",
    "graph"
   ]
  }
 ],
 "metadata": {
  "kernelspec": {
   "display_name": "autogluon",
   "language": "python",
   "name": "python3"
  },
  "language_info": {
   "codemirror_mode": {
    "name": "ipython",
    "version": 3
   },
   "file_extension": ".py",
   "mimetype": "text/x-python",
   "name": "python",
   "nbconvert_exporter": "python",
   "pygments_lexer": "ipython3",
   "version": "3.8.17"
  },
  "orig_nbformat": 4
 },
 "nbformat": 4,
 "nbformat_minor": 2
}
