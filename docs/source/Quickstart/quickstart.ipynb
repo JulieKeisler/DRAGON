{
 "cells": [
  {
   "cell_type": "code",
   "execution_count": 3,
   "metadata": {},
   "outputs": [],
   "source": [
    "import os\n",
    "os.chdir(\"../../..\")"
   ]
  },
  {
   "cell_type": "code",
   "execution_count": 4,
   "metadata": {},
   "outputs": [
    {
     "name": "stdout",
     "output_type": "stream",
     "text": [
      "2023-10-12 17:32:00,598 | INFO | Started loading m1_monthly\n"
     ]
    },
    {
     "ename": "TypeError",
     "evalue": "__new__() got an unexpected keyword argument 'freq'",
     "output_type": "error",
     "traceback": [
      "\u001b[0;31m---------------------------------------------------------------------------\u001b[0m",
      "\u001b[0;31mTypeError\u001b[0m                                 Traceback (most recent call last)",
      "Cell \u001b[0;32mIn[4], line 4\u001b[0m\n\u001b[1;32m      1\u001b[0m \u001b[39mfrom\u001b[39;00m \u001b[39mdragon\u001b[39;00m\u001b[39m.\u001b[39;00m\u001b[39mexperiments\u001b[39;00m\u001b[39m.\u001b[39;00m\u001b[39mmonash_archive\u001b[39;00m\u001b[39m.\u001b[39;00m\u001b[39mdataset\u001b[39;00m \u001b[39mimport\u001b[39;00m gluonts_dataset\n\u001b[1;32m      2\u001b[0m \u001b[39mfrom\u001b[39;00m \u001b[39mdragon\u001b[39;00m\u001b[39m.\u001b[39;00m\u001b[39mexperiments\u001b[39;00m\u001b[39m.\u001b[39;00m\u001b[39mmonash_archive\u001b[39;00m\u001b[39m.\u001b[39;00m\u001b[39mdatasets_configs\u001b[39;00m \u001b[39mimport\u001b[39;00m m1_monthly_config\n\u001b[0;32m----> 4\u001b[0m train_ds, test_ds, config \u001b[39m=\u001b[39m gluonts_dataset(m1_monthly_config)\n",
      "File \u001b[0;32m~/Documents/CIFRE/Code/EvoDagsAutoDL/lib/dragon/experiments/monash_archive/dataset.py:60\u001b[0m, in \u001b[0;36mgluonts_dataset\u001b[0;34m(config)\u001b[0m\n\u001b[1;32m     55\u001b[0m     test_series_list\u001b[39m.\u001b[39mappend(test_series_data)\n\u001b[1;32m     57\u001b[0m     \u001b[39m# We use full length training series to train the model as we do not tune hyperparameters\u001b[39;00m\n\u001b[1;32m     58\u001b[0m     train_series_full_list\u001b[39m.\u001b[39mappend({\n\u001b[1;32m     59\u001b[0m         FieldName\u001b[39m.\u001b[39mTARGET: train_series_data,\n\u001b[0;32m---> 60\u001b[0m         FieldName\u001b[39m.\u001b[39mSTART: pd\u001b[39m.\u001b[39;49mTimestamp(train_start_time, freq\u001b[39m=\u001b[39;49mfreq)\n\u001b[1;32m     61\u001b[0m     })\n\u001b[1;32m     63\u001b[0m     test_series_full_list\u001b[39m.\u001b[39mappend({\n\u001b[1;32m     64\u001b[0m         FieldName\u001b[39m.\u001b[39mTARGET: series_data,\n\u001b[1;32m     65\u001b[0m         FieldName\u001b[39m.\u001b[39mSTART: pd\u001b[39m.\u001b[39mTimestamp(train_start_time, freq\u001b[39m=\u001b[39mfreq)\n\u001b[1;32m     66\u001b[0m     })\n\u001b[1;32m     68\u001b[0m train_ds \u001b[39m=\u001b[39m ListDataset(train_series_full_list, freq\u001b[39m=\u001b[39mfreq)\n",
      "File \u001b[0;32mtimestamps.pyx:1755\u001b[0m, in \u001b[0;36mpandas._libs.tslibs.timestamps.Timestamp.__new__\u001b[0;34m()\u001b[0m\n",
      "\u001b[0;31mTypeError\u001b[0m: __new__() got an unexpected keyword argument 'freq'"
     ]
    }
   ],
   "source": [
    "\n",
    "\n",
    "from dragon.experiments.monash_archive.dataset import gluonts_dataset\n",
    "from dragon.experiments.monash_archive.datasets_configs import m1_monthly_config\n",
    "\n",
    "train_ds, test_ds, config = gluonts_dataset(m1_monthly_config)\n"
   ]
  }
 ],
 "metadata": {
  "kernelspec": {
   "display_name": "autogluon",
   "language": "python",
   "name": "python3"
  },
  "language_info": {
   "codemirror_mode": {
    "name": "ipython",
    "version": 3
   },
   "file_extension": ".py",
   "mimetype": "text/x-python",
   "name": "python",
   "nbconvert_exporter": "python",
   "pygments_lexer": "ipython3",
   "version": "3.9.18"
  },
  "orig_nbformat": 4
 },
 "nbformat": 4,
 "nbformat_minor": 2
}
