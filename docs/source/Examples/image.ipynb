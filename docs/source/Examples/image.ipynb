{
 "cells": [
  {
   "attachments": {},
   "cell_type": "markdown",
   "metadata": {},
   "source": [
    "# Image Classification\n",
    "\n",
    "We show in this tutorial how to use DRAGON for image classification task. We need to create a search space with two graphs, one treating 2D data, and a second one treating 1D data.\n",
    "\n",
    "## Loading the dataset"
   ]
  },
  {
   "cell_type": "code",
   "execution_count": 1,
   "metadata": {},
   "outputs": [
    {
     "name": "stderr",
     "output_type": "stream",
     "text": [
      "/home/b98181/miniconda3/envs/autogluon/lib/python3.9/site-packages/scipy/__init__.py:138: UserWarning: A NumPy version >=1.16.5 and <1.23.0 is required for this version of SciPy (detected version 1.26.0)\n",
      "  warnings.warn(f\"A NumPy version >={np_minversion} and <{np_maxversion} is required for this version of \"\n"
     ]
    },
    {
     "data": {
      "image/png": "[encoded data removed]",
      "text/plain": [
       "<Figure size 1000x300 with 4 Axes>"
      ]
     },
     "metadata": {},
     "output_type": "display_data"
    }
   ],
   "source": [
    "from sklearn.datasets import load_digits\n",
    "import matplotlib.pyplot as plt\n",
    "\n",
    "digits = load_digits()\n",
    "\n",
    "_, axes = plt.subplots(nrows=1, ncols=4, figsize=(10, 3))\n",
    "for ax, image, label in zip(axes, digits.images, digits.target):\n",
    "    ax.set_axis_off()\n",
    "    ax.imshow(image, cmap=plt.cm.gray_r, interpolation=\"nearest\")\n",
    "    ax.set_title(\"Training: %i\" % label)\n"
   ]
  },
  {
   "cell_type": "code",
   "execution_count": 3,
   "metadata": {},
   "outputs": [],
   "source": [
    "from sklearn.model_selection import train_test_split\n",
    "\n",
    "\n",
    "X_train, X_test, y_train, y_test = train_test_split(\n",
    "    digits.images, digits.target, test_size=0.5, shuffle=False\n",
    ")"
   ]
  },
  {
   "attachments": {},
   "cell_type": "markdown",
   "metadata": {},
   "source": [
    "## Defining the Loss function\n",
    "\n",
    "#### DNN definition"
   ]
  },
  {
   "cell_type": "code",
   "execution_count": 4,
   "metadata": {},
   "outputs": [],
   "source": [
    "import torch.nn as nn\n",
    "from dragon.search_space.bricks.pooling import MaxPooling2D\n",
    "from dragon.search_space.bricks.basics import MLP\n",
    "from dragon.search_space.cells import AdjCell, CandidateOperation\n",
    "\n",
    "class ClassificationDNN(nn.Module):\n",
    "    def __init__(self, args, config) -> None:\n",
    "        super().__init__()\n",
    "        self.input_shape = config['ImageShape']\n",
    "        self.cell_2d = AdjCell(args[0], input_shape=self.input_shape)\n",
    "        input_channels = self.cell_2d.output_shape[1]\n",
    "        self.linked = CandidateOperation(\"add\", MaxPooling2D(args[1]), input_channels)\n",
    "        print(self.cell_2d.output_shape)\n",
    "        linked_shape = self.cell_2d.output_shape // args[1]\n",
    "        self.cell_1d = AdjCell(args[2], input_shape=linked_shape)\n",
    "        self.output = CandidateOperation(\"add\", MLP(in_channels=self.cell_1d.output_shape, out_channels=1), input_channels=self.cell_1d.output_shape)\n",
    "\n",
    "    def forward(self, x):\n",
    "        out_2d = self.cell_2d(x)\n",
    "        pooled = self.linked(out_2d)\n",
    "        flat = nn.Flatten()(pooled)\n",
    "        out_1d = self.cell_1d(flat)\n",
    "        out = self.output(out_1d)\n",
    "        return out"
   ]
  },
  {
   "cell_type": "code",
   "execution_count": null,
   "metadata": {},
   "outputs": [],
   "source": []
  }
 ],
 "metadata": {
  "kernelspec": {
   "display_name": "dragon_env",
   "language": "python",
   "name": "python3"
  },
  "language_info": {
   "codemirror_mode": {
    "name": "ipython",
    "version": 3
   },
   "file_extension": ".py",
   "mimetype": "text/x-python",
   "name": "python",
   "nbconvert_exporter": "python",
   "pygments_lexer": "ipython3",
   "version": "3.9.17"
  },
  "orig_nbformat": 4
 },
 "nbformat": 4,
 "nbformat_minor": 2
}
