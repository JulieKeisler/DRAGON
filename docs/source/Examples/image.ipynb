{
 "cells": [
  {
   "attachments": {},
   "cell_type": "markdown",
   "metadata": {},
   "source": [
    "# Image Classification\n",
    "\n",
    "We show in this tutorial how to use DRAGON for image classification task. We need to create a search space with two graphs, one treating 2D data, and a second one treating 1D data.\n",
    "\n",
    "## Loading the dataset"
   ]
  },
  {
   "cell_type": "code",
   "execution_count": 1,
   "metadata": {},
   "outputs": [
    {
     "name": "stderr",
     "output_type": "stream",
     "text": [
      "/home/b98181/miniconda3/envs/autogluon/lib/python3.9/site-packages/scipy/__init__.py:138: UserWarning: A NumPy version >=1.16.5 and <1.23.0 is required for this version of SciPy (detected version 1.26.0)\n",
      "  warnings.warn(f\"A NumPy version >={np_minversion} and <{np_maxversion} is required for this version of \"\n"
     ]
    },
    {
     "data": {
      "image/png": "[encoded data removed]",
      "text/plain": [
       "<Figure size 1000x300 with 4 Axes>"
      ]
     },
     "metadata": {},
     "output_type": "display_data"
    }
   ],
   "source": [
    "from sklearn.datasets import load_digits\n",
    "import matplotlib.pyplot as plt\n",
    "\n",
    "digits = load_digits()\n",
    "\n",
    "_, axes = plt.subplots(nrows=1, ncols=4, figsize=(10, 3))\n",
    "for ax, image, label in zip(axes, digits.images, digits.target):\n",
    "    ax.set_axis_off()\n",
    "    ax.imshow(image, cmap=plt.cm.gray_r, interpolation=\"nearest\")\n",
    "    ax.set_title(\"Training: %i\" % label)\n"
   ]
  },
  {
   "cell_type": "code",
   "execution_count": 2,
   "metadata": {},
   "outputs": [],
   "source": [
    "from sklearn.model_selection import train_test_split\n",
    "\n",
    "\n",
    "X_train, X_test, y_train, y_test = train_test_split(\n",
    "    digits.images, digits.target, test_size=0.5, shuffle=False\n",
    ")"
   ]
  },
  {
   "attachments": {},
   "cell_type": "markdown",
   "metadata": {},
   "source": [
    "## Defining the Loss function\n",
    "\n",
    "#### DNN definition"
   ]
  },
  {
   "cell_type": "code",
   "execution_count": 3,
   "metadata": {},
   "outputs": [
    {
     "name": "stdout",
     "output_type": "stream",
     "text": [
      "2023-10-16 12:08:47,868 | INFO | The logger has been created.\n",
      "2023-10-16 12:08:47,889 | INFO | To use MPILoss object you need to install mpi4py and an MPI distribution\n",
      "    You can use: pip install zellij[MPI]\n"
     ]
    }
   ],
   "source": [
    "import numpy as np\n",
    "import torch.nn as nn\n",
    "from dragon.search_space.bricks.pooling import MaxPooling2D\n",
    "from dragon.search_space.bricks.basics import MLP\n",
    "from dragon.search_space.cells import AdjCell, CandidateOperation\n",
    "\n",
    "class ClassificationDNN(nn.Module):\n",
    "    def __init__(self, args, config) -> None:\n",
    "        super().__init__()\n",
    "        self.input_shape = config['ImageShape']\n",
    "        self.output_shape = config['OutputShape']\n",
    "        self.cell_2d = AdjCell(args[0], input_shape=self.input_shape)\n",
    "        input_channels = max(args[1]+1, self.cell_2d.output_shape)\n",
    "        self.linked = CandidateOperation(\"add\", MaxPooling2D(args[1]), input_channels)\n",
    "        linked_shape = (self.input_shape[0] * self.input_shape[1] * input_channels) // args[1]\n",
    "        self.cell_1d = AdjCell(args[2], input_shape=(linked_shape,))\n",
    "        self.output = CandidateOperation(\"add\", MLP(in_channels=self.cell_1d.output_shape, out_channels=self.output_shape), input_channels=self.cell_1d.output_shape)\n",
    "\n",
    "    def forward(self, X, **kwargs):\n",
    "        out_2d = self.cell_2d(X)\n",
    "        pooled = self.linked(out_2d)\n",
    "        flat = nn.Flatten()(pooled)\n",
    "        out_1d = self.cell_1d(flat)\n",
    "        out = nn.Softmax()(self.output(out_1d))\n",
    "        return out"
   ]
  },
  {
   "attachments": {},
   "cell_type": "markdown",
   "metadata": {},
   "source": [
    "### Search Space Definition"
   ]
  },
  {
   "cell_type": "code",
   "execution_count": 4,
   "metadata": {},
   "outputs": [
    {
     "name": "stdout",
     "output_type": "stream",
     "text": [
      "Random Points:\n"
     ]
    },
    {
     "data": {
      "text/html": [
       "<div>\n",
       "<style scoped>\n",
       "    .dataframe tbody tr th:only-of-type {\n",
       "        vertical-align: middle;\n",
       "    }\n",
       "\n",
       "    .dataframe tbody tr th {\n",
       "        vertical-align: top;\n",
       "    }\n",
       "\n",
       "    .dataframe thead th {\n",
       "        text-align: right;\n",
       "    }\n",
       "</style>\n",
       "<table border=\"1\" class=\"dataframe\">\n",
       "  <thead>\n",
       "    <tr style=\"text-align: right;\">\n",
       "      <th></th>\n",
       "      <th>ST Cell</th>\n",
       "      <th>Pooling Size</th>\n",
       "      <th>Feed Cell</th>\n",
       "      <th>Seed</th>\n",
       "    </tr>\n",
       "  </thead>\n",
       "  <tbody>\n",
       "    <tr>\n",
       "      <th>0</th>\n",
       "      <td>NODES: [['Input'], ['add', 'Identity'], ['mul'...</td>\n",
       "      <td>5</td>\n",
       "      <td>NODES: [['Input'], ['mul', 'Identity'], ['mul'...</td>\n",
       "      <td>5812</td>\n",
       "    </tr>\n",
       "    <tr>\n",
       "      <th>1</th>\n",
       "      <td>NODES: [['Input'], ['mul', 'MLP', 297, 'sigmoi...</td>\n",
       "      <td>2</td>\n",
       "      <td>NODES: [['Input'], ['add', 'Identity'], ['add'...</td>\n",
       "      <td>857</td>\n",
       "    </tr>\n",
       "  </tbody>\n",
       "</table>\n",
       "</div>"
      ],
      "text/plain": [
       "                                             ST Cell  Pooling Size  \\\n",
       "0  NODES: [['Input'], ['add', 'Identity'], ['mul'...             5   \n",
       "1  NODES: [['Input'], ['mul', 'MLP', 297, 'sigmoi...             2   \n",
       "\n",
       "                                           Feed Cell  Seed  \n",
       "0  NODES: [['Input'], ['mul', 'Identity'], ['mul'...  5812  \n",
       "1  NODES: [['Input'], ['add', 'Identity'], ['add'...   857  "
      ]
     },
     "execution_count": 4,
     "metadata": {},
     "output_type": "execute_result"
    }
   ],
   "source": [
    "from zellij.core.variables import CatVar, ArrayVar, DynamicBlock\n",
    "from zellij.utils.neighborhoods import ArrayInterval, DynamicBlockInterval\n",
    "\n",
    "from dragon.search_algorithm.neighborhoods import LayersInterval, AdjMatrixInterval\n",
    "from dragon.search_space.dags import AdjMatrixVariable\n",
    "from dragon.search_space.variables import unitary_var, mlp_var, create_int_var, convolution_var_2d, dropout_var, norm_2d_var \n",
    "\n",
    "# We define the candidate operations for each nodes in the graph.\n",
    "def st_operations_var(label, shape, max_size):\n",
    "    return DynamicBlock(\n",
    "        label,\n",
    "        CatVar(\n",
    "            label + \"Candidates\",\n",
    "            [\n",
    "                unitary_var(label + \" Unitary\"),\n",
    "                mlp_var(label + \" MLP\"),\n",
    "                convolution_var_2d(label + \"Convolution\", kernel=shape),\n",
    "                norm_2d_var(label + \" Norm\"),\n",
    "                dropout_var(label + \" Dropout\"),\n",
    "            ],\n",
    "            neighbor=LayersInterval([2, 1]),\n",
    "        ),\n",
    "        max_size,\n",
    "        neighbor=DynamicBlockInterval(neighborhood=2),\n",
    "    )\n",
    "\n",
    "def feed_operations_var(label, max_size):\n",
    "    return DynamicBlock(\n",
    "        label,\n",
    "        CatVar(\n",
    "            label + \"Candidates\",\n",
    "            [\n",
    "                unitary_var(label + \" Unitary\"),\n",
    "                mlp_var(label + \" MLP\"),\n",
    "            ],\n",
    "            neighbor=LayersInterval([2, 1]),\n",
    "        ),\n",
    "        max_size,\n",
    "        neighbor=DynamicBlockInterval(neighborhood=2),\n",
    "    )\n",
    "\n",
    "# We define the serach space, a graph handling one-dimensional data, and the final activation function before the prediction.\n",
    "def NN_monash_var(shape, label=\"Neural Network\", max_size=5):\n",
    "    NeuralNetwork = ArrayVar(\n",
    "        AdjMatrixVariable(\n",
    "            \"ST Cell\",\n",
    "            st_operations_var(\"ST Cell\", shape, max_size),\n",
    "            neighbor=AdjMatrixInterval()\n",
    "        ),\n",
    "        create_int_var(\"Pooling Size\", None, 1, 5),\n",
    "        AdjMatrixVariable(\n",
    "            \"Feed Cell\",\n",
    "            feed_operations_var(\"Feed Cell\", max_size),\n",
    "            neighbor=AdjMatrixInterval()\n",
    "        ),\n",
    "        create_int_var(\"Seed\", None, 0, 10000),\n",
    "        label=label,\n",
    "        neighbor=ArrayInterval(),\n",
    "    )\n",
    "    return NeuralNetwork\n",
    "\n",
    "sp = NN_monash_var(shape=X_train[0].shape[0])\n",
    "\n",
    "p1,p2 = sp.random(), sp.random()\n",
    "import pandas as pd\n",
    "print(\"Random Points:\")\n",
    "pd.DataFrame([p1,p2], columns=[e.label for e in sp])"
   ]
  },
  {
   "attachments": {},
   "cell_type": "markdown",
   "metadata": {},
   "source": [
    "### DNN Training"
   ]
  },
  {
   "cell_type": "code",
   "execution_count": 5,
   "metadata": {},
   "outputs": [
    {
     "name": "stdout",
     "output_type": "stream",
     "text": [
      "  epoch    train_loss    valid_acc    valid_loss     dur\n",
      "-------  ------------  -----------  ------------  ------\n",
      "      1        \u001b[36m2.3367\u001b[0m       \u001b[32m0.0722\u001b[0m        \u001b[35m2.3090\u001b[0m  0.0948\n",
      "      2        \u001b[36m2.3100\u001b[0m       \u001b[32m0.1000\u001b[0m        \u001b[35m2.2871\u001b[0m  0.0253\n",
      "      3        \u001b[36m2.2864\u001b[0m       \u001b[32m0.1167\u001b[0m        \u001b[35m2.2652\u001b[0m  0.0257\n",
      "      4        \u001b[36m2.2624\u001b[0m       \u001b[32m0.1556\u001b[0m        \u001b[35m2.2404\u001b[0m  0.0266\n",
      "      5        \u001b[36m2.2346\u001b[0m       \u001b[32m0.1889\u001b[0m        \u001b[35m2.2098\u001b[0m  0.0436\n",
      "      6        \u001b[36m2.1997\u001b[0m       \u001b[32m0.2500\u001b[0m        \u001b[35m2.1702\u001b[0m  0.0532\n",
      "      7        \u001b[36m2.1546\u001b[0m       \u001b[32m0.2889\u001b[0m        \u001b[35m2.1170\u001b[0m  0.0305\n",
      "      8        \u001b[36m2.0938\u001b[0m       \u001b[32m0.3167\u001b[0m        \u001b[35m2.0446\u001b[0m  0.0280\n",
      "      9        \u001b[36m2.0127\u001b[0m       \u001b[32m0.3556\u001b[0m        \u001b[35m1.9501\u001b[0m  0.0268\n",
      "     10        \u001b[36m1.9106\u001b[0m       \u001b[32m0.3833\u001b[0m        \u001b[35m1.8361\u001b[0m  0.0278\n",
      "P1 ==> accuracy:  36.6 %\n",
      "\n",
      "  epoch    train_loss    valid_acc    valid_loss     dur\n",
      "-------  ------------  -----------  ------------  ------\n",
      "      1        \u001b[36m2.2810\u001b[0m       \u001b[32m0.4056\u001b[0m        \u001b[35m2.1544\u001b[0m  0.2627\n",
      "      2        \u001b[36m2.1002\u001b[0m       \u001b[32m0.5944\u001b[0m        \u001b[35m2.0106\u001b[0m  0.2623\n",
      "      3        \u001b[36m1.9601\u001b[0m       \u001b[32m0.6944\u001b[0m        \u001b[35m1.8782\u001b[0m  0.2823\n",
      "      4        \u001b[36m1.8362\u001b[0m       0.6333        \u001b[35m1.7896\u001b[0m  0.2769\n",
      "      5        \u001b[36m1.7281\u001b[0m       \u001b[32m0.8000\u001b[0m        \u001b[35m1.6804\u001b[0m  0.2874\n",
      "      6        \u001b[36m1.6454\u001b[0m       0.7611        \u001b[35m1.6020\u001b[0m  0.3174\n",
      "      7        \u001b[36m1.5655\u001b[0m       0.7611        \u001b[35m1.5378\u001b[0m  0.3152\n",
      "      8        \u001b[36m1.4820\u001b[0m       0.7667        \u001b[35m1.4694\u001b[0m  0.3278\n",
      "      9        \u001b[36m1.4379\u001b[0m       0.7833        \u001b[35m1.4039\u001b[0m  0.3078\n",
      "     10        \u001b[36m1.3834\u001b[0m       0.7833        \u001b[35m1.3562\u001b[0m  0.3306\n",
      "P2 ==> accuracy:  82.65 %\n"
     ]
    }
   ],
   "source": [
    "from skorch import NeuralNetClassifier\n",
    "from sklearn.metrics import accuracy_score\n",
    "from dragon.utils.tools import set_seed\n",
    "\n",
    "def train_and_predict(args, verbose=False):\n",
    "    set_seed(0)\n",
    "    model = NeuralNetClassifier(\n",
    "        ClassificationDNN(args, {'ImageShape': (8,8,1), 'OutputShape': 10}),\n",
    "        max_epochs=10,\n",
    "        lr=0.01,\n",
    "        iterator_train__shuffle=True,\n",
    "        verbose=verbose,\n",
    "        \n",
    "    )\n",
    "    model.fit(np.expand_dims(X_train.astype(np.float32), axis=-1), y_train.astype(np.int64))\n",
    "    y_pred = model.predict(np.expand_dims(X_test.astype(np.float32), axis=-1))\n",
    "    acc = accuracy_score(y_test, y_pred)\n",
    "    return - acc # We are optimizing a minimization problem\n",
    "\n",
    "print(\"P1 ==> accuracy: \", np.round(-train_and_predict(p1,verbose=True)*100,2), \"%\\n\")\n",
    "print(\"P2 ==> accuracy: \", np.round(-train_and_predict(p2,verbose=True)*100,2), \"%\")"
   ]
  },
  {
   "attachments": {},
   "cell_type": "markdown",
   "metadata": {},
   "source": [
    "### Implementing an optimization strategy\n"
   ]
  },
  {
   "cell_type": "code",
   "execution_count": 9,
   "metadata": {},
   "outputs": [
    {
     "data": {
      "text/html": [
       "<style>\n",
       ".enlighten-fg-white {\n",
       "  color: #e5e5e5;\n",
       "}\n",
       ".enlighten-fg-cyan {\n",
       "  color: #00cdcd;\n",
       "}\n",
       ".enlighten-fg-orange {\n",
       "  color: #ffa500;\n",
       "}\n",
       "</style>\n",
       "<div class=\"enlighten\">\n",
       "  <div class=\"enlighten-bar\">\n",
       "    <pre>Improvements 2 solutions [00:15, 0.14 solutions/s]                                                  </pre>\n",
       "  </div>\n",
       "  <div class=\"enlighten-bar\">\n",
       "    <pre>Loss calls   0%|<span class=\"enlighten-fg-white\">                                     </span>| Pending:      0 Explor:     12 Exploi:      0</pre>\n",
       "  </div>\n",
       "  <div class=\"enlighten-bar\">\n",
       "    <pre>   Genetic_algorithm 100%|<span class=\"enlighten-fg-white\">████████████████████████████████████████████████████████████████████████</span>| </pre>\n",
       "  </div>\n",
       "</div>\n"
      ],
      "text/plain": [
       "<IPython.core.display.HTML object>"
      ]
     },
     "metadata": {},
     "output_type": "display_data"
    },
    {
     "name": "stdout",
     "output_type": "stream",
     "text": [
      "Best score: 92.66%\n",
      "Best solution found:\n",
      "f([[NODES: [['Input'], ['add', 'MLP', 71, 'id'], ['concat', 'Dropout', 0.46345097738448293]] | MATRIX:[[0, 1, 1], [0, 0, 1], [0, 0, 0]], 2, NODES: [['Input'], ['mul', 'Identity'], ['mul', 'MLP', 450, 'elu']] | MATRIX:[[0, 1, 0], [0, 0, 1], [0, 0, 0]], 4647]])\n",
      "Computation time: 14.75 seconds\n"
     ]
    }
   ],
   "source": [
    "import time\n",
    "from zellij.core import Loss    \n",
    "from dragon.search_algorithm.pb_configuration import problem_configuration\n",
    "\n",
    "import logging\n",
    "log_dragon = logging.getLogger(\"\")\n",
    "log_dragon.setLevel('CRITICAL')\n",
    "\n",
    "exp_config = {\n",
    "    \"MetaHeuristic\": \"GA\",\n",
    "    \"Generations\": 2,\n",
    "    \"PopSize\": 4,\n",
    "    \"MutationRate\": 0.7,\n",
    "    \"TournamentRate\": 10,\n",
    "    \"ElitismRate\": 0.1,\n",
    "    \"RandomRate\": 0.1,\n",
    "    \"Neighborhood\": \"Full\"\n",
    "}\n",
    "\n",
    "\n",
    "loss = Loss(MPI=False, verbose=False, save=True)(train_and_predict)\n",
    "_, search_algorithm = problem_configuration(exp_config, sp, loss)\n",
    "\n",
    "start_time = time.time()\n",
    "best, score = search_algorithm.run()\n",
    "end_time = time.time() - start_time\n",
    "print(f\"Best score: {np.round(-score[0]*100,2)}%\\nBest solution found:\\nf({best})\\nComputation time: {np.round(end_time,2)} seconds\")"
   ]
  },
  {
   "attachments": {},
   "cell_type": "markdown",
   "metadata": {},
   "source": [
    "Starting with a completely random sets of DNNs, we managed in les than 2 generations to converge towards an accuracy higher than 90%."
   ]
  },
  {
   "cell_type": "code",
   "execution_count": 44,
   "metadata": {},
   "outputs": [
    {
     "name": "stdout",
     "output_type": "stream",
     "text": [
      "Final accuracy:  94.33 %\n",
      "\n"
     ]
    }
   ],
   "source": [
    "set_seed(0)\n",
    "model = NeuralNetClassifier(\n",
    "    ClassificationDNN(best[0], {'ImageShape': (8,8,1), 'OutputShape': 10}),\n",
    "    max_epochs=100,\n",
    "    lr=0.01,\n",
    "    iterator_train__shuffle=True,\n",
    "    verbose=False,\n",
    "    \n",
    ")\n",
    "model.fit(np.expand_dims(X_train.astype(np.float32), axis=-1), y_train.astype(np.int64))\n",
    "y_pred = model.predict(np.expand_dims(X_test.astype(np.float32), axis=-1))\n",
    "acc = accuracy_score(y_test, y_pred)\n",
    "\n",
    "print(\"Final accuracy: \", np.round(acc*100,2), \"%\\n\")"
   ]
  },
  {
   "cell_type": "code",
   "execution_count": 45,
   "metadata": {},
   "outputs": [
    {
     "data": {
      "image/png": "[encoded data removed]",
      "text/plain": [
       "<Figure size 640x480 with 2 Axes>"
      ]
     },
     "metadata": {},
     "output_type": "display_data"
    }
   ],
   "source": [
    "from sklearn import metrics\n",
    "disp = metrics.ConfusionMatrixDisplay.from_predictions(y_test, y_pred)\n",
    "disp.figure_.suptitle(\"Confusion Matrix\")\n",
    "plt.show()"
   ]
  },
  {
   "attachments": {},
   "cell_type": "markdown",
   "metadata": {},
   "source": [
    "### Application to CIFAR-10"
   ]
  },
  {
   "cell_type": "code",
   "execution_count": null,
   "metadata": {},
   "outputs": [],
   "source": [
    "from tensorflow import keras\n",
    "from keras.datasets import cifar10\n",
    "(Xtrain, ytrain), (Xtest, ytest) = cifar10.load_data()\n",
    "\n",
    "#Explore Dataset\n",
    "\n",
    "print('Train: X=%s, y=%s' % (Xtrain.shape, ytrain.shape))\n",
    "print('Test: X=%s, y=%s' % (Xtest.shape, ytest.shape))\n",
    "# plot first few images\n",
    "for i in range(9):\n",
    "\t# define subplot\n",
    "\tplt.subplot(330 + 1 + i)\n",
    "\t# plot raw pixel data\n",
    "\tplt.imshow(Xtest[i])\n",
    "# show the figure\n",
    "plt.show()"
   ]
  }
 ],
 "metadata": {
  "kernelspec": {
   "display_name": "dragon_env",
   "language": "python",
   "name": "python3"
  },
  "language_info": {
   "codemirror_mode": {
    "name": "ipython",
    "version": 3
   },
   "file_extension": ".py",
   "mimetype": "text/x-python",
   "name": "python",
   "nbconvert_exporter": "python",
   "pygments_lexer": "ipython3",
   "version": "3.9.17"
  },
  "orig_nbformat": 4
 },
 "nbformat": 4,
 "nbformat_minor": 2
}
