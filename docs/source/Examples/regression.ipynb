{
 "cells": [
  {
   "attachments": {},
   "cell_type": "markdown",
   "metadata": {},
   "source": [
    "# Quickstart\n",
    "\n",
    "In this tutorial, for computation time issues, we will use a small time series forecasting task.\n",
    "(e.g. training a neural network is time consumming).\n",
    "More applications here: :ref:`examples`.\n",
    "\n",
    "## Loading the dataset"
   ]
  },
  {
   "cell_type": "code",
   "execution_count": 11,
   "metadata": {},
   "outputs": [],
   "source": [
    "from sklearn.datasets import load_diabetes\n",
    "from sklearn.model_selection import train_test_split\n",
    "\n",
    "\n",
    "X, y = load_diabetes(as_frame=True, return_X_y=True)\n",
    "X_train, y_train, X_test, y_test = train_test_split(X, y)"
   ]
  },
  {
   "attachments": {},
   "cell_type": "markdown",
   "metadata": {},
   "source": [
    "## Defining the Loss function\n",
    "\n",
    "#### DNN definition"
   ]
  },
  {
   "cell_type": "code",
   "execution_count": null,
   "metadata": {},
   "outputs": [],
   "source": [
    "import torch.nn as nn\n",
    "from dragon.search_space.cells import AdjCell\n",
    "\n",
    "class RegressionDNN(nn.Module):\n",
    "    def __init__(self, args, config) -> None:\n",
    "        super().__init__()\n",
    "        self.input_shape = config['InputShape']\n",
    "        self.output_shape = config['OutputShape']\n",
    "        self.cell = AdjCell(args[0], input_shape=self.input_shape)\n",
    "        self.output = \n",
    "\n",
    "    def forward(self, x):\n",
    "        cell_out = self.cell(x)\n",
    "        output_out = self.output(cell_out)\n",
    "        return output_out"
   ]
  }
 ],
 "metadata": {
  "kernelspec": {
   "display_name": "dragon_env",
   "language": "python",
   "name": "python3"
  },
  "language_info": {
   "codemirror_mode": {
    "name": "ipython",
    "version": 3
   },
   "file_extension": ".py",
   "mimetype": "text/x-python",
   "name": "python",
   "nbconvert_exporter": "python",
   "pygments_lexer": "ipython3",
   "version": "3.9.17"
  },
  "orig_nbformat": 4
 },
 "nbformat": 4,
 "nbformat_minor": 2
}
