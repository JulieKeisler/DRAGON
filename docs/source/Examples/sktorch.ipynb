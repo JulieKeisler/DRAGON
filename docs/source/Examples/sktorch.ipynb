{
 "cells": [
  {
   "cell_type": "code",
   "execution_count": null,
   "metadata": {},
   "outputs": [],
   "source": []
  },
  {
   "attachments": {},
   "cell_type": "markdown",
   "metadata": {},
   "source": [
    "# Sktorch\n",
    "\n",
    "**DRAGON** is a framework automatizing the creation of DNN architectures and the hyperparameters optimization. However yet no work has been done on the training procedure, whose implementation is left to the user. If you are not familiar with Pytorch you may want to use the **Sktorch** package to help you train the DNN."
   ]
  }
 ],
 "metadata": {
  "language_info": {
   "name": "python"
  },
  "orig_nbformat": 4
 },
 "nbformat": 4,
 "nbformat_minor": 2
}
