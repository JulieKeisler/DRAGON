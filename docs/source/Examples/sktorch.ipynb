{
 "cells": [
  {
   "attachments": {},
   "cell_type": "markdown",
   "metadata": {},
   "source": [
    "# Sktorch\n",
    "\n",
    "**DRAGON** is a framework automatizing the creation of DNN architectures and the hyperparameters optimization. However yet no work has been done on the training procedure, whose implementation is left to the user. If you are not familiar with Pytorch you may want to use the **Sktorch** package to help you train the DNN."
   ]
  },
  {
   "cell_type": "code",
   "execution_count": 1,
   "metadata": {},
   "outputs": [
    {
     "name": "stderr",
     "output_type": "stream",
     "text": [
      "/home/b98181/miniconda3/envs/autogluon/lib/python3.9/site-packages/scipy/__init__.py:138: UserWarning: A NumPy version >=1.16.5 and <1.23.0 is required for this version of SciPy (detected version 1.26.0)\n",
      "  warnings.warn(f\"A NumPy version >={np_minversion} and <{np_maxversion} is required for this version of \"\n"
     ]
    },
    {
     "name": "stdout",
     "output_type": "stream",
     "text": [
      "downloading Olivetti faces from https://ndownloader.figshare.com/files/5976027 to /home/b98181/scikit_learn_data\n"
     ]
    },
    {
     "ename": "NameError",
     "evalue": "name 'check_random_state' is not defined",
     "output_type": "error",
     "traceback": [
      "\u001b[0;31m---------------------------------------------------------------------------\u001b[0m",
      "\u001b[0;31mNameError\u001b[0m                                 Traceback (most recent call last)",
      "Cell \u001b[0;32mIn[1], line 9\u001b[0m\n\u001b[1;32m      6\u001b[0m test \u001b[39m=\u001b[39m data[targets \u001b[39m>\u001b[39m\u001b[39m=\u001b[39m \u001b[39m30\u001b[39m]\n\u001b[1;32m      8\u001b[0m n_faces \u001b[39m=\u001b[39m \u001b[39m5\u001b[39m\n\u001b[0;32m----> 9\u001b[0m rng \u001b[39m=\u001b[39m check_random_state(\u001b[39m4\u001b[39m)\n\u001b[1;32m     10\u001b[0m face_ids \u001b[39m=\u001b[39m rng\u001b[39m.\u001b[39mrandint(test\u001b[39m.\u001b[39mshape[\u001b[39m0\u001b[39m], size\u001b[39m=\u001b[39m(n_faces,))\n\u001b[1;32m     11\u001b[0m test \u001b[39m=\u001b[39m test[face_ids, :]\n",
      "\u001b[0;31mNameError\u001b[0m: name 'check_random_state' is not defined"
     ]
    }
   ],
   "source": [
    "from sklearn.datasets import fetch_olivetti_faces\n",
    "\n",
    "data, targets = fetch_olivetti_faces(return_X_y=True)\n",
    "\n",
    "train = data[targets < 30]\n",
    "test = data[targets >= 30]\n",
    "\n",
    "n_faces = 5\n",
    "rng = check_random_state(4)\n",
    "face_ids = rng.randint(test.shape[0], size=(n_faces,))\n",
    "test = test[face_ids, :]\n",
    "\n",
    "n_pixels = data.shape[1]\n",
    "# Upper half of the faces\n",
    "X_train = train[:, : (n_pixels + 1) // 2]\n",
    "# Lower half of the faces\n",
    "y_train = train[:, n_pixels // 2 :]\n",
    "X_test = test[:, : (n_pixels + 1) // 2]\n",
    "y_test = test[:, n_pixels // 2 :]"
   ]
  }
 ],
 "metadata": {
  "kernelspec": {
   "display_name": "autogluon",
   "language": "python",
   "name": "python3"
  },
  "language_info": {
   "codemirror_mode": {
    "name": "ipython",
    "version": 3
   },
   "file_extension": ".py",
   "mimetype": "text/x-python",
   "name": "python",
   "nbconvert_exporter": "python",
   "pygments_lexer": "ipython3",
   "version": "3.9.17"
  },
  "orig_nbformat": 4
 },
 "nbformat": 4,
 "nbformat_minor": 2
}
